{
  "cells": [
    {
      "cell_type": "markdown",
      "metadata": {
        "id": "cpQS0mPOW8yL"
      },
      "source": [
        "![](https://images.unsplash.com/photo-1701940616836-12baf70dc4f0?q=80&w=2028&auto=format&fit=crop&ixlib=rb-4.0.3&ixid=M3wxMjA3fDB8MHxwaG90by1wYWdlfHx8fGVufDB8fHx8fA%3D%3D)"
      ]
    },
    {
      "cell_type": "markdown",
      "metadata": {
        "id": "T6HnjWoTW8tI"
      },
      "source": [
        "# Dataset: urban mobility\n",
        "\n",
        "We have dataset about urban mobility that includes various features related to transportation modes and usage patterns in a city.\n",
        "\n",
        "### Features:\n",
        "1. **Distance (km)**: Numerical (continuous). Represents the distance of a trip.\n",
        "2. **Traffic Density**: Categorical (Low, Medium, High). Captures the level of traffic in the region where the trip takes place.\n",
        "3. **Time of Day**: Categorical (Morning, Afternoon, Evening, Night). Reflects the period in which the trip occurs.\n",
        "4. **Weather Condition**: Categorical (Clear, Rainy, Foggy, Snowy). Indicates the weather at the time of the trip.\n",
        "5. **Travel Duration (mins)**: Numerical (continuous). The total time taken for the trip.\n",
        "6. **Average Speed (km/h)**: Numerical (continuous). Average speed during the trip.\n",
        "7. **Transport Mode**: Categorical (Walk, Bike, Bus, Train, Car, Motorcycle). This is the target variable, representing the mode of transportation.\n"
      ]
    },
    {
      "cell_type": "code",
      "execution_count": null,
      "metadata": {
        "colab": {
          "base_uri": "https://localhost:8080/",
          "height": 206
        },
        "id": "0aP_g4BfZ1i2",
        "outputId": "31a2cbea-6948-4580-c280-51fcf222cf5b"
      },
      "outputs": [
        {
          "data": {
            "application/vnd.google.colaboratory.intrinsic+json": {
              "summary": "{\n  \"name\": \"urban\",\n  \"rows\": 215,\n  \"fields\": [\n    {\n      \"column\": \"Distance (km)\",\n      \"properties\": {\n        \"dtype\": \"number\",\n        \"std\": 5.8437248045568655,\n        \"min\": 0.61,\n        \"max\": 19.84,\n        \"num_unique_values\": 189,\n        \"samples\": [\n          1.81,\n          2.61,\n          5.96\n        ],\n        \"semantic_type\": \"\",\n        \"description\": \"\"\n      }\n    },\n    {\n      \"column\": \"Traffic Density\",\n      \"properties\": {\n        \"dtype\": \"category\",\n        \"num_unique_values\": 3,\n        \"samples\": [\n          \"Low\",\n          \"Medium\",\n          \"High\"\n        ],\n        \"semantic_type\": \"\",\n        \"description\": \"\"\n      }\n    },\n    {\n      \"column\": \"Time of Day\",\n      \"properties\": {\n        \"dtype\": \"category\",\n        \"num_unique_values\": 4,\n        \"samples\": [\n          \"Night\",\n          \"Morning\",\n          \"Evening\"\n        ],\n        \"semantic_type\": \"\",\n        \"description\": \"\"\n      }\n    },\n    {\n      \"column\": \"Weather Condition\",\n      \"properties\": {\n        \"dtype\": \"category\",\n        \"num_unique_values\": 4,\n        \"samples\": [\n          \"Snowy\",\n          \"Foggy\",\n          \"Rainy\"\n        ],\n        \"semantic_type\": \"\",\n        \"description\": \"\"\n      }\n    },\n    {\n      \"column\": \"Travel Duration (mins)\",\n      \"properties\": {\n        \"dtype\": \"number\",\n        \"std\": 10.912850359902018,\n        \"min\": 3.0,\n        \"max\": 63.5,\n        \"num_unique_values\": 149,\n        \"samples\": [\n          19.6,\n          25.5,\n          6.6\n        ],\n        \"semantic_type\": \"\",\n        \"description\": \"\"\n      }\n    },\n    {\n      \"column\": \"Avg Speed (km/h)\",\n      \"properties\": {\n        \"dtype\": \"number\",\n        \"std\": 14.122067461728472,\n        \"min\": 3.4,\n        \"max\": 59.9,\n        \"num_unique_values\": 160,\n        \"samples\": [\n          23.6,\n          44.5,\n          24.1\n        ],\n        \"semantic_type\": \"\",\n        \"description\": \"\"\n      }\n    },\n    {\n      \"column\": \"Transport Mode\",\n      \"properties\": {\n        \"dtype\": \"category\",\n        \"num_unique_values\": 5,\n        \"samples\": [\n          \"Car\",\n          \"Train\",\n          \"Bus\"\n        ],\n        \"semantic_type\": \"\",\n        \"description\": \"\"\n      }\n    }\n  ]\n}",
              "type": "dataframe",
              "variable_name": "urban"
            },
            "text/html": [
              "\n",
              "  <div id=\"df-8e04541a-ce42-4e8e-af89-3c3f248748fa\" class=\"colab-df-container\">\n",
              "    <div>\n",
              "<style scoped>\n",
              "    .dataframe tbody tr th:only-of-type {\n",
              "        vertical-align: middle;\n",
              "    }\n",
              "\n",
              "    .dataframe tbody tr th {\n",
              "        vertical-align: top;\n",
              "    }\n",
              "\n",
              "    .dataframe thead th {\n",
              "        text-align: right;\n",
              "    }\n",
              "</style>\n",
              "<table border=\"1\" class=\"dataframe\">\n",
              "  <thead>\n",
              "    <tr style=\"text-align: right;\">\n",
              "      <th></th>\n",
              "      <th>Distance (km)</th>\n",
              "      <th>Traffic Density</th>\n",
              "      <th>Time of Day</th>\n",
              "      <th>Weather Condition</th>\n",
              "      <th>Travel Duration (mins)</th>\n",
              "      <th>Avg Speed (km/h)</th>\n",
              "      <th>Transport Mode</th>\n",
              "    </tr>\n",
              "  </thead>\n",
              "  <tbody>\n",
              "    <tr>\n",
              "      <th>0</th>\n",
              "      <td>0.93</td>\n",
              "      <td>Low</td>\n",
              "      <td>Evening</td>\n",
              "      <td>Rainy</td>\n",
              "      <td>8.9</td>\n",
              "      <td>6.3</td>\n",
              "      <td>Walk</td>\n",
              "    </tr>\n",
              "    <tr>\n",
              "      <th>1</th>\n",
              "      <td>1.77</td>\n",
              "      <td>Medium</td>\n",
              "      <td>Night</td>\n",
              "      <td>Snowy</td>\n",
              "      <td>31.5</td>\n",
              "      <td>3.4</td>\n",
              "      <td>Walk</td>\n",
              "    </tr>\n",
              "    <tr>\n",
              "      <th>2</th>\n",
              "      <td>9.15</td>\n",
              "      <td>Low</td>\n",
              "      <td>Afternoon</td>\n",
              "      <td>Rainy</td>\n",
              "      <td>16.9</td>\n",
              "      <td>32.5</td>\n",
              "      <td>Car</td>\n",
              "    </tr>\n",
              "    <tr>\n",
              "      <th>3</th>\n",
              "      <td>17.25</td>\n",
              "      <td>Medium</td>\n",
              "      <td>Morning</td>\n",
              "      <td>Clear</td>\n",
              "      <td>40.6</td>\n",
              "      <td>25.5</td>\n",
              "      <td>Car</td>\n",
              "    </tr>\n",
              "    <tr>\n",
              "      <th>4</th>\n",
              "      <td>5.80</td>\n",
              "      <td>High</td>\n",
              "      <td>Afternoon</td>\n",
              "      <td>Foggy</td>\n",
              "      <td>10.9</td>\n",
              "      <td>31.9</td>\n",
              "      <td>Bus</td>\n",
              "    </tr>\n",
              "  </tbody>\n",
              "</table>\n",
              "</div>\n",
              "    <div class=\"colab-df-buttons\">\n",
              "\n",
              "  <div class=\"colab-df-container\">\n",
              "    <button class=\"colab-df-convert\" onclick=\"convertToInteractive('df-8e04541a-ce42-4e8e-af89-3c3f248748fa')\"\n",
              "            title=\"Convert this dataframe to an interactive table.\"\n",
              "            style=\"display:none;\">\n",
              "\n",
              "  <svg xmlns=\"http://www.w3.org/2000/svg\" height=\"24px\" viewBox=\"0 -960 960 960\">\n",
              "    <path d=\"M120-120v-720h720v720H120Zm60-500h600v-160H180v160Zm220 220h160v-160H400v160Zm0 220h160v-160H400v160ZM180-400h160v-160H180v160Zm440 0h160v-160H620v160ZM180-180h160v-160H180v160Zm440 0h160v-160H620v160Z\"/>\n",
              "  </svg>\n",
              "    </button>\n",
              "\n",
              "  <style>\n",
              "    .colab-df-container {\n",
              "      display:flex;\n",
              "      gap: 12px;\n",
              "    }\n",
              "\n",
              "    .colab-df-convert {\n",
              "      background-color: #E8F0FE;\n",
              "      border: none;\n",
              "      border-radius: 50%;\n",
              "      cursor: pointer;\n",
              "      display: none;\n",
              "      fill: #1967D2;\n",
              "      height: 32px;\n",
              "      padding: 0 0 0 0;\n",
              "      width: 32px;\n",
              "    }\n",
              "\n",
              "    .colab-df-convert:hover {\n",
              "      background-color: #E2EBFA;\n",
              "      box-shadow: 0px 1px 2px rgba(60, 64, 67, 0.3), 0px 1px 3px 1px rgba(60, 64, 67, 0.15);\n",
              "      fill: #174EA6;\n",
              "    }\n",
              "\n",
              "    .colab-df-buttons div {\n",
              "      margin-bottom: 4px;\n",
              "    }\n",
              "\n",
              "    [theme=dark] .colab-df-convert {\n",
              "      background-color: #3B4455;\n",
              "      fill: #D2E3FC;\n",
              "    }\n",
              "\n",
              "    [theme=dark] .colab-df-convert:hover {\n",
              "      background-color: #434B5C;\n",
              "      box-shadow: 0px 1px 3px 1px rgba(0, 0, 0, 0.15);\n",
              "      filter: drop-shadow(0px 1px 2px rgba(0, 0, 0, 0.3));\n",
              "      fill: #FFFFFF;\n",
              "    }\n",
              "  </style>\n",
              "\n",
              "    <script>\n",
              "      const buttonEl =\n",
              "        document.querySelector('#df-8e04541a-ce42-4e8e-af89-3c3f248748fa button.colab-df-convert');\n",
              "      buttonEl.style.display =\n",
              "        google.colab.kernel.accessAllowed ? 'block' : 'none';\n",
              "\n",
              "      async function convertToInteractive(key) {\n",
              "        const element = document.querySelector('#df-8e04541a-ce42-4e8e-af89-3c3f248748fa');\n",
              "        const dataTable =\n",
              "          await google.colab.kernel.invokeFunction('convertToInteractive',\n",
              "                                                    [key], {});\n",
              "        if (!dataTable) return;\n",
              "\n",
              "        const docLinkHtml = 'Like what you see? Visit the ' +\n",
              "          '<a target=\"_blank\" href=https://colab.research.google.com/notebooks/data_table.ipynb>data table notebook</a>'\n",
              "          + ' to learn more about interactive tables.';\n",
              "        element.innerHTML = '';\n",
              "        dataTable['output_type'] = 'display_data';\n",
              "        await google.colab.output.renderOutput(dataTable, element);\n",
              "        const docLink = document.createElement('div');\n",
              "        docLink.innerHTML = docLinkHtml;\n",
              "        element.appendChild(docLink);\n",
              "      }\n",
              "    </script>\n",
              "  </div>\n",
              "\n",
              "\n",
              "<div id=\"df-9f4628f1-d677-4f46-bfba-215b67de4ffe\">\n",
              "  <button class=\"colab-df-quickchart\" onclick=\"quickchart('df-9f4628f1-d677-4f46-bfba-215b67de4ffe')\"\n",
              "            title=\"Suggest charts\"\n",
              "            style=\"display:none;\">\n",
              "\n",
              "<svg xmlns=\"http://www.w3.org/2000/svg\" height=\"24px\"viewBox=\"0 0 24 24\"\n",
              "     width=\"24px\">\n",
              "    <g>\n",
              "        <path d=\"M19 3H5c-1.1 0-2 .9-2 2v14c0 1.1.9 2 2 2h14c1.1 0 2-.9 2-2V5c0-1.1-.9-2-2-2zM9 17H7v-7h2v7zm4 0h-2V7h2v10zm4 0h-2v-4h2v4z\"/>\n",
              "    </g>\n",
              "</svg>\n",
              "  </button>\n",
              "\n",
              "<style>\n",
              "  .colab-df-quickchart {\n",
              "      --bg-color: #E8F0FE;\n",
              "      --fill-color: #1967D2;\n",
              "      --hover-bg-color: #E2EBFA;\n",
              "      --hover-fill-color: #174EA6;\n",
              "      --disabled-fill-color: #AAA;\n",
              "      --disabled-bg-color: #DDD;\n",
              "  }\n",
              "\n",
              "  [theme=dark] .colab-df-quickchart {\n",
              "      --bg-color: #3B4455;\n",
              "      --fill-color: #D2E3FC;\n",
              "      --hover-bg-color: #434B5C;\n",
              "      --hover-fill-color: #FFFFFF;\n",
              "      --disabled-bg-color: #3B4455;\n",
              "      --disabled-fill-color: #666;\n",
              "  }\n",
              "\n",
              "  .colab-df-quickchart {\n",
              "    background-color: var(--bg-color);\n",
              "    border: none;\n",
              "    border-radius: 50%;\n",
              "    cursor: pointer;\n",
              "    display: none;\n",
              "    fill: var(--fill-color);\n",
              "    height: 32px;\n",
              "    padding: 0;\n",
              "    width: 32px;\n",
              "  }\n",
              "\n",
              "  .colab-df-quickchart:hover {\n",
              "    background-color: var(--hover-bg-color);\n",
              "    box-shadow: 0 1px 2px rgba(60, 64, 67, 0.3), 0 1px 3px 1px rgba(60, 64, 67, 0.15);\n",
              "    fill: var(--button-hover-fill-color);\n",
              "  }\n",
              "\n",
              "  .colab-df-quickchart-complete:disabled,\n",
              "  .colab-df-quickchart-complete:disabled:hover {\n",
              "    background-color: var(--disabled-bg-color);\n",
              "    fill: var(--disabled-fill-color);\n",
              "    box-shadow: none;\n",
              "  }\n",
              "\n",
              "  .colab-df-spinner {\n",
              "    border: 2px solid var(--fill-color);\n",
              "    border-color: transparent;\n",
              "    border-bottom-color: var(--fill-color);\n",
              "    animation:\n",
              "      spin 1s steps(1) infinite;\n",
              "  }\n",
              "\n",
              "  @keyframes spin {\n",
              "    0% {\n",
              "      border-color: transparent;\n",
              "      border-bottom-color: var(--fill-color);\n",
              "      border-left-color: var(--fill-color);\n",
              "    }\n",
              "    20% {\n",
              "      border-color: transparent;\n",
              "      border-left-color: var(--fill-color);\n",
              "      border-top-color: var(--fill-color);\n",
              "    }\n",
              "    30% {\n",
              "      border-color: transparent;\n",
              "      border-left-color: var(--fill-color);\n",
              "      border-top-color: var(--fill-color);\n",
              "      border-right-color: var(--fill-color);\n",
              "    }\n",
              "    40% {\n",
              "      border-color: transparent;\n",
              "      border-right-color: var(--fill-color);\n",
              "      border-top-color: var(--fill-color);\n",
              "    }\n",
              "    60% {\n",
              "      border-color: transparent;\n",
              "      border-right-color: var(--fill-color);\n",
              "    }\n",
              "    80% {\n",
              "      border-color: transparent;\n",
              "      border-right-color: var(--fill-color);\n",
              "      border-bottom-color: var(--fill-color);\n",
              "    }\n",
              "    90% {\n",
              "      border-color: transparent;\n",
              "      border-bottom-color: var(--fill-color);\n",
              "    }\n",
              "  }\n",
              "</style>\n",
              "\n",
              "  <script>\n",
              "    async function quickchart(key) {\n",
              "      const quickchartButtonEl =\n",
              "        document.querySelector('#' + key + ' button');\n",
              "      quickchartButtonEl.disabled = true;  // To prevent multiple clicks.\n",
              "      quickchartButtonEl.classList.add('colab-df-spinner');\n",
              "      try {\n",
              "        const charts = await google.colab.kernel.invokeFunction(\n",
              "            'suggestCharts', [key], {});\n",
              "      } catch (error) {\n",
              "        console.error('Error during call to suggestCharts:', error);\n",
              "      }\n",
              "      quickchartButtonEl.classList.remove('colab-df-spinner');\n",
              "      quickchartButtonEl.classList.add('colab-df-quickchart-complete');\n",
              "    }\n",
              "    (() => {\n",
              "      let quickchartButtonEl =\n",
              "        document.querySelector('#df-9f4628f1-d677-4f46-bfba-215b67de4ffe button');\n",
              "      quickchartButtonEl.style.display =\n",
              "        google.colab.kernel.accessAllowed ? 'block' : 'none';\n",
              "    })();\n",
              "  </script>\n",
              "</div>\n",
              "\n",
              "    </div>\n",
              "  </div>\n"
            ],
            "text/plain": [
              "   Distance (km) Traffic Density Time of Day Weather Condition  \\\n",
              "0           0.93             Low     Evening             Rainy   \n",
              "1           1.77          Medium       Night             Snowy   \n",
              "2           9.15             Low   Afternoon             Rainy   \n",
              "3          17.25          Medium     Morning             Clear   \n",
              "4           5.80            High   Afternoon             Foggy   \n",
              "\n",
              "   Travel Duration (mins)  Avg Speed (km/h) Transport Mode  \n",
              "0                     8.9               6.3           Walk  \n",
              "1                    31.5               3.4           Walk  \n",
              "2                    16.9              32.5            Car  \n",
              "3                    40.6              25.5            Car  \n",
              "4                    10.9              31.9            Bus  "
            ]
          },
          "execution_count": 22,
          "metadata": {},
          "output_type": "execute_result"
        }
      ],
      "source": [
        "import pandas as pd\n",
        "import plotly.express as px\n",
        "\n",
        "urban = pd.read_csv(\"https://cs.calvin.edu/courses/data/202/fsantos/datasets/urban_mobility.csv\")\n",
        "urban.head()"
      ]
    },
    {
      "cell_type": "markdown",
      "metadata": {
        "id": "CfWD5QfTG950"
      },
      "source": [
        "# Getting better visualizations"
      ]
    },
    {
      "cell_type": "markdown",
      "metadata": {
        "id": "v79qw20GCIg8"
      },
      "source": [
        "**📝 Exercise 1**: What is wrong about that horrible plot??? Try to correct the mappings and visual cues so that you can visualize it better.\n",
        "(No unique answer here. You don't need to show everything... just choose a subset of interesting variables.)."
      ]
    },
    {
      "cell_type": "code",
      "execution_count": null,
      "metadata": {
        "colab": {
          "base_uri": "https://localhost:8080/",
          "height": 617
        },
        "id": "-3lqcMDKi4RJ",
        "outputId": "44c9a3c3-46c6-41df-bb2b-23f550de749c"
      },
      "outputs": [
        {
          "data": {
            "text/html": [
              "<html>\n",
              "<head><meta charset=\"utf-8\" /></head>\n",
              "<body>\n",
              "    <div>            <script src=\"https://cdnjs.cloudflare.com/ajax/libs/mathjax/2.7.5/MathJax.js?config=TeX-AMS-MML_SVG\"></script><script type=\"text/javascript\">if (window.MathJax && window.MathJax.Hub && window.MathJax.Hub.Config) {window.MathJax.Hub.Config({SVG: {font: \"STIX-Web\"}});}</script>                <script type=\"text/javascript\">window.PlotlyConfig = {MathJaxConfig: 'local'};</script>\n",
              "        <script charset=\"utf-8\" src=\"https://cdn.plot.ly/plotly-2.35.2.min.js\"></script>                <div id=\"81026ce3-a18b-4d92-bf56-66a97a048d07\" class=\"plotly-graph-div\" style=\"height:600px; width:600px;\"></div>            <script type=\"text/javascript\">                                    window.PLOTLYENV=window.PLOTLYENV || {};                                    if (document.getElementById(\"81026ce3-a18b-4d92-bf56-66a97a048d07\")) {                    Plotly.newPlot(                        \"81026ce3-a18b-4d92-bf56-66a97a048d07\",                        [{\"hovertemplate\":\"Transport Mode=%{y}\\u003cbr\\u003eWeather Condition=Rainy\\u003cbr\\u003eTraffic Density=Low\\u003cbr\\u003eDistance (km)=%{x}\\u003cbr\\u003eAvg Speed (km\\u002fh)=%{marker.size}\\u003cbr\\u003eTravel Duration (mins)=%{marker.color}\\u003cextra\\u003e\\u003c\\u002fextra\\u003e\",\"legendgroup\":\"Walk\",\"marker\":{\"color\":[8.9,8.9,8.9,8.9,8.9,8.9,8.9,8.9,8.9,8.9],\"coloraxis\":\"coloraxis\",\"opacity\":1.0,\"size\":[6.3,6.3,6.3,6.3,6.3,6.3,6.3,6.3,6.3,6.3],\"sizemode\":\"area\",\"sizeref\":0.14975,\"symbol\":\"circle\"},\"mode\":\"markers\",\"name\":\"Walk\",\"orientation\":\"h\",\"showlegend\":true,\"x\":[0.93,0.93,0.93,0.93,0.93,0.93,0.93,0.93,0.93,0.93],\"xaxis\":\"x10\",\"y\":[\"Walk\",\"Walk\",\"Walk\",\"Walk\",\"Walk\",\"Walk\",\"Walk\",\"Walk\",\"Walk\",\"Walk\"],\"yaxis\":\"y10\",\"type\":\"scatter\"},{\"hovertemplate\":\"Transport Mode=%{y}\\u003cbr\\u003eWeather Condition=Rainy\\u003cbr\\u003eTraffic Density=Medium\\u003cbr\\u003eDistance (km)=%{x}\\u003cbr\\u003eAvg Speed (km\\u002fh)=%{marker.size}\\u003cbr\\u003eTravel Duration (mins)=%{marker.color}\\u003cextra\\u003e\\u003c\\u002fextra\\u003e\",\"legendgroup\":\"Walk\",\"marker\":{\"color\":[26.2,26.2,26.2],\"coloraxis\":\"coloraxis\",\"opacity\":1.0,\"size\":[4.4,4.4,4.4],\"sizemode\":\"area\",\"sizeref\":0.14975,\"symbol\":\"circle\"},\"mode\":\"markers\",\"name\":\"Walk\",\"orientation\":\"h\",\"showlegend\":false,\"x\":[1.92,1.92,1.92],\"xaxis\":\"x11\",\"y\":[\"Walk\",\"Walk\",\"Walk\"],\"yaxis\":\"y11\",\"type\":\"scatter\"},{\"hovertemplate\":\"Transport Mode=%{y}\\u003cbr\\u003eWeather Condition=Snowy\\u003cbr\\u003eTraffic Density=Medium\\u003cbr\\u003eDistance (km)=%{x}\\u003cbr\\u003eAvg Speed (km\\u002fh)=%{marker.size}\\u003cbr\\u003eTravel Duration (mins)=%{marker.color}\\u003cextra\\u003e\\u003c\\u002fextra\\u003e\",\"legendgroup\":\"Walk\",\"marker\":{\"color\":[31.5,31.5,31.5,31.5,31.5],\"coloraxis\":\"coloraxis\",\"opacity\":1.0,\"size\":[3.4,3.4,3.4,3.4,3.4],\"sizemode\":\"area\",\"sizeref\":0.14975,\"symbol\":\"circle\"},\"mode\":\"markers\",\"name\":\"Walk\",\"orientation\":\"h\",\"showlegend\":false,\"x\":[1.77,1.77,1.77,1.77,1.77],\"xaxis\":\"x8\",\"y\":[\"Walk\",\"Walk\",\"Walk\",\"Walk\",\"Walk\"],\"yaxis\":\"y8\",\"type\":\"scatter\"},{\"hovertemplate\":\"Transport Mode=%{y}\\u003cbr\\u003eWeather Condition=Rainy\\u003cbr\\u003eTraffic Density=Low\\u003cbr\\u003eDistance (km)=%{x}\\u003cbr\\u003eAvg Speed (km\\u002fh)=%{marker.size}\\u003cbr\\u003eTravel Duration (mins)=%{marker.color}\\u003cextra\\u003e\\u003c\\u002fextra\\u003e\",\"legendgroup\":\"Car\",\"marker\":{\"color\":[16.9,16.1,42.7,9.7,61.1,19.9,31.3,54.3,47.6],\"coloraxis\":\"coloraxis\",\"opacity\":1.0,\"size\":[32.5,34.5,18.4,32.8,18.9,34.6,19.1,19.2,23.9],\"sizemode\":\"area\",\"sizeref\":0.14975,\"symbol\":\"diamond\"},\"mode\":\"markers\",\"name\":\"Car\",\"orientation\":\"h\",\"showlegend\":true,\"x\":[9.15,9.25,13.11,5.31,19.29,11.47,9.94,17.39,19.0],\"xaxis\":\"x10\",\"y\":[\"Car\",\"Car\",\"Car\",\"Car\",\"Car\",\"Car\",\"Car\",\"Car\",\"Car\"],\"yaxis\":\"y10\",\"type\":\"scatter\"},{\"hovertemplate\":\"Transport Mode=%{y}\\u003cbr\\u003eWeather Condition=Rainy\\u003cbr\\u003eTraffic Density=Medium\\u003cbr\\u003eDistance (km)=%{x}\\u003cbr\\u003eAvg Speed (km\\u002fh)=%{marker.size}\\u003cbr\\u003eTravel Duration (mins)=%{marker.color}\\u003cextra\\u003e\\u003c\\u002fextra\\u003e\",\"legendgroup\":\"Car\",\"marker\":{\"color\":[21.7,28.1,29.3,29.0,31.1,15.0,39.7],\"coloraxis\":\"coloraxis\",\"opacity\":1.0,\"size\":[22.8,25.1,26.1,32.6,30.4,22.0,28.2],\"sizemode\":\"area\",\"sizeref\":0.14975,\"symbol\":\"diamond\"},\"mode\":\"markers\",\"name\":\"Car\",\"orientation\":\"h\",\"showlegend\":false,\"x\":[8.25,11.76,12.75,15.74,15.75,5.49,18.65],\"xaxis\":\"x11\",\"y\":[\"Car\",\"Car\",\"Car\",\"Car\",\"Car\",\"Car\",\"Car\"],\"yaxis\":\"y11\",\"type\":\"scatter\"},{\"hovertemplate\":\"Transport Mode=%{y}\\u003cbr\\u003eWeather Condition=Rainy\\u003cbr\\u003eTraffic Density=High\\u003cbr\\u003eDistance (km)=%{x}\\u003cbr\\u003eAvg Speed (km\\u002fh)=%{marker.size}\\u003cbr\\u003eTravel Duration (mins)=%{marker.color}\\u003cextra\\u003e\\u003c\\u002fextra\\u003e\",\"legendgroup\":\"Car\",\"marker\":{\"color\":[40.8,40.5,13.4,22.6,37.6,34.6],\"coloraxis\":\"coloraxis\",\"opacity\":1.0,\"size\":[25.6,23.1,24.7,30.6,21.0,25.9],\"sizemode\":\"area\",\"sizeref\":0.14975,\"symbol\":\"diamond\"},\"mode\":\"markers\",\"name\":\"Car\",\"orientation\":\"h\",\"showlegend\":false,\"x\":[17.4,15.62,5.51,11.53,13.19,14.92],\"xaxis\":\"x12\",\"y\":[\"Car\",\"Car\",\"Car\",\"Car\",\"Car\",\"Car\"],\"yaxis\":\"y12\",\"type\":\"scatter\"},{\"hovertemplate\":\"Transport Mode=%{y}\\u003cbr\\u003eWeather Condition=Snowy\\u003cbr\\u003eTraffic Density=Low\\u003cbr\\u003eDistance (km)=%{x}\\u003cbr\\u003eAvg Speed (km\\u002fh)=%{marker.size}\\u003cbr\\u003eTravel Duration (mins)=%{marker.color}\\u003cextra\\u003e\\u003c\\u002fextra\\u003e\",\"legendgroup\":\"Car\",\"marker\":{\"color\":[35.9,32.5,16.3,38.7,38.2,15.7,34.1,49.3,10.9,14.9],\"coloraxis\":\"coloraxis\",\"opacity\":1.0,\"size\":[33.1,18.1,30.1,28.5,18.1,22.9,22.7,24.1,33.4,22.6],\"sizemode\":\"area\",\"sizeref\":0.14975,\"symbol\":\"diamond\"},\"mode\":\"markers\",\"name\":\"Car\",\"orientation\":\"h\",\"showlegend\":false,\"x\":[19.79,9.79,8.19,18.37,11.51,5.98,12.9,19.84,6.06,5.6],\"xaxis\":\"x7\",\"y\":[\"Car\",\"Car\",\"Car\",\"Car\",\"Car\",\"Car\",\"Car\",\"Car\",\"Car\",\"Car\"],\"yaxis\":\"y7\",\"type\":\"scatter\"},{\"hovertemplate\":\"Transport Mode=%{y}\\u003cbr\\u003eWeather Condition=Snowy\\u003cbr\\u003eTraffic Density=Medium\\u003cbr\\u003eDistance (km)=%{x}\\u003cbr\\u003eAvg Speed (km\\u002fh)=%{marker.size}\\u003cbr\\u003eTravel Duration (mins)=%{marker.color}\\u003cextra\\u003e\\u003c\\u002fextra\\u003e\",\"legendgroup\":\"Car\",\"marker\":{\"color\":[21.3,22.2,27.3,15.2,35.4,17.5,23.6,33.0,26.5,15.3],\"coloraxis\":\"coloraxis\",\"opacity\":1.0,\"size\":[33.1,28.8,27.3,34.5,31.0,27.7,24.3,23.6,27.3,30.4],\"sizemode\":\"area\",\"sizeref\":0.14975,\"symbol\":\"diamond\"},\"mode\":\"markers\",\"name\":\"Car\",\"orientation\":\"h\",\"showlegend\":false,\"x\":[11.76,10.67,12.41,8.74,18.31,8.09,9.55,12.98,12.04,7.74],\"xaxis\":\"x8\",\"y\":[\"Car\",\"Car\",\"Car\",\"Car\",\"Car\",\"Car\",\"Car\",\"Car\",\"Car\",\"Car\"],\"yaxis\":\"y8\",\"type\":\"scatter\"},{\"hovertemplate\":\"Transport Mode=%{y}\\u003cbr\\u003eWeather Condition=Snowy\\u003cbr\\u003eTraffic Density=High\\u003cbr\\u003eDistance (km)=%{x}\\u003cbr\\u003eAvg Speed (km\\u002fh)=%{marker.size}\\u003cbr\\u003eTravel Duration (mins)=%{marker.color}\\u003cextra\\u003e\\u003c\\u002fextra\\u003e\",\"legendgroup\":\"Car\",\"marker\":{\"color\":[30.3,29.1,28.8,56.7,19.1,18.7,42.3],\"coloraxis\":\"coloraxis\",\"opacity\":1.0,\"size\":[32.1,27.2,19.3,18.5,31.2,23.4,27.6],\"sizemode\":\"area\",\"sizeref\":0.14975,\"symbol\":\"diamond\"},\"mode\":\"markers\",\"name\":\"Car\",\"orientation\":\"h\",\"showlegend\":false,\"x\":[16.22,13.19,9.26,17.44,9.92,7.29,19.45],\"xaxis\":\"x9\",\"y\":[\"Car\",\"Car\",\"Car\",\"Car\",\"Car\",\"Car\",\"Car\"],\"yaxis\":\"y9\",\"type\":\"scatter\"},{\"hovertemplate\":\"Transport Mode=%{y}\\u003cbr\\u003eWeather Condition=Clear\\u003cbr\\u003eTraffic Density=Low\\u003cbr\\u003eDistance (km)=%{x}\\u003cbr\\u003eAvg Speed (km\\u002fh)=%{marker.size}\\u003cbr\\u003eTravel Duration (mins)=%{marker.color}\\u003cextra\\u003e\\u003c\\u002fextra\\u003e\",\"legendgroup\":\"Car\",\"marker\":{\"color\":[17.6,25.8,32.7,29.8,25.1,37.1],\"coloraxis\":\"coloraxis\",\"opacity\":1.0,\"size\":[29.5,33.7,32.8,32.7,18.8,22.9],\"sizemode\":\"area\",\"sizeref\":0.14975,\"symbol\":\"diamond\"},\"mode\":\"markers\",\"name\":\"Car\",\"orientation\":\"h\",\"showlegend\":false,\"x\":[8.65,14.49,17.86,16.26,7.86,14.19],\"xaxis\":\"x4\",\"y\":[\"Car\",\"Car\",\"Car\",\"Car\",\"Car\",\"Car\"],\"yaxis\":\"y4\",\"type\":\"scatter\"},{\"hovertemplate\":\"Transport Mode=%{y}\\u003cbr\\u003eWeather Condition=Clear\\u003cbr\\u003eTraffic Density=Medium\\u003cbr\\u003eDistance (km)=%{x}\\u003cbr\\u003eAvg Speed (km\\u002fh)=%{marker.size}\\u003cbr\\u003eTravel Duration (mins)=%{marker.color}\\u003cextra\\u003e\\u003c\\u002fextra\\u003e\",\"legendgroup\":\"Car\",\"marker\":{\"color\":[40.6,63.5,17.3,16.4,21.8,54.2,31.9,15.6,33.8,14.4,28.2],\"coloraxis\":\"coloraxis\",\"opacity\":1.0,\"size\":[25.5,18.0,26.2,19.9,32.7,21.5,31.5,32.1,23.3,34.2,35.4],\"sizemode\":\"area\",\"sizeref\":0.14975,\"symbol\":\"diamond\"},\"mode\":\"markers\",\"name\":\"Car\",\"orientation\":\"h\",\"showlegend\":false,\"x\":[17.25,19.1,7.56,5.45,11.87,19.44,16.77,8.35,13.13,8.21,16.62],\"xaxis\":\"x5\",\"y\":[\"Car\",\"Car\",\"Car\",\"Car\",\"Car\",\"Car\",\"Car\",\"Car\",\"Car\",\"Car\",\"Car\"],\"yaxis\":\"y5\",\"type\":\"scatter\"},{\"hovertemplate\":\"Transport Mode=%{y}\\u003cbr\\u003eWeather Condition=Clear\\u003cbr\\u003eTraffic Density=High\\u003cbr\\u003eDistance (km)=%{x}\\u003cbr\\u003eAvg Speed (km\\u002fh)=%{marker.size}\\u003cbr\\u003eTravel Duration (mins)=%{marker.color}\\u003cextra\\u003e\\u003c\\u002fextra\\u003e\",\"legendgroup\":\"Car\",\"marker\":{\"color\":[29.1,30.4,28.2,37.7,27.5,12.9,14.6],\"coloraxis\":\"coloraxis\",\"opacity\":1.0,\"size\":[27.1,28.5,20.1,28.1,32.8,32.7,35.6],\"sizemode\":\"area\",\"sizeref\":0.14975,\"symbol\":\"diamond\"},\"mode\":\"markers\",\"name\":\"Car\",\"orientation\":\"h\",\"showlegend\":false,\"x\":[13.13,14.44,9.44,17.65,15.05,7.04,8.67],\"xaxis\":\"x6\",\"y\":[\"Car\",\"Car\",\"Car\",\"Car\",\"Car\",\"Car\",\"Car\"],\"yaxis\":\"y6\",\"type\":\"scatter\"},{\"hovertemplate\":\"Transport Mode=%{y}\\u003cbr\\u003eWeather Condition=Foggy\\u003cbr\\u003eTraffic Density=Low\\u003cbr\\u003eDistance (km)=%{x}\\u003cbr\\u003eAvg Speed (km\\u002fh)=%{marker.size}\\u003cbr\\u003eTravel Duration (mins)=%{marker.color}\\u003cextra\\u003e\\u003c\\u002fextra\\u003e\",\"legendgroup\":\"Car\",\"marker\":{\"color\":[14.6,17.5,15.4],\"coloraxis\":\"coloraxis\",\"opacity\":1.0,\"size\":[29.9,24.8,29.5],\"sizemode\":\"area\",\"sizeref\":0.14975,\"symbol\":\"diamond\"},\"mode\":\"markers\",\"name\":\"Car\",\"orientation\":\"h\",\"showlegend\":false,\"x\":[7.27,7.24,7.56],\"xaxis\":\"x\",\"y\":[\"Car\",\"Car\",\"Car\"],\"yaxis\":\"y\",\"type\":\"scatter\"},{\"hovertemplate\":\"Transport Mode=%{y}\\u003cbr\\u003eWeather Condition=Foggy\\u003cbr\\u003eTraffic Density=Medium\\u003cbr\\u003eDistance (km)=%{x}\\u003cbr\\u003eAvg Speed (km\\u002fh)=%{marker.size}\\u003cbr\\u003eTravel Duration (mins)=%{marker.color}\\u003cextra\\u003e\\u003c\\u002fextra\\u003e\",\"legendgroup\":\"Car\",\"marker\":{\"color\":[30.2,17.2,25.0,28.0,43.9,46.1,35.1,20.5],\"coloraxis\":\"coloraxis\",\"opacity\":1.0,\"size\":[28.1,33.0,31.9,31.1,21.1,19.7,21.6,31.2],\"sizemode\":\"area\",\"sizeref\":0.14975,\"symbol\":\"diamond\"},\"mode\":\"markers\",\"name\":\"Car\",\"orientation\":\"h\",\"showlegend\":false,\"x\":[14.14,9.46,13.31,14.53,15.45,15.14,12.66,10.65],\"xaxis\":\"x2\",\"y\":[\"Car\",\"Car\",\"Car\",\"Car\",\"Car\",\"Car\",\"Car\",\"Car\"],\"yaxis\":\"y2\",\"type\":\"scatter\"},{\"hovertemplate\":\"Transport Mode=%{y}\\u003cbr\\u003eWeather Condition=Foggy\\u003cbr\\u003eTraffic Density=High\\u003cbr\\u003eDistance (km)=%{x}\\u003cbr\\u003eAvg Speed (km\\u002fh)=%{marker.size}\\u003cbr\\u003eTravel Duration (mins)=%{marker.color}\\u003cextra\\u003e\\u003c\\u002fextra\\u003e\",\"legendgroup\":\"Car\",\"marker\":{\"color\":[47.9,15.3,10.2,23.5,41.1,11.9,20.6,19.5],\"coloraxis\":\"coloraxis\",\"opacity\":1.0,\"size\":[18.6,31.6,30.7,27.8,20.5,33.3,34.7,24.9],\"sizemode\":\"area\",\"sizeref\":0.14975,\"symbol\":\"diamond\"},\"mode\":\"markers\",\"name\":\"Car\",\"orientation\":\"h\",\"showlegend\":false,\"x\":[14.81,8.07,5.22,10.9,14.04,6.61,11.92,8.1],\"xaxis\":\"x3\",\"y\":[\"Car\",\"Car\",\"Car\",\"Car\",\"Car\",\"Car\",\"Car\",\"Car\"],\"yaxis\":\"y3\",\"type\":\"scatter\"},{\"hovertemplate\":\"Transport Mode=%{y}\\u003cbr\\u003eWeather Condition=Rainy\\u003cbr\\u003eTraffic Density=Low\\u003cbr\\u003eDistance (km)=%{x}\\u003cbr\\u003eAvg Speed (km\\u002fh)=%{marker.size}\\u003cbr\\u003eTravel Duration (mins)=%{marker.color}\\u003cextra\\u003e\\u003c\\u002fextra\\u003e\",\"legendgroup\":\"Bus\",\"marker\":{\"color\":[14.7],\"coloraxis\":\"coloraxis\",\"opacity\":1.0,\"size\":[30.3],\"sizemode\":\"area\",\"sizeref\":0.14975,\"symbol\":\"square\"},\"mode\":\"markers\",\"name\":\"Bus\",\"orientation\":\"h\",\"showlegend\":true,\"x\":[7.42],\"xaxis\":\"x10\",\"y\":[\"Bus\"],\"yaxis\":\"y10\",\"type\":\"scatter\"},{\"hovertemplate\":\"Transport Mode=%{y}\\u003cbr\\u003eWeather Condition=Rainy\\u003cbr\\u003eTraffic Density=High\\u003cbr\\u003eDistance (km)=%{x}\\u003cbr\\u003eAvg Speed (km\\u002fh)=%{marker.size}\\u003cbr\\u003eTravel Duration (mins)=%{marker.color}\\u003cextra\\u003e\\u003c\\u002fextra\\u003e\",\"legendgroup\":\"Bus\",\"marker\":{\"color\":[16.5,12.4],\"coloraxis\":\"coloraxis\",\"opacity\":1.0,\"size\":[33.5,27.2],\"sizemode\":\"area\",\"sizeref\":0.14975,\"symbol\":\"square\"},\"mode\":\"markers\",\"name\":\"Bus\",\"orientation\":\"h\",\"showlegend\":false,\"x\":[9.21,5.62],\"xaxis\":\"x12\",\"y\":[\"Bus\",\"Bus\"],\"yaxis\":\"y12\",\"type\":\"scatter\"},{\"hovertemplate\":\"Transport Mode=%{y}\\u003cbr\\u003eWeather Condition=Snowy\\u003cbr\\u003eTraffic Density=Low\\u003cbr\\u003eDistance (km)=%{x}\\u003cbr\\u003eAvg Speed (km\\u002fh)=%{marker.size}\\u003cbr\\u003eTravel Duration (mins)=%{marker.color}\\u003cextra\\u003e\\u003c\\u002fextra\\u003e\",\"legendgroup\":\"Bus\",\"marker\":{\"color\":[18.3,10.2,14.5,17.0],\"coloraxis\":\"coloraxis\",\"opacity\":1.0,\"size\":[18.8,34.9,21.0,26.5],\"sizemode\":\"area\",\"sizeref\":0.14975,\"symbol\":\"square\"},\"mode\":\"markers\",\"name\":\"Bus\",\"orientation\":\"h\",\"showlegend\":false,\"x\":[5.74,5.93,5.08,7.52],\"xaxis\":\"x7\",\"y\":[\"Bus\",\"Bus\",\"Bus\",\"Bus\"],\"yaxis\":\"y7\",\"type\":\"scatter\"},{\"hovertemplate\":\"Transport Mode=%{y}\\u003cbr\\u003eWeather Condition=Snowy\\u003cbr\\u003eTraffic Density=Medium\\u003cbr\\u003eDistance (km)=%{x}\\u003cbr\\u003eAvg Speed (km\\u002fh)=%{marker.size}\\u003cbr\\u003eTravel Duration (mins)=%{marker.color}\\u003cextra\\u003e\\u003c\\u002fextra\\u003e\",\"legendgroup\":\"Bus\",\"marker\":{\"color\":[13.8,14.6,21.7,8.8,9.5],\"coloraxis\":\"coloraxis\",\"opacity\":1.0,\"size\":[33.9,29.4,19.9,34.4,33.0],\"sizemode\":\"area\",\"sizeref\":0.14975,\"symbol\":\"square\"},\"mode\":\"markers\",\"name\":\"Bus\",\"orientation\":\"h\",\"showlegend\":false,\"x\":[7.8,7.15,7.2,5.04,5.22],\"xaxis\":\"x8\",\"y\":[\"Bus\",\"Bus\",\"Bus\",\"Bus\",\"Bus\"],\"yaxis\":\"y8\",\"type\":\"scatter\"},{\"hovertemplate\":\"Transport Mode=%{y}\\u003cbr\\u003eWeather Condition=Snowy\\u003cbr\\u003eTraffic Density=High\\u003cbr\\u003eDistance (km)=%{x}\\u003cbr\\u003eAvg Speed (km\\u002fh)=%{marker.size}\\u003cbr\\u003eTravel Duration (mins)=%{marker.color}\\u003cextra\\u003e\\u003c\\u002fextra\\u003e\",\"legendgroup\":\"Bus\",\"marker\":{\"color\":[25.3,29.6],\"coloraxis\":\"coloraxis\",\"opacity\":1.0,\"size\":[23.0,19.5],\"sizemode\":\"area\",\"sizeref\":0.14975,\"symbol\":\"square\"},\"mode\":\"markers\",\"name\":\"Bus\",\"orientation\":\"h\",\"showlegend\":false,\"x\":[9.71,9.61],\"xaxis\":\"x9\",\"y\":[\"Bus\",\"Bus\"],\"yaxis\":\"y9\",\"type\":\"scatter\"},{\"hovertemplate\":\"Transport Mode=%{y}\\u003cbr\\u003eWeather Condition=Clear\\u003cbr\\u003eTraffic Density=Low\\u003cbr\\u003eDistance (km)=%{x}\\u003cbr\\u003eAvg Speed (km\\u002fh)=%{marker.size}\\u003cbr\\u003eTravel Duration (mins)=%{marker.color}\\u003cextra\\u003e\\u003c\\u002fextra\\u003e\",\"legendgroup\":\"Bus\",\"marker\":{\"color\":[9.4,22.1,16.1],\"coloraxis\":\"coloraxis\",\"opacity\":1.0,\"size\":[32.6,22.4,26.9],\"sizemode\":\"area\",\"sizeref\":0.14975,\"symbol\":\"square\"},\"mode\":\"markers\",\"name\":\"Bus\",\"orientation\":\"h\",\"showlegend\":false,\"x\":[5.1,8.26,7.23],\"xaxis\":\"x4\",\"y\":[\"Bus\",\"Bus\",\"Bus\"],\"yaxis\":\"y4\",\"type\":\"scatter\"},{\"hovertemplate\":\"Transport Mode=%{y}\\u003cbr\\u003eWeather Condition=Clear\\u003cbr\\u003eTraffic Density=Medium\\u003cbr\\u003eDistance (km)=%{x}\\u003cbr\\u003eAvg Speed (km\\u002fh)=%{marker.size}\\u003cbr\\u003eTravel Duration (mins)=%{marker.color}\\u003cextra\\u003e\\u003c\\u002fextra\\u003e\",\"legendgroup\":\"Bus\",\"marker\":{\"color\":[17.9,19.7,24.7,10.7],\"coloraxis\":\"coloraxis\",\"opacity\":1.0,\"size\":[26.3,27.4,20.0,31.0],\"sizemode\":\"area\",\"sizeref\":0.14975,\"symbol\":\"square\"},\"mode\":\"markers\",\"name\":\"Bus\",\"orientation\":\"h\",\"showlegend\":false,\"x\":[7.85,8.99,8.24,5.53],\"xaxis\":\"x5\",\"y\":[\"Bus\",\"Bus\",\"Bus\",\"Bus\"],\"yaxis\":\"y5\",\"type\":\"scatter\"},{\"hovertemplate\":\"Transport Mode=%{y}\\u003cbr\\u003eWeather Condition=Foggy\\u003cbr\\u003eTraffic Density=Low\\u003cbr\\u003eDistance (km)=%{x}\\u003cbr\\u003eAvg Speed (km\\u002fh)=%{marker.size}\\u003cbr\\u003eTravel Duration (mins)=%{marker.color}\\u003cextra\\u003e\\u003c\\u002fextra\\u003e\",\"legendgroup\":\"Bus\",\"marker\":{\"color\":[13.4],\"coloraxis\":\"coloraxis\",\"opacity\":1.0,\"size\":[29.7],\"sizemode\":\"area\",\"sizeref\":0.14975,\"symbol\":\"square\"},\"mode\":\"markers\",\"name\":\"Bus\",\"orientation\":\"h\",\"showlegend\":false,\"x\":[6.64],\"xaxis\":\"x\",\"y\":[\"Bus\"],\"yaxis\":\"y\",\"type\":\"scatter\"},{\"hovertemplate\":\"Transport Mode=%{y}\\u003cbr\\u003eWeather Condition=Foggy\\u003cbr\\u003eTraffic Density=Medium\\u003cbr\\u003eDistance (km)=%{x}\\u003cbr\\u003eAvg Speed (km\\u002fh)=%{marker.size}\\u003cbr\\u003eTravel Duration (mins)=%{marker.color}\\u003cextra\\u003e\\u003c\\u002fextra\\u003e\",\"legendgroup\":\"Bus\",\"marker\":{\"color\":[10.9],\"coloraxis\":\"coloraxis\",\"opacity\":1.0,\"size\":[32.8],\"sizemode\":\"area\",\"sizeref\":0.14975,\"symbol\":\"square\"},\"mode\":\"markers\",\"name\":\"Bus\",\"orientation\":\"h\",\"showlegend\":false,\"x\":[5.96],\"xaxis\":\"x2\",\"y\":[\"Bus\"],\"yaxis\":\"y2\",\"type\":\"scatter\"},{\"hovertemplate\":\"Transport Mode=%{y}\\u003cbr\\u003eWeather Condition=Foggy\\u003cbr\\u003eTraffic Density=High\\u003cbr\\u003eDistance (km)=%{x}\\u003cbr\\u003eAvg Speed (km\\u002fh)=%{marker.size}\\u003cbr\\u003eTravel Duration (mins)=%{marker.color}\\u003cextra\\u003e\\u003c\\u002fextra\\u003e\",\"legendgroup\":\"Bus\",\"marker\":{\"color\":[10.9,20.9],\"coloraxis\":\"coloraxis\",\"opacity\":1.0,\"size\":[31.9,24.3],\"sizemode\":\"area\",\"sizeref\":0.14975,\"symbol\":\"square\"},\"mode\":\"markers\",\"name\":\"Bus\",\"orientation\":\"h\",\"showlegend\":false,\"x\":[5.8,8.45],\"xaxis\":\"x3\",\"y\":[\"Bus\",\"Bus\"],\"yaxis\":\"y3\",\"type\":\"scatter\"},{\"hovertemplate\":\"Transport Mode=%{y}\\u003cbr\\u003eWeather Condition=Rainy\\u003cbr\\u003eTraffic Density=Low\\u003cbr\\u003eDistance (km)=%{x}\\u003cbr\\u003eAvg Speed (km\\u002fh)=%{marker.size}\\u003cbr\\u003eTravel Duration (mins)=%{marker.color}\\u003cextra\\u003e\\u003c\\u002fextra\\u003e\",\"legendgroup\":\"Bike\",\"marker\":{\"color\":[3.0,18.7,11.3,15.6],\"coloraxis\":\"coloraxis\",\"opacity\":1.0,\"size\":[12.6,9.7,14.8,14.4],\"sizemode\":\"area\",\"sizeref\":0.14975,\"symbol\":\"x\"},\"mode\":\"markers\",\"name\":\"Bike\",\"orientation\":\"h\",\"showlegend\":true,\"x\":[0.63,3.01,2.79,3.74],\"xaxis\":\"x10\",\"y\":[\"Bike\",\"Bike\",\"Bike\",\"Bike\"],\"yaxis\":\"y10\",\"type\":\"scatter\"},{\"hovertemplate\":\"Transport Mode=%{y}\\u003cbr\\u003eWeather Condition=Rainy\\u003cbr\\u003eTraffic Density=Medium\\u003cbr\\u003eDistance (km)=%{x}\\u003cbr\\u003eAvg Speed (km\\u002fh)=%{marker.size}\\u003cbr\\u003eTravel Duration (mins)=%{marker.color}\\u003cextra\\u003e\\u003c\\u002fextra\\u003e\",\"legendgroup\":\"Bike\",\"marker\":{\"color\":[19.1,14.9,25.7,9.5],\"coloraxis\":\"coloraxis\",\"opacity\":1.0,\"size\":[14.3,12.2,11.2,11.4],\"sizemode\":\"area\",\"sizeref\":0.14975,\"symbol\":\"x\"},\"mode\":\"markers\",\"name\":\"Bike\",\"orientation\":\"h\",\"showlegend\":false,\"x\":[4.54,3.03,4.78,1.81],\"xaxis\":\"x11\",\"y\":[\"Bike\",\"Bike\",\"Bike\",\"Bike\"],\"yaxis\":\"y11\",\"type\":\"scatter\"},{\"hovertemplate\":\"Transport Mode=%{y}\\u003cbr\\u003eWeather Condition=Rainy\\u003cbr\\u003eTraffic Density=High\\u003cbr\\u003eDistance (km)=%{x}\\u003cbr\\u003eAvg Speed (km\\u002fh)=%{marker.size}\\u003cbr\\u003eTravel Duration (mins)=%{marker.color}\\u003cextra\\u003e\\u003c\\u002fextra\\u003e\",\"legendgroup\":\"Bike\",\"marker\":{\"color\":[10.1,17.3,17.6,23.1],\"coloraxis\":\"coloraxis\",\"opacity\":1.0,\"size\":[13.4,13.0,10.6,12.4],\"sizemode\":\"area\",\"sizeref\":0.14975,\"symbol\":\"x\"},\"mode\":\"markers\",\"name\":\"Bike\",\"orientation\":\"h\",\"showlegend\":false,\"x\":[2.25,3.74,3.11,4.79],\"xaxis\":\"x12\",\"y\":[\"Bike\",\"Bike\",\"Bike\",\"Bike\"],\"yaxis\":\"y12\",\"type\":\"scatter\"},{\"hovertemplate\":\"Transport Mode=%{y}\\u003cbr\\u003eWeather Condition=Snowy\\u003cbr\\u003eTraffic Density=Low\\u003cbr\\u003eDistance (km)=%{x}\\u003cbr\\u003eAvg Speed (km\\u002fh)=%{marker.size}\\u003cbr\\u003eTravel Duration (mins)=%{marker.color}\\u003cextra\\u003e\\u003c\\u002fextra\\u003e\",\"legendgroup\":\"Bike\",\"marker\":{\"color\":[21.7],\"coloraxis\":\"coloraxis\",\"opacity\":1.0,\"size\":[12.2],\"sizemode\":\"area\",\"sizeref\":0.14975,\"symbol\":\"x\"},\"mode\":\"markers\",\"name\":\"Bike\",\"orientation\":\"h\",\"showlegend\":false,\"x\":[4.43],\"xaxis\":\"x7\",\"y\":[\"Bike\"],\"yaxis\":\"y7\",\"type\":\"scatter\"},{\"hovertemplate\":\"Transport Mode=%{y}\\u003cbr\\u003eWeather Condition=Snowy\\u003cbr\\u003eTraffic Density=Medium\\u003cbr\\u003eDistance (km)=%{x}\\u003cbr\\u003eAvg Speed (km\\u002fh)=%{marker.size}\\u003cbr\\u003eTravel Duration (mins)=%{marker.color}\\u003cextra\\u003e\\u003c\\u002fextra\\u003e\",\"legendgroup\":\"Bike\",\"marker\":{\"color\":[18.1,29.8,16.7,17.6,10.2,17.2,16.9],\"coloraxis\":\"coloraxis\",\"opacity\":1.0,\"size\":[9.5,9.6,12.9,13.9,14.5,14.5,9.4],\"sizemode\":\"area\",\"sizeref\":0.14975,\"symbol\":\"x\"},\"mode\":\"markers\",\"name\":\"Bike\",\"orientation\":\"h\",\"showlegend\":false,\"x\":[2.86,4.76,3.6,4.09,2.46,4.15,2.66],\"xaxis\":\"x8\",\"y\":[\"Bike\",\"Bike\",\"Bike\",\"Bike\",\"Bike\",\"Bike\",\"Bike\"],\"yaxis\":\"y8\",\"type\":\"scatter\"},{\"hovertemplate\":\"Transport Mode=%{y}\\u003cbr\\u003eWeather Condition=Snowy\\u003cbr\\u003eTraffic Density=High\\u003cbr\\u003eDistance (km)=%{x}\\u003cbr\\u003eAvg Speed (km\\u002fh)=%{marker.size}\\u003cbr\\u003eTravel Duration (mins)=%{marker.color}\\u003cextra\\u003e\\u003c\\u002fextra\\u003e\",\"legendgroup\":\"Bike\",\"marker\":{\"color\":[17.7,24.6,22.3,14.2],\"coloraxis\":\"coloraxis\",\"opacity\":1.0,\"size\":[9.0,11.5,10.2,11.5],\"sizemode\":\"area\",\"sizeref\":0.14975,\"symbol\":\"x\"},\"mode\":\"markers\",\"name\":\"Bike\",\"orientation\":\"h\",\"showlegend\":false,\"x\":[2.66,4.71,3.79,2.72],\"xaxis\":\"x9\",\"y\":[\"Bike\",\"Bike\",\"Bike\",\"Bike\"],\"yaxis\":\"y9\",\"type\":\"scatter\"},{\"hovertemplate\":\"Transport Mode=%{y}\\u003cbr\\u003eWeather Condition=Clear\\u003cbr\\u003eTraffic Density=Low\\u003cbr\\u003eDistance (km)=%{x}\\u003cbr\\u003eAvg Speed (km\\u002fh)=%{marker.size}\\u003cbr\\u003eTravel Duration (mins)=%{marker.color}\\u003cextra\\u003e\\u003c\\u002fextra\\u003e\",\"legendgroup\":\"Bike\",\"marker\":{\"color\":[23.0,16.1,11.8],\"coloraxis\":\"coloraxis\",\"opacity\":1.0,\"size\":[12.8,12.4,10.1],\"sizemode\":\"area\",\"sizeref\":0.14975,\"symbol\":\"x\"},\"mode\":\"markers\",\"name\":\"Bike\",\"orientation\":\"h\",\"showlegend\":false,\"x\":[4.89,3.33,1.99],\"xaxis\":\"x4\",\"y\":[\"Bike\",\"Bike\",\"Bike\"],\"yaxis\":\"y4\",\"type\":\"scatter\"},{\"hovertemplate\":\"Transport Mode=%{y}\\u003cbr\\u003eWeather Condition=Clear\\u003cbr\\u003eTraffic Density=Medium\\u003cbr\\u003eDistance (km)=%{x}\\u003cbr\\u003eAvg Speed (km\\u002fh)=%{marker.size}\\u003cbr\\u003eTravel Duration (mins)=%{marker.color}\\u003cextra\\u003e\\u003c\\u002fextra\\u003e\",\"legendgroup\":\"Bike\",\"marker\":{\"color\":[22.3,17.9],\"coloraxis\":\"coloraxis\",\"opacity\":1.0,\"size\":[10.1,9.2],\"sizemode\":\"area\",\"sizeref\":0.14975,\"symbol\":\"x\"},\"mode\":\"markers\",\"name\":\"Bike\",\"orientation\":\"h\",\"showlegend\":false,\"x\":[3.76,2.74],\"xaxis\":\"x5\",\"y\":[\"Bike\",\"Bike\"],\"yaxis\":\"y5\",\"type\":\"scatter\"},{\"hovertemplate\":\"Transport Mode=%{y}\\u003cbr\\u003eWeather Condition=Clear\\u003cbr\\u003eTraffic Density=High\\u003cbr\\u003eDistance (km)=%{x}\\u003cbr\\u003eAvg Speed (km\\u002fh)=%{marker.size}\\u003cbr\\u003eTravel Duration (mins)=%{marker.color}\\u003cextra\\u003e\\u003c\\u002fextra\\u003e\",\"legendgroup\":\"Bike\",\"marker\":{\"color\":[11.0,10.2,9.6,13.5],\"coloraxis\":\"coloraxis\",\"opacity\":1.0,\"size\":[12.2,14.9,11.0,11.6],\"sizemode\":\"area\",\"sizeref\":0.14975,\"symbol\":\"x\"},\"mode\":\"markers\",\"name\":\"Bike\",\"orientation\":\"h\",\"showlegend\":false,\"x\":[2.23,2.53,1.76,2.61],\"xaxis\":\"x6\",\"y\":[\"Bike\",\"Bike\",\"Bike\",\"Bike\"],\"yaxis\":\"y6\",\"type\":\"scatter\"},{\"hovertemplate\":\"Transport Mode=%{y}\\u003cbr\\u003eWeather Condition=Foggy\\u003cbr\\u003eTraffic Density=Low\\u003cbr\\u003eDistance (km)=%{x}\\u003cbr\\u003eAvg Speed (km\\u002fh)=%{marker.size}\\u003cbr\\u003eTravel Duration (mins)=%{marker.color}\\u003cextra\\u003e\\u003c\\u002fextra\\u003e\",\"legendgroup\":\"Bike\",\"marker\":{\"color\":[13.9,16.1,14.1],\"coloraxis\":\"coloraxis\",\"opacity\":1.0,\"size\":[13.3,9.5,13.4],\"sizemode\":\"area\",\"sizeref\":0.14975,\"symbol\":\"x\"},\"mode\":\"markers\",\"name\":\"Bike\",\"orientation\":\"h\",\"showlegend\":false,\"x\":[3.08,2.54,3.16],\"xaxis\":\"x\",\"y\":[\"Bike\",\"Bike\",\"Bike\"],\"yaxis\":\"y\",\"type\":\"scatter\"},{\"hovertemplate\":\"Transport Mode=%{y}\\u003cbr\\u003eWeather Condition=Foggy\\u003cbr\\u003eTraffic Density=Medium\\u003cbr\\u003eDistance (km)=%{x}\\u003cbr\\u003eAvg Speed (km\\u002fh)=%{marker.size}\\u003cbr\\u003eTravel Duration (mins)=%{marker.color}\\u003cextra\\u003e\\u003c\\u002fextra\\u003e\",\"legendgroup\":\"Bike\",\"marker\":{\"color\":[10.5,21.0,6.6,8.8,11.5,9.3],\"coloraxis\":\"coloraxis\",\"opacity\":1.0,\"size\":[14.1,10.0,14.8,13.7,13.9,12.6],\"sizemode\":\"area\",\"sizeref\":0.14975,\"symbol\":\"x\"},\"mode\":\"markers\",\"name\":\"Bike\",\"orientation\":\"h\",\"showlegend\":false,\"x\":[2.47,3.51,1.63,2.01,2.66,1.95],\"xaxis\":\"x2\",\"y\":[\"Bike\",\"Bike\",\"Bike\",\"Bike\",\"Bike\",\"Bike\"],\"yaxis\":\"y2\",\"type\":\"scatter\"},{\"hovertemplate\":\"Transport Mode=%{y}\\u003cbr\\u003eWeather Condition=Foggy\\u003cbr\\u003eTraffic Density=High\\u003cbr\\u003eDistance (km)=%{x}\\u003cbr\\u003eAvg Speed (km\\u002fh)=%{marker.size}\\u003cbr\\u003eTravel Duration (mins)=%{marker.color}\\u003cextra\\u003e\\u003c\\u002fextra\\u003e\",\"legendgroup\":\"Bike\",\"marker\":{\"color\":[13.4,20.6,19.6,4.0,12.2],\"coloraxis\":\"coloraxis\",\"opacity\":1.0,\"size\":[12.3,9.2,14.6,9.2,14.0],\"sizemode\":\"area\",\"sizeref\":0.14975,\"symbol\":\"x\"},\"mode\":\"markers\",\"name\":\"Bike\",\"orientation\":\"h\",\"showlegend\":false,\"x\":[2.74,3.15,4.76,0.61,2.85],\"xaxis\":\"x3\",\"y\":[\"Bike\",\"Bike\",\"Bike\",\"Bike\",\"Bike\"],\"yaxis\":\"y3\",\"type\":\"scatter\"},{\"hovertemplate\":\"Transport Mode=%{y}\\u003cbr\\u003eWeather Condition=Rainy\\u003cbr\\u003eTraffic Density=Low\\u003cbr\\u003eDistance (km)=%{x}\\u003cbr\\u003eAvg Speed (km\\u002fh)=%{marker.size}\\u003cbr\\u003eTravel Duration (mins)=%{marker.color}\\u003cextra\\u003e\\u003c\\u002fextra\\u003e\",\"legendgroup\":\"Train\",\"marker\":{\"color\":[13.0,20.5],\"coloraxis\":\"coloraxis\",\"opacity\":1.0,\"size\":[59.7,46.1],\"sizemode\":\"area\",\"sizeref\":0.14975,\"symbol\":\"cross\"},\"mode\":\"markers\",\"name\":\"Train\",\"orientation\":\"h\",\"showlegend\":true,\"x\":[12.93,15.76],\"xaxis\":\"x10\",\"y\":[\"Train\",\"Train\"],\"yaxis\":\"y10\",\"type\":\"scatter\"},{\"hovertemplate\":\"Transport Mode=%{y}\\u003cbr\\u003eWeather Condition=Rainy\\u003cbr\\u003eTraffic Density=Medium\\u003cbr\\u003eDistance (km)=%{x}\\u003cbr\\u003eAvg Speed (km\\u002fh)=%{marker.size}\\u003cbr\\u003eTravel Duration (mins)=%{marker.color}\\u003cextra\\u003e\\u003c\\u002fextra\\u003e\",\"legendgroup\":\"Train\",\"marker\":{\"color\":[21.7,19.2],\"coloraxis\":\"coloraxis\",\"opacity\":1.0,\"size\":[52.9,51.5],\"sizemode\":\"area\",\"sizeref\":0.14975,\"symbol\":\"cross\"},\"mode\":\"markers\",\"name\":\"Train\",\"orientation\":\"h\",\"showlegend\":false,\"x\":[19.14,16.49],\"xaxis\":\"x11\",\"y\":[\"Train\",\"Train\"],\"yaxis\":\"y11\",\"type\":\"scatter\"},{\"hovertemplate\":\"Transport Mode=%{y}\\u003cbr\\u003eWeather Condition=Rainy\\u003cbr\\u003eTraffic Density=High\\u003cbr\\u003eDistance (km)=%{x}\\u003cbr\\u003eAvg Speed (km\\u002fh)=%{marker.size}\\u003cbr\\u003eTravel Duration (mins)=%{marker.color}\\u003cextra\\u003e\\u003c\\u002fextra\\u003e\",\"legendgroup\":\"Train\",\"marker\":{\"color\":[15.7,21.8],\"coloraxis\":\"coloraxis\",\"opacity\":1.0,\"size\":[45.1,44.5],\"sizemode\":\"area\",\"sizeref\":0.14975,\"symbol\":\"cross\"},\"mode\":\"markers\",\"name\":\"Train\",\"orientation\":\"h\",\"showlegend\":false,\"x\":[11.81,16.18],\"xaxis\":\"x12\",\"y\":[\"Train\",\"Train\"],\"yaxis\":\"y12\",\"type\":\"scatter\"},{\"hovertemplate\":\"Transport Mode=%{y}\\u003cbr\\u003eWeather Condition=Snowy\\u003cbr\\u003eTraffic Density=Low\\u003cbr\\u003eDistance (km)=%{x}\\u003cbr\\u003eAvg Speed (km\\u002fh)=%{marker.size}\\u003cbr\\u003eTravel Duration (mins)=%{marker.color}\\u003cextra\\u003e\\u003c\\u002fextra\\u003e\",\"legendgroup\":\"Train\",\"marker\":{\"color\":[11.8,26.4,13.7],\"coloraxis\":\"coloraxis\",\"opacity\":1.0,\"size\":[51.3,43.5,48.7],\"sizemode\":\"area\",\"sizeref\":0.14975,\"symbol\":\"cross\"},\"mode\":\"markers\",\"name\":\"Train\",\"orientation\":\"h\",\"showlegend\":false,\"x\":[10.09,19.12,11.12],\"xaxis\":\"x7\",\"y\":[\"Train\",\"Train\",\"Train\"],\"yaxis\":\"y7\",\"type\":\"scatter\"},{\"hovertemplate\":\"Transport Mode=%{y}\\u003cbr\\u003eWeather Condition=Snowy\\u003cbr\\u003eTraffic Density=Medium\\u003cbr\\u003eDistance (km)=%{x}\\u003cbr\\u003eAvg Speed (km\\u002fh)=%{marker.size}\\u003cbr\\u003eTravel Duration (mins)=%{marker.color}\\u003cextra\\u003e\\u003c\\u002fextra\\u003e\",\"legendgroup\":\"Train\",\"marker\":{\"color\":[15.8,25.7,22.1],\"coloraxis\":\"coloraxis\",\"opacity\":1.0,\"size\":[58.4,45.5,49.4],\"sizemode\":\"area\",\"sizeref\":0.14975,\"symbol\":\"cross\"},\"mode\":\"markers\",\"name\":\"Train\",\"orientation\":\"h\",\"showlegend\":false,\"x\":[15.38,19.5,18.18],\"xaxis\":\"x8\",\"y\":[\"Train\",\"Train\",\"Train\"],\"yaxis\":\"y8\",\"type\":\"scatter\"},{\"hovertemplate\":\"Transport Mode=%{y}\\u003cbr\\u003eWeather Condition=Snowy\\u003cbr\\u003eTraffic Density=High\\u003cbr\\u003eDistance (km)=%{x}\\u003cbr\\u003eAvg Speed (km\\u002fh)=%{marker.size}\\u003cbr\\u003eTravel Duration (mins)=%{marker.color}\\u003cextra\\u003e\\u003c\\u002fextra\\u003e\",\"legendgroup\":\"Train\",\"marker\":{\"color\":[14.3,19.6,15.9,21.1,24.4,20.5,14.6,20.6],\"coloraxis\":\"coloraxis\",\"opacity\":1.0,\"size\":[43.0,53.6,57.7,52.2,47.1,55.6,56.8,56.2],\"sizemode\":\"area\",\"sizeref\":0.14975,\"symbol\":\"cross\"},\"mode\":\"markers\",\"name\":\"Train\",\"orientation\":\"h\",\"showlegend\":false,\"x\":[10.26,17.5,15.29,18.34,19.15,19.01,13.81,19.31],\"xaxis\":\"x9\",\"y\":[\"Train\",\"Train\",\"Train\",\"Train\",\"Train\",\"Train\",\"Train\",\"Train\"],\"yaxis\":\"y9\",\"type\":\"scatter\"},{\"hovertemplate\":\"Transport Mode=%{y}\\u003cbr\\u003eWeather Condition=Clear\\u003cbr\\u003eTraffic Density=Medium\\u003cbr\\u003eDistance (km)=%{x}\\u003cbr\\u003eAvg Speed (km\\u002fh)=%{marker.size}\\u003cbr\\u003eTravel Duration (mins)=%{marker.color}\\u003cextra\\u003e\\u003c\\u002fextra\\u003e\",\"legendgroup\":\"Train\",\"marker\":{\"color\":[25.5,11.0,21.5,17.0,19.2],\"coloraxis\":\"coloraxis\",\"opacity\":1.0,\"size\":[42.8,55.5,50.3,54.7,59.9],\"sizemode\":\"area\",\"sizeref\":0.14975,\"symbol\":\"cross\"},\"mode\":\"markers\",\"name\":\"Train\",\"orientation\":\"h\",\"showlegend\":false,\"x\":[18.17,10.18,18.02,15.49,19.18],\"xaxis\":\"x5\",\"y\":[\"Train\",\"Train\",\"Train\",\"Train\",\"Train\"],\"yaxis\":\"y5\",\"type\":\"scatter\"},{\"hovertemplate\":\"Transport Mode=%{y}\\u003cbr\\u003eWeather Condition=Clear\\u003cbr\\u003eTraffic Density=High\\u003cbr\\u003eDistance (km)=%{x}\\u003cbr\\u003eAvg Speed (km\\u002fh)=%{marker.size}\\u003cbr\\u003eTravel Duration (mins)=%{marker.color}\\u003cextra\\u003e\\u003c\\u002fextra\\u003e\",\"legendgroup\":\"Train\",\"marker\":{\"color\":[15.9,18.9,15.9,23.1],\"coloraxis\":\"coloraxis\",\"opacity\":1.0,\"size\":[54.1,54.0,48.6,51.5],\"sizemode\":\"area\",\"sizeref\":0.14975,\"symbol\":\"cross\"},\"mode\":\"markers\",\"name\":\"Train\",\"orientation\":\"h\",\"showlegend\":false,\"x\":[14.33,17.01,12.87,19.83],\"xaxis\":\"x6\",\"y\":[\"Train\",\"Train\",\"Train\",\"Train\"],\"yaxis\":\"y6\",\"type\":\"scatter\"},{\"hovertemplate\":\"Transport Mode=%{y}\\u003cbr\\u003eWeather Condition=Foggy\\u003cbr\\u003eTraffic Density=Low\\u003cbr\\u003eDistance (km)=%{x}\\u003cbr\\u003eAvg Speed (km\\u002fh)=%{marker.size}\\u003cbr\\u003eTravel Duration (mins)=%{marker.color}\\u003cextra\\u003e\\u003c\\u002fextra\\u003e\",\"legendgroup\":\"Train\",\"marker\":{\"color\":[16.0,19.8],\"coloraxis\":\"coloraxis\",\"opacity\":1.0,\"size\":[59.9,45.7],\"sizemode\":\"area\",\"sizeref\":0.14975,\"symbol\":\"cross\"},\"mode\":\"markers\",\"name\":\"Train\",\"orientation\":\"h\",\"showlegend\":false,\"x\":[15.97,15.07],\"xaxis\":\"x\",\"y\":[\"Train\",\"Train\"],\"yaxis\":\"y\",\"type\":\"scatter\"},{\"hovertemplate\":\"Transport Mode=%{y}\\u003cbr\\u003eWeather Condition=Foggy\\u003cbr\\u003eTraffic Density=Medium\\u003cbr\\u003eDistance (km)=%{x}\\u003cbr\\u003eAvg Speed (km\\u002fh)=%{marker.size}\\u003cbr\\u003eTravel Duration (mins)=%{marker.color}\\u003cextra\\u003e\\u003c\\u002fextra\\u003e\",\"legendgroup\":\"Train\",\"marker\":{\"color\":[20.8],\"coloraxis\":\"coloraxis\",\"opacity\":1.0,\"size\":[46.0],\"sizemode\":\"area\",\"sizeref\":0.14975,\"symbol\":\"cross\"},\"mode\":\"markers\",\"name\":\"Train\",\"orientation\":\"h\",\"showlegend\":false,\"x\":[15.94],\"xaxis\":\"x2\",\"y\":[\"Train\"],\"yaxis\":\"y2\",\"type\":\"scatter\"},{\"hovertemplate\":\"Transport Mode=%{y}\\u003cbr\\u003eWeather Condition=Foggy\\u003cbr\\u003eTraffic Density=High\\u003cbr\\u003eDistance (km)=%{x}\\u003cbr\\u003eAvg Speed (km\\u002fh)=%{marker.size}\\u003cbr\\u003eTravel Duration (mins)=%{marker.color}\\u003cextra\\u003e\\u003c\\u002fextra\\u003e\",\"legendgroup\":\"Train\",\"marker\":{\"color\":[15.8],\"coloraxis\":\"coloraxis\",\"opacity\":1.0,\"size\":[55.2],\"sizemode\":\"area\",\"sizeref\":0.14975,\"symbol\":\"cross\"},\"mode\":\"markers\",\"name\":\"Train\",\"orientation\":\"h\",\"showlegend\":false,\"x\":[14.53],\"xaxis\":\"x3\",\"y\":[\"Train\"],\"yaxis\":\"y3\",\"type\":\"scatter\"}],                        {\"template\":{\"data\":{\"histogram2dcontour\":[{\"type\":\"histogram2dcontour\",\"colorbar\":{\"outlinewidth\":0,\"ticks\":\"\"},\"colorscale\":[[0.0,\"#0d0887\"],[0.1111111111111111,\"#46039f\"],[0.2222222222222222,\"#7201a8\"],[0.3333333333333333,\"#9c179e\"],[0.4444444444444444,\"#bd3786\"],[0.5555555555555556,\"#d8576b\"],[0.6666666666666666,\"#ed7953\"],[0.7777777777777778,\"#fb9f3a\"],[0.8888888888888888,\"#fdca26\"],[1.0,\"#f0f921\"]]}],\"choropleth\":[{\"type\":\"choropleth\",\"colorbar\":{\"outlinewidth\":0,\"ticks\":\"\"}}],\"histogram2d\":[{\"type\":\"histogram2d\",\"colorbar\":{\"outlinewidth\":0,\"ticks\":\"\"},\"colorscale\":[[0.0,\"#0d0887\"],[0.1111111111111111,\"#46039f\"],[0.2222222222222222,\"#7201a8\"],[0.3333333333333333,\"#9c179e\"],[0.4444444444444444,\"#bd3786\"],[0.5555555555555556,\"#d8576b\"],[0.6666666666666666,\"#ed7953\"],[0.7777777777777778,\"#fb9f3a\"],[0.8888888888888888,\"#fdca26\"],[1.0,\"#f0f921\"]]}],\"heatmap\":[{\"type\":\"heatmap\",\"colorbar\":{\"outlinewidth\":0,\"ticks\":\"\"},\"colorscale\":[[0.0,\"#0d0887\"],[0.1111111111111111,\"#46039f\"],[0.2222222222222222,\"#7201a8\"],[0.3333333333333333,\"#9c179e\"],[0.4444444444444444,\"#bd3786\"],[0.5555555555555556,\"#d8576b\"],[0.6666666666666666,\"#ed7953\"],[0.7777777777777778,\"#fb9f3a\"],[0.8888888888888888,\"#fdca26\"],[1.0,\"#f0f921\"]]}],\"heatmapgl\":[{\"type\":\"heatmapgl\",\"colorbar\":{\"outlinewidth\":0,\"ticks\":\"\"},\"colorscale\":[[0.0,\"#0d0887\"],[0.1111111111111111,\"#46039f\"],[0.2222222222222222,\"#7201a8\"],[0.3333333333333333,\"#9c179e\"],[0.4444444444444444,\"#bd3786\"],[0.5555555555555556,\"#d8576b\"],[0.6666666666666666,\"#ed7953\"],[0.7777777777777778,\"#fb9f3a\"],[0.8888888888888888,\"#fdca26\"],[1.0,\"#f0f921\"]]}],\"contourcarpet\":[{\"type\":\"contourcarpet\",\"colorbar\":{\"outlinewidth\":0,\"ticks\":\"\"}}],\"contour\":[{\"type\":\"contour\",\"colorbar\":{\"outlinewidth\":0,\"ticks\":\"\"},\"colorscale\":[[0.0,\"#0d0887\"],[0.1111111111111111,\"#46039f\"],[0.2222222222222222,\"#7201a8\"],[0.3333333333333333,\"#9c179e\"],[0.4444444444444444,\"#bd3786\"],[0.5555555555555556,\"#d8576b\"],[0.6666666666666666,\"#ed7953\"],[0.7777777777777778,\"#fb9f3a\"],[0.8888888888888888,\"#fdca26\"],[1.0,\"#f0f921\"]]}],\"surface\":[{\"type\":\"surface\",\"colorbar\":{\"outlinewidth\":0,\"ticks\":\"\"},\"colorscale\":[[0.0,\"#0d0887\"],[0.1111111111111111,\"#46039f\"],[0.2222222222222222,\"#7201a8\"],[0.3333333333333333,\"#9c179e\"],[0.4444444444444444,\"#bd3786\"],[0.5555555555555556,\"#d8576b\"],[0.6666666666666666,\"#ed7953\"],[0.7777777777777778,\"#fb9f3a\"],[0.8888888888888888,\"#fdca26\"],[1.0,\"#f0f921\"]]}],\"mesh3d\":[{\"type\":\"mesh3d\",\"colorbar\":{\"outlinewidth\":0,\"ticks\":\"\"}}],\"scatter\":[{\"fillpattern\":{\"fillmode\":\"overlay\",\"size\":10,\"solidity\":0.2},\"type\":\"scatter\"}],\"parcoords\":[{\"type\":\"parcoords\",\"line\":{\"colorbar\":{\"outlinewidth\":0,\"ticks\":\"\"}}}],\"scatterpolargl\":[{\"type\":\"scatterpolargl\",\"marker\":{\"colorbar\":{\"outlinewidth\":0,\"ticks\":\"\"}}}],\"bar\":[{\"error_x\":{\"color\":\"#2a3f5f\"},\"error_y\":{\"color\":\"#2a3f5f\"},\"marker\":{\"line\":{\"color\":\"#E5ECF6\",\"width\":0.5},\"pattern\":{\"fillmode\":\"overlay\",\"size\":10,\"solidity\":0.2}},\"type\":\"bar\"}],\"scattergeo\":[{\"type\":\"scattergeo\",\"marker\":{\"colorbar\":{\"outlinewidth\":0,\"ticks\":\"\"}}}],\"scatterpolar\":[{\"type\":\"scatterpolar\",\"marker\":{\"colorbar\":{\"outlinewidth\":0,\"ticks\":\"\"}}}],\"histogram\":[{\"marker\":{\"pattern\":{\"fillmode\":\"overlay\",\"size\":10,\"solidity\":0.2}},\"type\":\"histogram\"}],\"scattergl\":[{\"type\":\"scattergl\",\"marker\":{\"colorbar\":{\"outlinewidth\":0,\"ticks\":\"\"}}}],\"scatter3d\":[{\"type\":\"scatter3d\",\"line\":{\"colorbar\":{\"outlinewidth\":0,\"ticks\":\"\"}},\"marker\":{\"colorbar\":{\"outlinewidth\":0,\"ticks\":\"\"}}}],\"scattermapbox\":[{\"type\":\"scattermapbox\",\"marker\":{\"colorbar\":{\"outlinewidth\":0,\"ticks\":\"\"}}}],\"scatterternary\":[{\"type\":\"scatterternary\",\"marker\":{\"colorbar\":{\"outlinewidth\":0,\"ticks\":\"\"}}}],\"scattercarpet\":[{\"type\":\"scattercarpet\",\"marker\":{\"colorbar\":{\"outlinewidth\":0,\"ticks\":\"\"}}}],\"carpet\":[{\"aaxis\":{\"endlinecolor\":\"#2a3f5f\",\"gridcolor\":\"white\",\"linecolor\":\"white\",\"minorgridcolor\":\"white\",\"startlinecolor\":\"#2a3f5f\"},\"baxis\":{\"endlinecolor\":\"#2a3f5f\",\"gridcolor\":\"white\",\"linecolor\":\"white\",\"minorgridcolor\":\"white\",\"startlinecolor\":\"#2a3f5f\"},\"type\":\"carpet\"}],\"table\":[{\"cells\":{\"fill\":{\"color\":\"#EBF0F8\"},\"line\":{\"color\":\"white\"}},\"header\":{\"fill\":{\"color\":\"#C8D4E3\"},\"line\":{\"color\":\"white\"}},\"type\":\"table\"}],\"barpolar\":[{\"marker\":{\"line\":{\"color\":\"#E5ECF6\",\"width\":0.5},\"pattern\":{\"fillmode\":\"overlay\",\"size\":10,\"solidity\":0.2}},\"type\":\"barpolar\"}],\"pie\":[{\"automargin\":true,\"type\":\"pie\"}]},\"layout\":{\"autotypenumbers\":\"strict\",\"colorway\":[\"#636efa\",\"#EF553B\",\"#00cc96\",\"#ab63fa\",\"#FFA15A\",\"#19d3f3\",\"#FF6692\",\"#B6E880\",\"#FF97FF\",\"#FECB52\"],\"font\":{\"color\":\"#2a3f5f\"},\"hovermode\":\"closest\",\"hoverlabel\":{\"align\":\"left\"},\"paper_bgcolor\":\"white\",\"plot_bgcolor\":\"#E5ECF6\",\"polar\":{\"bgcolor\":\"#E5ECF6\",\"angularaxis\":{\"gridcolor\":\"white\",\"linecolor\":\"white\",\"ticks\":\"\"},\"radialaxis\":{\"gridcolor\":\"white\",\"linecolor\":\"white\",\"ticks\":\"\"}},\"ternary\":{\"bgcolor\":\"#E5ECF6\",\"aaxis\":{\"gridcolor\":\"white\",\"linecolor\":\"white\",\"ticks\":\"\"},\"baxis\":{\"gridcolor\":\"white\",\"linecolor\":\"white\",\"ticks\":\"\"},\"caxis\":{\"gridcolor\":\"white\",\"linecolor\":\"white\",\"ticks\":\"\"}},\"coloraxis\":{\"colorbar\":{\"outlinewidth\":0,\"ticks\":\"\"}},\"colorscale\":{\"sequential\":[[0.0,\"#0d0887\"],[0.1111111111111111,\"#46039f\"],[0.2222222222222222,\"#7201a8\"],[0.3333333333333333,\"#9c179e\"],[0.4444444444444444,\"#bd3786\"],[0.5555555555555556,\"#d8576b\"],[0.6666666666666666,\"#ed7953\"],[0.7777777777777778,\"#fb9f3a\"],[0.8888888888888888,\"#fdca26\"],[1.0,\"#f0f921\"]],\"sequentialminus\":[[0.0,\"#0d0887\"],[0.1111111111111111,\"#46039f\"],[0.2222222222222222,\"#7201a8\"],[0.3333333333333333,\"#9c179e\"],[0.4444444444444444,\"#bd3786\"],[0.5555555555555556,\"#d8576b\"],[0.6666666666666666,\"#ed7953\"],[0.7777777777777778,\"#fb9f3a\"],[0.8888888888888888,\"#fdca26\"],[1.0,\"#f0f921\"]],\"diverging\":[[0,\"#8e0152\"],[0.1,\"#c51b7d\"],[0.2,\"#de77ae\"],[0.3,\"#f1b6da\"],[0.4,\"#fde0ef\"],[0.5,\"#f7f7f7\"],[0.6,\"#e6f5d0\"],[0.7,\"#b8e186\"],[0.8,\"#7fbc41\"],[0.9,\"#4d9221\"],[1,\"#276419\"]]},\"xaxis\":{\"gridcolor\":\"white\",\"linecolor\":\"white\",\"ticks\":\"\",\"title\":{\"standoff\":15},\"zerolinecolor\":\"white\",\"automargin\":true,\"zerolinewidth\":2},\"yaxis\":{\"gridcolor\":\"white\",\"linecolor\":\"white\",\"ticks\":\"\",\"title\":{\"standoff\":15},\"zerolinecolor\":\"white\",\"automargin\":true,\"zerolinewidth\":2},\"scene\":{\"xaxis\":{\"backgroundcolor\":\"#E5ECF6\",\"gridcolor\":\"white\",\"linecolor\":\"white\",\"showbackground\":true,\"ticks\":\"\",\"zerolinecolor\":\"white\",\"gridwidth\":2},\"yaxis\":{\"backgroundcolor\":\"#E5ECF6\",\"gridcolor\":\"white\",\"linecolor\":\"white\",\"showbackground\":true,\"ticks\":\"\",\"zerolinecolor\":\"white\",\"gridwidth\":2},\"zaxis\":{\"backgroundcolor\":\"#E5ECF6\",\"gridcolor\":\"white\",\"linecolor\":\"white\",\"showbackground\":true,\"ticks\":\"\",\"zerolinecolor\":\"white\",\"gridwidth\":2}},\"shapedefaults\":{\"line\":{\"color\":\"#2a3f5f\"}},\"annotationdefaults\":{\"arrowcolor\":\"#2a3f5f\",\"arrowhead\":0,\"arrowwidth\":1},\"geo\":{\"bgcolor\":\"white\",\"landcolor\":\"#E5ECF6\",\"subunitcolor\":\"white\",\"showland\":true,\"showlakes\":true,\"lakecolor\":\"white\"},\"title\":{\"x\":0.05},\"mapbox\":{\"style\":\"light\"}}},\"xaxis\":{\"anchor\":\"y\",\"domain\":[0.0,0.3133333333333333],\"title\":{\"text\":\"Distance (km)\"}},\"yaxis\":{\"anchor\":\"x\",\"domain\":[0.0,0.2275],\"title\":{\"text\":\"Transport Mode\"},\"categoryorder\":\"array\",\"categoryarray\":[\"Train\",\"Bike\",\"Bus\",\"Car\",\"Walk\"]},\"xaxis2\":{\"anchor\":\"y2\",\"domain\":[0.3333333333333333,0.6466666666666666],\"matches\":\"x\",\"title\":{\"text\":\"Distance (km)\"}},\"yaxis2\":{\"anchor\":\"x2\",\"domain\":[0.0,0.2275],\"matches\":\"y\",\"showticklabels\":false},\"xaxis3\":{\"anchor\":\"y3\",\"domain\":[0.6666666666666666,0.98],\"matches\":\"x\",\"title\":{\"text\":\"Distance (km)\"}},\"yaxis3\":{\"anchor\":\"x3\",\"domain\":[0.0,0.2275],\"matches\":\"y\",\"showticklabels\":false},\"xaxis4\":{\"anchor\":\"y4\",\"domain\":[0.0,0.3133333333333333],\"matches\":\"x\",\"showticklabels\":false},\"yaxis4\":{\"anchor\":\"x4\",\"domain\":[0.2575,0.485],\"matches\":\"y\",\"title\":{\"text\":\"Transport Mode\"},\"categoryorder\":\"array\",\"categoryarray\":[\"Train\",\"Bike\",\"Bus\",\"Car\",\"Walk\"]},\"xaxis5\":{\"anchor\":\"y5\",\"domain\":[0.3333333333333333,0.6466666666666666],\"matches\":\"x\",\"showticklabels\":false},\"yaxis5\":{\"anchor\":\"x5\",\"domain\":[0.2575,0.485],\"matches\":\"y\",\"showticklabels\":false},\"xaxis6\":{\"anchor\":\"y6\",\"domain\":[0.6666666666666666,0.98],\"matches\":\"x\",\"showticklabels\":false},\"yaxis6\":{\"anchor\":\"x6\",\"domain\":[0.2575,0.485],\"matches\":\"y\",\"showticklabels\":false},\"xaxis7\":{\"anchor\":\"y7\",\"domain\":[0.0,0.3133333333333333],\"matches\":\"x\",\"showticklabels\":false},\"yaxis7\":{\"anchor\":\"x7\",\"domain\":[0.515,0.7425],\"matches\":\"y\",\"title\":{\"text\":\"Transport Mode\"},\"categoryorder\":\"array\",\"categoryarray\":[\"Train\",\"Bike\",\"Bus\",\"Car\",\"Walk\"]},\"xaxis8\":{\"anchor\":\"y8\",\"domain\":[0.3333333333333333,0.6466666666666666],\"matches\":\"x\",\"showticklabels\":false},\"yaxis8\":{\"anchor\":\"x8\",\"domain\":[0.515,0.7425],\"matches\":\"y\",\"showticklabels\":false},\"xaxis9\":{\"anchor\":\"y9\",\"domain\":[0.6666666666666666,0.98],\"matches\":\"x\",\"showticklabels\":false},\"yaxis9\":{\"anchor\":\"x9\",\"domain\":[0.515,0.7425],\"matches\":\"y\",\"showticklabels\":false},\"xaxis10\":{\"anchor\":\"y10\",\"domain\":[0.0,0.3133333333333333],\"matches\":\"x\",\"showticklabels\":false},\"yaxis10\":{\"anchor\":\"x10\",\"domain\":[0.7725,1.0],\"matches\":\"y\",\"title\":{\"text\":\"Transport Mode\"},\"categoryorder\":\"array\",\"categoryarray\":[\"Train\",\"Bike\",\"Bus\",\"Car\",\"Walk\"]},\"xaxis11\":{\"anchor\":\"y11\",\"domain\":[0.3333333333333333,0.6466666666666666],\"matches\":\"x\",\"showticklabels\":false},\"yaxis11\":{\"anchor\":\"x11\",\"domain\":[0.7725,1.0],\"matches\":\"y\",\"showticklabels\":false},\"xaxis12\":{\"anchor\":\"y12\",\"domain\":[0.6666666666666666,0.98],\"matches\":\"x\",\"showticklabels\":false},\"yaxis12\":{\"anchor\":\"x12\",\"domain\":[0.7725,1.0],\"matches\":\"y\",\"showticklabels\":false},\"annotations\":[{\"font\":{},\"showarrow\":false,\"text\":\"Traffic Density=Low\",\"x\":0.15666666666666665,\"xanchor\":\"center\",\"xref\":\"paper\",\"y\":1.0,\"yanchor\":\"bottom\",\"yref\":\"paper\"},{\"font\":{},\"showarrow\":false,\"text\":\"Traffic Density=Medium\",\"x\":0.49,\"xanchor\":\"center\",\"xref\":\"paper\",\"y\":1.0,\"yanchor\":\"bottom\",\"yref\":\"paper\"},{\"font\":{},\"showarrow\":false,\"text\":\"Traffic Density=High\",\"x\":0.8233333333333333,\"xanchor\":\"center\",\"xref\":\"paper\",\"y\":1.0,\"yanchor\":\"bottom\",\"yref\":\"paper\"},{\"font\":{},\"showarrow\":false,\"text\":\"Weather Condition=Foggy\",\"textangle\":90,\"x\":0.98,\"xanchor\":\"left\",\"xref\":\"paper\",\"y\":0.11375,\"yanchor\":\"middle\",\"yref\":\"paper\"},{\"font\":{},\"showarrow\":false,\"text\":\"Weather Condition=Clear\",\"textangle\":90,\"x\":0.98,\"xanchor\":\"left\",\"xref\":\"paper\",\"y\":0.37124999999999997,\"yanchor\":\"middle\",\"yref\":\"paper\"},{\"font\":{},\"showarrow\":false,\"text\":\"Weather Condition=Snowy\",\"textangle\":90,\"x\":0.98,\"xanchor\":\"left\",\"xref\":\"paper\",\"y\":0.62875,\"yanchor\":\"middle\",\"yref\":\"paper\"},{\"font\":{},\"showarrow\":false,\"text\":\"Weather Condition=Rainy\",\"textangle\":90,\"x\":0.98,\"xanchor\":\"left\",\"xref\":\"paper\",\"y\":0.88625,\"yanchor\":\"middle\",\"yref\":\"paper\"}],\"coloraxis\":{\"colorbar\":{\"title\":{\"text\":\"Travel Duration (mins)\"}},\"colorscale\":[[0.0,\"#0d0887\"],[0.1111111111111111,\"#46039f\"],[0.2222222222222222,\"#7201a8\"],[0.3333333333333333,\"#9c179e\"],[0.4444444444444444,\"#bd3786\"],[0.5555555555555556,\"#d8576b\"],[0.6666666666666666,\"#ed7953\"],[0.7777777777777778,\"#fb9f3a\"],[0.8888888888888888,\"#fdca26\"],[1.0,\"#f0f921\"]]},\"legend\":{\"title\":{\"text\":\"Transport Mode\"},\"tracegroupgap\":0,\"itemsizing\":\"constant\"},\"title\":{\"text\":\"Urban Mobility\"},\"height\":600,\"width\":600},                        {\"responsive\": true}                    ).then(function(){\n",
              "                            \n",
              "var gd = document.getElementById('81026ce3-a18b-4d92-bf56-66a97a048d07');\n",
              "var x = new MutationObserver(function (mutations, observer) {{\n",
              "        var display = window.getComputedStyle(gd).display;\n",
              "        if (!display || display === 'none') {{\n",
              "            console.log([gd, 'removed!']);\n",
              "            Plotly.purge(gd);\n",
              "            observer.disconnect();\n",
              "        }}\n",
              "}});\n",
              "\n",
              "// Listen for the removal of the full notebook cells\n",
              "var notebookContainer = gd.closest('#notebook-container');\n",
              "if (notebookContainer) {{\n",
              "    x.observe(notebookContainer, {childList: true});\n",
              "}}\n",
              "\n",
              "// Listen for the clearing of the current output cell\n",
              "var outputEl = gd.closest('.output');\n",
              "if (outputEl) {{\n",
              "    x.observe(outputEl, {childList: true});\n",
              "}}\n",
              "\n",
              "                        })                };                            </script>        </div>\n",
              "</body>\n",
              "</html>"
            ]
          },
          "metadata": {},
          "output_type": "display_data"
        }
      ],
      "source": [
        "import plotly.express as px\n",
        "\n",
        "# Horrible Plotly Express plot using as many variables as possible\n",
        "fig = px.scatter(\n",
        "    urban,\n",
        "    x='Distance (km)',\n",
        "    y='Transport Mode',\n",
        "    color='Travel Duration (mins)',\n",
        "    size='Avg Speed (km/h)',\n",
        "    facet_col='Traffic Density',\n",
        "    facet_row='Weather Condition',\n",
        "    symbol='Transport Mode',\n",
        "    title=\"Urban Mobility\",\n",
        "    opacity=1.0,\n",
        "    height=600,\n",
        "    width=600\n",
        ")\n",
        "fig.show()"
      ]
    },
    {
      "cell_type": "code",
      "execution_count": null,
      "metadata": {
        "colab": {
          "base_uri": "https://localhost:8080/",
          "height": 617
        },
        "id": "-tXpcaayDCjH",
        "outputId": "dc5695b7-21fb-4d21-fa8c-a521acb0177e"
      },
      "outputs": [
        {
          "data": {
            "text/html": [
              "<html>\n",
              "<head><meta charset=\"utf-8\" /></head>\n",
              "<body>\n",
              "    <div>            <script src=\"https://cdnjs.cloudflare.com/ajax/libs/mathjax/2.7.5/MathJax.js?config=TeX-AMS-MML_SVG\"></script><script type=\"text/javascript\">if (window.MathJax && window.MathJax.Hub && window.MathJax.Hub.Config) {window.MathJax.Hub.Config({SVG: {font: \"STIX-Web\"}});}</script>                <script type=\"text/javascript\">window.PlotlyConfig = {MathJaxConfig: 'local'};</script>\n",
              "        <script charset=\"utf-8\" src=\"https://cdn.plot.ly/plotly-2.35.2.min.js\"></script>                <div id=\"639d7888-2274-4e7d-bd0e-2857a4e19eba\" class=\"plotly-graph-div\" style=\"height:600px; width:900px;\"></div>            <script type=\"text/javascript\">                                    window.PLOTLYENV=window.PLOTLYENV || {};                                    if (document.getElementById(\"639d7888-2274-4e7d-bd0e-2857a4e19eba\")) {                    Plotly.newPlot(                        \"639d7888-2274-4e7d-bd0e-2857a4e19eba\",                        [{\"hovertemplate\":\"Transport Mode=Walk\\u003cbr\\u003eTraffic Density=Low\\u003cbr\\u003eDistance (km)=%{x}\\u003cbr\\u003eTravel Duration (mins)=%{y}\\u003cextra\\u003e\\u003c\\u002fextra\\u003e\",\"legendgroup\":\"Walk\",\"marker\":{\"color\":\"#636efa\",\"symbol\":\"circle\"},\"mode\":\"markers\",\"name\":\"Walk\",\"orientation\":\"v\",\"showlegend\":true,\"x\":[0.93,0.93,0.93,0.93,0.93,0.93,0.93,0.93,0.93,0.93],\"xaxis\":\"x\",\"y\":[8.9,8.9,8.9,8.9,8.9,8.9,8.9,8.9,8.9,8.9],\"yaxis\":\"y\",\"type\":\"scatter\"},{\"hovertemplate\":\"Transport Mode=Walk\\u003cbr\\u003eTraffic Density=Medium\\u003cbr\\u003eDistance (km)=%{x}\\u003cbr\\u003eTravel Duration (mins)=%{y}\\u003cextra\\u003e\\u003c\\u002fextra\\u003e\",\"legendgroup\":\"Walk\",\"marker\":{\"color\":\"#636efa\",\"symbol\":\"circle\"},\"mode\":\"markers\",\"name\":\"Walk\",\"orientation\":\"v\",\"showlegend\":false,\"x\":[1.77,1.77,1.77,1.77,1.77,1.92,1.92,1.92],\"xaxis\":\"x2\",\"y\":[31.5,31.5,31.5,31.5,31.5,26.2,26.2,26.2],\"yaxis\":\"y2\",\"type\":\"scatter\"},{\"hovertemplate\":\"Transport Mode=Car\\u003cbr\\u003eTraffic Density=Low\\u003cbr\\u003eDistance (km)=%{x}\\u003cbr\\u003eTravel Duration (mins)=%{y}\\u003cextra\\u003e\\u003c\\u002fextra\\u003e\",\"legendgroup\":\"Car\",\"marker\":{\"color\":\"#EF553B\",\"symbol\":\"circle\"},\"mode\":\"markers\",\"name\":\"Car\",\"orientation\":\"v\",\"showlegend\":true,\"x\":[9.15,19.79,9.79,7.27,9.25,8.65,7.24,13.11,5.31,14.49,8.19,19.29,11.47,7.56,18.37,11.51,5.98,17.86,16.26,9.94,12.9,17.39,19.0,7.86,19.84,6.06,5.6,14.19],\"xaxis\":\"x\",\"y\":[16.9,35.9,32.5,14.6,16.1,17.6,17.5,42.7,9.7,25.8,16.3,61.1,19.9,15.4,38.7,38.2,15.7,32.7,29.8,31.3,34.1,54.3,47.6,25.1,49.3,10.9,14.9,37.1],\"yaxis\":\"y\",\"type\":\"scatter\"},{\"hovertemplate\":\"Transport Mode=Car\\u003cbr\\u003eTraffic Density=Medium\\u003cbr\\u003eDistance (km)=%{x}\\u003cbr\\u003eTravel Duration (mins)=%{y}\\u003cextra\\u003e\\u003c\\u002fextra\\u003e\",\"legendgroup\":\"Car\",\"marker\":{\"color\":\"#EF553B\",\"symbol\":\"circle\"},\"mode\":\"markers\",\"name\":\"Car\",\"orientation\":\"v\",\"showlegend\":false,\"x\":[17.25,8.25,14.14,11.76,10.67,19.1,7.56,12.41,11.76,12.75,5.45,15.74,8.74,15.75,18.31,9.46,11.87,19.44,13.31,8.09,9.55,5.49,16.77,14.53,12.98,8.35,15.45,18.65,12.04,15.14,7.74,13.13,12.66,10.65,8.21,16.62],\"xaxis\":\"x2\",\"y\":[40.6,21.7,30.2,21.3,22.2,63.5,17.3,27.3,28.1,29.3,16.4,29.0,15.2,31.1,35.4,17.2,21.8,54.2,25.0,17.5,23.6,15.0,31.9,28.0,33.0,15.6,43.9,39.7,26.5,46.1,15.3,33.8,35.1,20.5,14.4,28.2],\"yaxis\":\"y2\",\"type\":\"scatter\"},{\"hovertemplate\":\"Transport Mode=Car\\u003cbr\\u003eTraffic Density=High\\u003cbr\\u003eDistance (km)=%{x}\\u003cbr\\u003eTravel Duration (mins)=%{y}\\u003cextra\\u003e\\u003c\\u002fextra\\u003e\",\"legendgroup\":\"Car\",\"marker\":{\"color\":\"#EF553B\",\"symbol\":\"circle\"},\"mode\":\"markers\",\"name\":\"Car\",\"orientation\":\"v\",\"showlegend\":false,\"x\":[17.4,13.13,16.22,14.81,8.07,5.22,15.62,14.44,13.19,5.51,9.26,10.9,14.04,17.44,9.44,17.65,11.53,9.92,13.19,15.05,6.61,11.92,7.29,8.1,14.92,7.04,19.45,8.67],\"xaxis\":\"x3\",\"y\":[40.8,29.1,30.3,47.9,15.3,10.2,40.5,30.4,29.1,13.4,28.8,23.5,41.1,56.7,28.2,37.7,22.6,19.1,37.6,27.5,11.9,20.6,18.7,19.5,34.6,12.9,42.3,14.6],\"yaxis\":\"y3\",\"type\":\"scatter\"},{\"hovertemplate\":\"Transport Mode=Bus\\u003cbr\\u003eTraffic Density=Low\\u003cbr\\u003eDistance (km)=%{x}\\u003cbr\\u003eTravel Duration (mins)=%{y}\\u003cextra\\u003e\\u003c\\u002fextra\\u003e\",\"legendgroup\":\"Bus\",\"marker\":{\"color\":\"#00cc96\",\"symbol\":\"circle\"},\"mode\":\"markers\",\"name\":\"Bus\",\"orientation\":\"v\",\"showlegend\":true,\"x\":[5.74,5.1,5.93,5.08,8.26,7.23,7.52,6.64,7.42],\"xaxis\":\"x\",\"y\":[18.3,9.4,10.2,14.5,22.1,16.1,17.0,13.4,14.7],\"yaxis\":\"y\",\"type\":\"scatter\"},{\"hovertemplate\":\"Transport Mode=Bus\\u003cbr\\u003eTraffic Density=Medium\\u003cbr\\u003eDistance (km)=%{x}\\u003cbr\\u003eTravel Duration (mins)=%{y}\\u003cextra\\u003e\\u003c\\u002fextra\\u003e\",\"legendgroup\":\"Bus\",\"marker\":{\"color\":\"#00cc96\",\"symbol\":\"circle\"},\"mode\":\"markers\",\"name\":\"Bus\",\"orientation\":\"v\",\"showlegend\":false,\"x\":[7.8,7.85,5.96,7.15,8.99,7.2,8.24,5.04,5.22,5.53],\"xaxis\":\"x2\",\"y\":[13.8,17.9,10.9,14.6,19.7,21.7,24.7,8.8,9.5,10.7],\"yaxis\":\"y2\",\"type\":\"scatter\"},{\"hovertemplate\":\"Transport Mode=Bus\\u003cbr\\u003eTraffic Density=High\\u003cbr\\u003eDistance (km)=%{x}\\u003cbr\\u003eTravel Duration (mins)=%{y}\\u003cextra\\u003e\\u003c\\u002fextra\\u003e\",\"legendgroup\":\"Bus\",\"marker\":{\"color\":\"#00cc96\",\"symbol\":\"circle\"},\"mode\":\"markers\",\"name\":\"Bus\",\"orientation\":\"v\",\"showlegend\":false,\"x\":[5.8,8.45,9.21,9.71,5.62,9.61],\"xaxis\":\"x3\",\"y\":[10.9,20.9,16.5,25.3,12.4,29.6],\"yaxis\":\"y3\",\"type\":\"scatter\"},{\"hovertemplate\":\"Transport Mode=Bike\\u003cbr\\u003eTraffic Density=Low\\u003cbr\\u003eDistance (km)=%{x}\\u003cbr\\u003eTravel Duration (mins)=%{y}\\u003cextra\\u003e\\u003c\\u002fextra\\u003e\",\"legendgroup\":\"Bike\",\"marker\":{\"color\":\"#ab63fa\",\"symbol\":\"circle\"},\"mode\":\"markers\",\"name\":\"Bike\",\"orientation\":\"v\",\"showlegend\":true,\"x\":[4.43,0.63,3.01,2.79,3.74,3.08,4.89,3.33,2.54,1.99,3.16],\"xaxis\":\"x\",\"y\":[21.7,3.0,18.7,11.3,15.6,13.9,23.0,16.1,16.1,11.8,14.1],\"yaxis\":\"y\",\"type\":\"scatter\"},{\"hovertemplate\":\"Transport Mode=Bike\\u003cbr\\u003eTraffic Density=Medium\\u003cbr\\u003eDistance (km)=%{x}\\u003cbr\\u003eTravel Duration (mins)=%{y}\\u003cextra\\u003e\\u003c\\u002fextra\\u003e\",\"legendgroup\":\"Bike\",\"marker\":{\"color\":\"#ab63fa\",\"symbol\":\"circle\"},\"mode\":\"markers\",\"name\":\"Bike\",\"orientation\":\"v\",\"showlegend\":false,\"x\":[3.76,4.54,2.86,4.76,3.6,4.09,2.74,2.47,3.51,3.03,2.46,1.63,4.15,2.01,2.66,4.78,2.66,1.95,1.81],\"xaxis\":\"x2\",\"y\":[22.3,19.1,18.1,29.8,16.7,17.6,17.9,10.5,21.0,14.9,10.2,6.6,17.2,8.8,11.5,25.7,16.9,9.3,9.5],\"yaxis\":\"y2\",\"type\":\"scatter\"},{\"hovertemplate\":\"Transport Mode=Bike\\u003cbr\\u003eTraffic Density=High\\u003cbr\\u003eDistance (km)=%{x}\\u003cbr\\u003eTravel Duration (mins)=%{y}\\u003cextra\\u003e\\u003c\\u002fextra\\u003e\",\"legendgroup\":\"Bike\",\"marker\":{\"color\":\"#ab63fa\",\"symbol\":\"circle\"},\"mode\":\"markers\",\"name\":\"Bike\",\"orientation\":\"v\",\"showlegend\":false,\"x\":[2.66,2.74,3.15,2.23,4.71,2.25,3.79,3.74,3.11,2.72,2.53,4.76,1.76,2.61,4.79,0.61,2.85],\"xaxis\":\"x3\",\"y\":[17.7,13.4,20.6,11.0,24.6,10.1,22.3,17.3,17.6,14.2,10.2,19.6,9.6,13.5,23.1,4.0,12.2],\"yaxis\":\"y3\",\"type\":\"scatter\"},{\"hovertemplate\":\"Transport Mode=Train\\u003cbr\\u003eTraffic Density=Low\\u003cbr\\u003eDistance (km)=%{x}\\u003cbr\\u003eTravel Duration (mins)=%{y}\\u003cextra\\u003e\\u003c\\u002fextra\\u003e\",\"legendgroup\":\"Train\",\"marker\":{\"color\":\"#FFA15A\",\"symbol\":\"circle\"},\"mode\":\"markers\",\"name\":\"Train\",\"orientation\":\"v\",\"showlegend\":true,\"x\":[15.97,10.09,19.12,15.07,11.12,12.93,15.76],\"xaxis\":\"x\",\"y\":[16.0,11.8,26.4,19.8,13.7,13.0,20.5],\"yaxis\":\"y\",\"type\":\"scatter\"},{\"hovertemplate\":\"Transport Mode=Train\\u003cbr\\u003eTraffic Density=Medium\\u003cbr\\u003eDistance (km)=%{x}\\u003cbr\\u003eTravel Duration (mins)=%{y}\\u003cextra\\u003e\\u003c\\u002fextra\\u003e\",\"legendgroup\":\"Train\",\"marker\":{\"color\":\"#FFA15A\",\"symbol\":\"circle\"},\"mode\":\"markers\",\"name\":\"Train\",\"orientation\":\"v\",\"showlegend\":false,\"x\":[18.17,19.14,15.38,15.94,16.49,10.18,18.02,19.5,15.49,19.18,18.18],\"xaxis\":\"x2\",\"y\":[25.5,21.7,15.8,20.8,19.2,11.0,21.5,25.7,17.0,19.2,22.1],\"yaxis\":\"y2\",\"type\":\"scatter\"},{\"hovertemplate\":\"Transport Mode=Train\\u003cbr\\u003eTraffic Density=High\\u003cbr\\u003eDistance (km)=%{x}\\u003cbr\\u003eTravel Duration (mins)=%{y}\\u003cextra\\u003e\\u003c\\u002fextra\\u003e\",\"legendgroup\":\"Train\",\"marker\":{\"color\":\"#FFA15A\",\"symbol\":\"circle\"},\"mode\":\"markers\",\"name\":\"Train\",\"orientation\":\"v\",\"showlegend\":false,\"x\":[10.26,17.5,14.33,11.81,17.01,15.29,16.18,18.34,12.87,19.15,19.01,14.53,13.81,19.31,19.83],\"xaxis\":\"x3\",\"y\":[14.3,19.6,15.9,15.7,18.9,15.9,21.8,21.1,15.9,24.4,20.5,15.8,14.6,20.6,23.1],\"yaxis\":\"y3\",\"type\":\"scatter\"}],                        {\"template\":{\"data\":{\"histogram2dcontour\":[{\"type\":\"histogram2dcontour\",\"colorbar\":{\"outlinewidth\":0,\"ticks\":\"\"},\"colorscale\":[[0.0,\"#0d0887\"],[0.1111111111111111,\"#46039f\"],[0.2222222222222222,\"#7201a8\"],[0.3333333333333333,\"#9c179e\"],[0.4444444444444444,\"#bd3786\"],[0.5555555555555556,\"#d8576b\"],[0.6666666666666666,\"#ed7953\"],[0.7777777777777778,\"#fb9f3a\"],[0.8888888888888888,\"#fdca26\"],[1.0,\"#f0f921\"]]}],\"choropleth\":[{\"type\":\"choropleth\",\"colorbar\":{\"outlinewidth\":0,\"ticks\":\"\"}}],\"histogram2d\":[{\"type\":\"histogram2d\",\"colorbar\":{\"outlinewidth\":0,\"ticks\":\"\"},\"colorscale\":[[0.0,\"#0d0887\"],[0.1111111111111111,\"#46039f\"],[0.2222222222222222,\"#7201a8\"],[0.3333333333333333,\"#9c179e\"],[0.4444444444444444,\"#bd3786\"],[0.5555555555555556,\"#d8576b\"],[0.6666666666666666,\"#ed7953\"],[0.7777777777777778,\"#fb9f3a\"],[0.8888888888888888,\"#fdca26\"],[1.0,\"#f0f921\"]]}],\"heatmap\":[{\"type\":\"heatmap\",\"colorbar\":{\"outlinewidth\":0,\"ticks\":\"\"},\"colorscale\":[[0.0,\"#0d0887\"],[0.1111111111111111,\"#46039f\"],[0.2222222222222222,\"#7201a8\"],[0.3333333333333333,\"#9c179e\"],[0.4444444444444444,\"#bd3786\"],[0.5555555555555556,\"#d8576b\"],[0.6666666666666666,\"#ed7953\"],[0.7777777777777778,\"#fb9f3a\"],[0.8888888888888888,\"#fdca26\"],[1.0,\"#f0f921\"]]}],\"heatmapgl\":[{\"type\":\"heatmapgl\",\"colorbar\":{\"outlinewidth\":0,\"ticks\":\"\"},\"colorscale\":[[0.0,\"#0d0887\"],[0.1111111111111111,\"#46039f\"],[0.2222222222222222,\"#7201a8\"],[0.3333333333333333,\"#9c179e\"],[0.4444444444444444,\"#bd3786\"],[0.5555555555555556,\"#d8576b\"],[0.6666666666666666,\"#ed7953\"],[0.7777777777777778,\"#fb9f3a\"],[0.8888888888888888,\"#fdca26\"],[1.0,\"#f0f921\"]]}],\"contourcarpet\":[{\"type\":\"contourcarpet\",\"colorbar\":{\"outlinewidth\":0,\"ticks\":\"\"}}],\"contour\":[{\"type\":\"contour\",\"colorbar\":{\"outlinewidth\":0,\"ticks\":\"\"},\"colorscale\":[[0.0,\"#0d0887\"],[0.1111111111111111,\"#46039f\"],[0.2222222222222222,\"#7201a8\"],[0.3333333333333333,\"#9c179e\"],[0.4444444444444444,\"#bd3786\"],[0.5555555555555556,\"#d8576b\"],[0.6666666666666666,\"#ed7953\"],[0.7777777777777778,\"#fb9f3a\"],[0.8888888888888888,\"#fdca26\"],[1.0,\"#f0f921\"]]}],\"surface\":[{\"type\":\"surface\",\"colorbar\":{\"outlinewidth\":0,\"ticks\":\"\"},\"colorscale\":[[0.0,\"#0d0887\"],[0.1111111111111111,\"#46039f\"],[0.2222222222222222,\"#7201a8\"],[0.3333333333333333,\"#9c179e\"],[0.4444444444444444,\"#bd3786\"],[0.5555555555555556,\"#d8576b\"],[0.6666666666666666,\"#ed7953\"],[0.7777777777777778,\"#fb9f3a\"],[0.8888888888888888,\"#fdca26\"],[1.0,\"#f0f921\"]]}],\"mesh3d\":[{\"type\":\"mesh3d\",\"colorbar\":{\"outlinewidth\":0,\"ticks\":\"\"}}],\"scatter\":[{\"fillpattern\":{\"fillmode\":\"overlay\",\"size\":10,\"solidity\":0.2},\"type\":\"scatter\"}],\"parcoords\":[{\"type\":\"parcoords\",\"line\":{\"colorbar\":{\"outlinewidth\":0,\"ticks\":\"\"}}}],\"scatterpolargl\":[{\"type\":\"scatterpolargl\",\"marker\":{\"colorbar\":{\"outlinewidth\":0,\"ticks\":\"\"}}}],\"bar\":[{\"error_x\":{\"color\":\"#2a3f5f\"},\"error_y\":{\"color\":\"#2a3f5f\"},\"marker\":{\"line\":{\"color\":\"#E5ECF6\",\"width\":0.5},\"pattern\":{\"fillmode\":\"overlay\",\"size\":10,\"solidity\":0.2}},\"type\":\"bar\"}],\"scattergeo\":[{\"type\":\"scattergeo\",\"marker\":{\"colorbar\":{\"outlinewidth\":0,\"ticks\":\"\"}}}],\"scatterpolar\":[{\"type\":\"scatterpolar\",\"marker\":{\"colorbar\":{\"outlinewidth\":0,\"ticks\":\"\"}}}],\"histogram\":[{\"marker\":{\"pattern\":{\"fillmode\":\"overlay\",\"size\":10,\"solidity\":0.2}},\"type\":\"histogram\"}],\"scattergl\":[{\"type\":\"scattergl\",\"marker\":{\"colorbar\":{\"outlinewidth\":0,\"ticks\":\"\"}}}],\"scatter3d\":[{\"type\":\"scatter3d\",\"line\":{\"colorbar\":{\"outlinewidth\":0,\"ticks\":\"\"}},\"marker\":{\"colorbar\":{\"outlinewidth\":0,\"ticks\":\"\"}}}],\"scattermapbox\":[{\"type\":\"scattermapbox\",\"marker\":{\"colorbar\":{\"outlinewidth\":0,\"ticks\":\"\"}}}],\"scatterternary\":[{\"type\":\"scatterternary\",\"marker\":{\"colorbar\":{\"outlinewidth\":0,\"ticks\":\"\"}}}],\"scattercarpet\":[{\"type\":\"scattercarpet\",\"marker\":{\"colorbar\":{\"outlinewidth\":0,\"ticks\":\"\"}}}],\"carpet\":[{\"aaxis\":{\"endlinecolor\":\"#2a3f5f\",\"gridcolor\":\"white\",\"linecolor\":\"white\",\"minorgridcolor\":\"white\",\"startlinecolor\":\"#2a3f5f\"},\"baxis\":{\"endlinecolor\":\"#2a3f5f\",\"gridcolor\":\"white\",\"linecolor\":\"white\",\"minorgridcolor\":\"white\",\"startlinecolor\":\"#2a3f5f\"},\"type\":\"carpet\"}],\"table\":[{\"cells\":{\"fill\":{\"color\":\"#EBF0F8\"},\"line\":{\"color\":\"white\"}},\"header\":{\"fill\":{\"color\":\"#C8D4E3\"},\"line\":{\"color\":\"white\"}},\"type\":\"table\"}],\"barpolar\":[{\"marker\":{\"line\":{\"color\":\"#E5ECF6\",\"width\":0.5},\"pattern\":{\"fillmode\":\"overlay\",\"size\":10,\"solidity\":0.2}},\"type\":\"barpolar\"}],\"pie\":[{\"automargin\":true,\"type\":\"pie\"}]},\"layout\":{\"autotypenumbers\":\"strict\",\"colorway\":[\"#636efa\",\"#EF553B\",\"#00cc96\",\"#ab63fa\",\"#FFA15A\",\"#19d3f3\",\"#FF6692\",\"#B6E880\",\"#FF97FF\",\"#FECB52\"],\"font\":{\"color\":\"#2a3f5f\"},\"hovermode\":\"closest\",\"hoverlabel\":{\"align\":\"left\"},\"paper_bgcolor\":\"white\",\"plot_bgcolor\":\"#E5ECF6\",\"polar\":{\"bgcolor\":\"#E5ECF6\",\"angularaxis\":{\"gridcolor\":\"white\",\"linecolor\":\"white\",\"ticks\":\"\"},\"radialaxis\":{\"gridcolor\":\"white\",\"linecolor\":\"white\",\"ticks\":\"\"}},\"ternary\":{\"bgcolor\":\"#E5ECF6\",\"aaxis\":{\"gridcolor\":\"white\",\"linecolor\":\"white\",\"ticks\":\"\"},\"baxis\":{\"gridcolor\":\"white\",\"linecolor\":\"white\",\"ticks\":\"\"},\"caxis\":{\"gridcolor\":\"white\",\"linecolor\":\"white\",\"ticks\":\"\"}},\"coloraxis\":{\"colorbar\":{\"outlinewidth\":0,\"ticks\":\"\"}},\"colorscale\":{\"sequential\":[[0.0,\"#0d0887\"],[0.1111111111111111,\"#46039f\"],[0.2222222222222222,\"#7201a8\"],[0.3333333333333333,\"#9c179e\"],[0.4444444444444444,\"#bd3786\"],[0.5555555555555556,\"#d8576b\"],[0.6666666666666666,\"#ed7953\"],[0.7777777777777778,\"#fb9f3a\"],[0.8888888888888888,\"#fdca26\"],[1.0,\"#f0f921\"]],\"sequentialminus\":[[0.0,\"#0d0887\"],[0.1111111111111111,\"#46039f\"],[0.2222222222222222,\"#7201a8\"],[0.3333333333333333,\"#9c179e\"],[0.4444444444444444,\"#bd3786\"],[0.5555555555555556,\"#d8576b\"],[0.6666666666666666,\"#ed7953\"],[0.7777777777777778,\"#fb9f3a\"],[0.8888888888888888,\"#fdca26\"],[1.0,\"#f0f921\"]],\"diverging\":[[0,\"#8e0152\"],[0.1,\"#c51b7d\"],[0.2,\"#de77ae\"],[0.3,\"#f1b6da\"],[0.4,\"#fde0ef\"],[0.5,\"#f7f7f7\"],[0.6,\"#e6f5d0\"],[0.7,\"#b8e186\"],[0.8,\"#7fbc41\"],[0.9,\"#4d9221\"],[1,\"#276419\"]]},\"xaxis\":{\"gridcolor\":\"white\",\"linecolor\":\"white\",\"ticks\":\"\",\"title\":{\"standoff\":15},\"zerolinecolor\":\"white\",\"automargin\":true,\"zerolinewidth\":2},\"yaxis\":{\"gridcolor\":\"white\",\"linecolor\":\"white\",\"ticks\":\"\",\"title\":{\"standoff\":15},\"zerolinecolor\":\"white\",\"automargin\":true,\"zerolinewidth\":2},\"scene\":{\"xaxis\":{\"backgroundcolor\":\"#E5ECF6\",\"gridcolor\":\"white\",\"linecolor\":\"white\",\"showbackground\":true,\"ticks\":\"\",\"zerolinecolor\":\"white\",\"gridwidth\":2},\"yaxis\":{\"backgroundcolor\":\"#E5ECF6\",\"gridcolor\":\"white\",\"linecolor\":\"white\",\"showbackground\":true,\"ticks\":\"\",\"zerolinecolor\":\"white\",\"gridwidth\":2},\"zaxis\":{\"backgroundcolor\":\"#E5ECF6\",\"gridcolor\":\"white\",\"linecolor\":\"white\",\"showbackground\":true,\"ticks\":\"\",\"zerolinecolor\":\"white\",\"gridwidth\":2}},\"shapedefaults\":{\"line\":{\"color\":\"#2a3f5f\"}},\"annotationdefaults\":{\"arrowcolor\":\"#2a3f5f\",\"arrowhead\":0,\"arrowwidth\":1},\"geo\":{\"bgcolor\":\"white\",\"landcolor\":\"#E5ECF6\",\"subunitcolor\":\"white\",\"showland\":true,\"showlakes\":true,\"lakecolor\":\"white\"},\"title\":{\"x\":0.05},\"mapbox\":{\"style\":\"light\"}}},\"xaxis\":{\"anchor\":\"y\",\"domain\":[0.0,0.31999999999999995],\"title\":{\"text\":\"Distance (km)\"}},\"yaxis\":{\"anchor\":\"x\",\"domain\":[0.0,1.0],\"title\":{\"text\":\"Travel Duration (mins)\"}},\"xaxis2\":{\"anchor\":\"y2\",\"domain\":[0.33999999999999997,0.6599999999999999],\"matches\":\"x\",\"title\":{\"text\":\"Distance (km)\"}},\"yaxis2\":{\"anchor\":\"x2\",\"domain\":[0.0,1.0],\"matches\":\"y\",\"showticklabels\":false},\"xaxis3\":{\"anchor\":\"y3\",\"domain\":[0.6799999999999999,0.9999999999999999],\"matches\":\"x\",\"title\":{\"text\":\"Distance (km)\"}},\"yaxis3\":{\"anchor\":\"x3\",\"domain\":[0.0,1.0],\"matches\":\"y\",\"showticklabels\":false},\"annotations\":[{\"font\":{},\"showarrow\":false,\"text\":\"Traffic Density=Low\",\"x\":0.15999999999999998,\"xanchor\":\"center\",\"xref\":\"paper\",\"y\":1.0,\"yanchor\":\"bottom\",\"yref\":\"paper\"},{\"font\":{},\"showarrow\":false,\"text\":\"Traffic Density=Medium\",\"x\":0.49999999999999994,\"xanchor\":\"center\",\"xref\":\"paper\",\"y\":1.0,\"yanchor\":\"bottom\",\"yref\":\"paper\"},{\"font\":{},\"showarrow\":false,\"text\":\"Traffic Density=High\",\"x\":0.8399999999999999,\"xanchor\":\"center\",\"xref\":\"paper\",\"y\":1.0,\"yanchor\":\"bottom\",\"yref\":\"paper\"}],\"legend\":{\"title\":{\"text\":\"Transport Mode\"},\"tracegroupgap\":0},\"title\":{\"text\":\"Urban Mobility: Distance vs. Travel Duration\"},\"height\":600,\"width\":900},                        {\"responsive\": true}                    ).then(function(){\n",
              "                            \n",
              "var gd = document.getElementById('639d7888-2274-4e7d-bd0e-2857a4e19eba');\n",
              "var x = new MutationObserver(function (mutations, observer) {{\n",
              "        var display = window.getComputedStyle(gd).display;\n",
              "        if (!display || display === 'none') {{\n",
              "            console.log([gd, 'removed!']);\n",
              "            Plotly.purge(gd);\n",
              "            observer.disconnect();\n",
              "        }}\n",
              "}});\n",
              "\n",
              "// Listen for the removal of the full notebook cells\n",
              "var notebookContainer = gd.closest('#notebook-container');\n",
              "if (notebookContainer) {{\n",
              "    x.observe(notebookContainer, {childList: true});\n",
              "}}\n",
              "\n",
              "// Listen for the clearing of the current output cell\n",
              "var outputEl = gd.closest('.output');\n",
              "if (outputEl) {{\n",
              "    x.observe(outputEl, {childList: true});\n",
              "}}\n",
              "\n",
              "                        })                };                            </script>        </div>\n",
              "</body>\n",
              "</html>"
            ]
          },
          "metadata": {},
          "output_type": "display_data"
        }
      ],
      "source": [
        "fig = px.scatter(\n",
        "    urban,\n",
        "    x='Distance (km)',\n",
        "    y='Travel Duration (mins)',\n",
        "    color='Transport Mode',\n",
        "    facet_col='Traffic Density',\n",
        "    title=\"Urban Mobility: Distance vs. Travel Duration\",\n",
        "    height=600,\n",
        "    width=900\n",
        ")\n",
        "fig.show()"
      ]
    },
    {
      "cell_type": "markdown",
      "metadata": {
        "id": "YYXkhsXHDkCH"
      },
      "source": [
        "**📝 Exercise 2**: The following plot is trying to analyse `Travel Duration (mins)` and `Traffic Density`. Is this the best way to analyse these two variables? Clearly not. Try getting a better plot.\n",
        "(No unique answer here)."
      ]
    },
    {
      "cell_type": "code",
      "execution_count": null,
      "metadata": {
        "colab": {
          "base_uri": "https://localhost:8080/",
          "height": 542
        },
        "id": "E3hgZNHiiGn4",
        "outputId": "8502fda9-4eb9-481f-f884-a7ce67661178"
      },
      "outputs": [
        {
          "data": {
            "text/html": [
              "<html>\n",
              "<head><meta charset=\"utf-8\" /></head>\n",
              "<body>\n",
              "    <div>            <script src=\"https://cdnjs.cloudflare.com/ajax/libs/mathjax/2.7.5/MathJax.js?config=TeX-AMS-MML_SVG\"></script><script type=\"text/javascript\">if (window.MathJax && window.MathJax.Hub && window.MathJax.Hub.Config) {window.MathJax.Hub.Config({SVG: {font: \"STIX-Web\"}});}</script>                <script type=\"text/javascript\">window.PlotlyConfig = {MathJaxConfig: 'local'};</script>\n",
              "        <script charset=\"utf-8\" src=\"https://cdn.plot.ly/plotly-2.35.2.min.js\"></script>                <div id=\"46225e2d-3601-4a3b-b880-07d250987411\" class=\"plotly-graph-div\" style=\"height:525px; width:100%;\"></div>            <script type=\"text/javascript\">                                    window.PLOTLYENV=window.PLOTLYENV || {};                                    if (document.getElementById(\"46225e2d-3601-4a3b-b880-07d250987411\")) {                    Plotly.newPlot(                        \"46225e2d-3601-4a3b-b880-07d250987411\",                        [{\"domain\":{\"x\":[0.0,1.0],\"y\":[0.0,1.0]},\"hovertemplate\":\"Traffic Density=%{label}\\u003cbr\\u003eTravel Duration (mins)=%{value}\\u003cextra\\u003e\\u003c\\u002fextra\\u003e\",\"labels\":[\"Low\",\"Medium\",\"Low\",\"Medium\",\"High\",\"Medium\",\"High\",\"Low\",\"Medium\",\"Low\",\"High\",\"High\",\"Medium\",\"Medium\",\"Medium\",\"High\",\"Medium\",\"Low\",\"High\",\"Medium\",\"Medium\",\"High\",\"Medium\",\"High\",\"Low\",\"Low\",\"Medium\",\"Medium\",\"Low\",\"High\",\"High\",\"Medium\",\"Low\",\"Low\",\"Low\",\"Medium\",\"Medium\",\"Low\",\"High\",\"Medium\",\"Low\",\"High\",\"High\",\"Low\",\"High\",\"Medium\",\"Medium\",\"Low\",\"Medium\",\"High\",\"Low\",\"Medium\",\"High\",\"High\",\"Medium\",\"High\",\"Low\",\"Medium\",\"High\",\"Medium\",\"Medium\",\"Low\",\"Low\",\"Medium\",\"Low\",\"Medium\",\"High\",\"Medium\",\"Low\",\"Medium\",\"Low\",\"Medium\",\"Medium\",\"High\",\"Medium\",\"High\",\"Medium\",\"High\",\"Medium\",\"Medium\",\"Low\",\"Medium\",\"High\",\"High\",\"High\",\"Medium\",\"Medium\",\"High\",\"Low\",\"High\",\"Low\",\"High\",\"High\",\"Low\",\"High\",\"Medium\",\"Medium\",\"Medium\",\"Medium\",\"Medium\",\"Medium\",\"Medium\",\"Medium\",\"High\",\"High\",\"Medium\",\"Low\",\"Low\",\"High\",\"High\",\"Low\",\"Low\",\"Medium\",\"Low\",\"High\",\"Medium\",\"Low\",\"Low\",\"Medium\",\"Medium\",\"High\",\"High\",\"Low\",\"Low\",\"Medium\",\"High\",\"Low\",\"High\",\"Medium\",\"Low\",\"Low\",\"Low\",\"Medium\",\"Low\",\"Medium\",\"High\",\"High\",\"Medium\",\"High\",\"High\",\"Medium\",\"Medium\",\"Medium\",\"Medium\",\"High\",\"Medium\",\"Medium\",\"Low\",\"Medium\",\"Medium\",\"Low\",\"Medium\",\"Low\",\"Medium\",\"Medium\",\"Medium\",\"High\",\"Medium\",\"Low\",\"High\",\"High\",\"Medium\",\"High\",\"Low\",\"High\",\"Low\",\"Low\",\"Low\",\"Medium\",\"High\",\"High\",\"Low\",\"High\",\"Medium\",\"Low\",\"High\",\"High\",\"Medium\",\"Medium\",\"Low\",\"Low\",\"Low\",\"Low\",\"High\",\"High\",\"Low\",\"Low\",\"High\",\"Medium\",\"High\",\"Medium\",\"High\",\"Medium\",\"Low\",\"Medium\",\"High\",\"Low\",\"Medium\",\"Medium\",\"High\",\"Low\",\"High\",\"High\",\"Low\",\"Low\",\"Medium\",\"Medium\",\"High\",\"Low\",\"Medium\",\"Medium\",\"Low\",\"Low\",\"Low\",\"High\"],\"legendgroup\":\"\",\"name\":\"\",\"showlegend\":true,\"values\":[8.9,31.5,16.9,40.6,10.9,13.8,40.8,35.9,31.5,32.5,29.1,30.3,21.7,17.9,30.2,17.7,22.3,14.6,14.3,10.9,25.5,47.9,14.6,13.4,16.1,16.0,19.7,31.5,17.6,20.9,16.5,21.3,17.5,42.7,9.7,19.1,22.2,11.8,15.3,18.1,25.8,10.2,20.6,16.3,25.3,63.5,17.3,8.9,27.3,40.5,26.4,28.1,11.0,30.4,21.7,29.1,61.1,29.8,13.4,15.8,29.3,19.8,19.9,16.4,15.4,29.0,12.4,15.2,38.7,31.1,21.7,16.7,21.7,24.6,17.6,28.8,35.4,10.1,17.2,31.5,18.3,17.9,22.3,23.5,41.1,21.8,20.8,19.6,3.0,15.9,9.4,56.7,17.3,8.9,15.7,24.7,54.2,19.2,25.0,17.5,8.8,23.6,15.0,28.2,37.7,11.0,8.9,38.2,22.6,18.9,13.7,8.9,31.9,13.0,15.9,31.5,15.7,10.2,26.2,10.5,19.1,37.6,14.5,8.9,28.0,27.5,22.1,17.6,9.5,32.7,18.7,11.3,33.0,15.6,21.0,14.2,21.8,21.5,10.2,21.1,25.7,14.9,10.7,15.6,11.9,17.0,43.9,29.8,10.2,6.6,31.3,39.7,34.1,17.2,26.5,46.1,20.6,15.3,16.1,15.9,18.7,19.2,19.6,20.5,24.4,54.3,47.6,13.9,22.1,29.6,9.6,8.9,20.5,33.8,23.0,19.5,34.6,8.8,11.5,17.0,8.9,25.1,49.3,15.8,13.5,16.1,13.4,14.6,26.2,23.1,35.1,20.6,25.7,8.9,20.5,12.9,16.1,14.4,16.9,23.1,14.7,42.3,4.0,8.9,10.9,28.2,26.2,14.6,11.8,9.3,9.5,14.9,37.1,14.1,12.2],\"type\":\"pie\"}],                        {\"template\":{\"data\":{\"histogram2dcontour\":[{\"type\":\"histogram2dcontour\",\"colorbar\":{\"outlinewidth\":0,\"ticks\":\"\"},\"colorscale\":[[0.0,\"#0d0887\"],[0.1111111111111111,\"#46039f\"],[0.2222222222222222,\"#7201a8\"],[0.3333333333333333,\"#9c179e\"],[0.4444444444444444,\"#bd3786\"],[0.5555555555555556,\"#d8576b\"],[0.6666666666666666,\"#ed7953\"],[0.7777777777777778,\"#fb9f3a\"],[0.8888888888888888,\"#fdca26\"],[1.0,\"#f0f921\"]]}],\"choropleth\":[{\"type\":\"choropleth\",\"colorbar\":{\"outlinewidth\":0,\"ticks\":\"\"}}],\"histogram2d\":[{\"type\":\"histogram2d\",\"colorbar\":{\"outlinewidth\":0,\"ticks\":\"\"},\"colorscale\":[[0.0,\"#0d0887\"],[0.1111111111111111,\"#46039f\"],[0.2222222222222222,\"#7201a8\"],[0.3333333333333333,\"#9c179e\"],[0.4444444444444444,\"#bd3786\"],[0.5555555555555556,\"#d8576b\"],[0.6666666666666666,\"#ed7953\"],[0.7777777777777778,\"#fb9f3a\"],[0.8888888888888888,\"#fdca26\"],[1.0,\"#f0f921\"]]}],\"heatmap\":[{\"type\":\"heatmap\",\"colorbar\":{\"outlinewidth\":0,\"ticks\":\"\"},\"colorscale\":[[0.0,\"#0d0887\"],[0.1111111111111111,\"#46039f\"],[0.2222222222222222,\"#7201a8\"],[0.3333333333333333,\"#9c179e\"],[0.4444444444444444,\"#bd3786\"],[0.5555555555555556,\"#d8576b\"],[0.6666666666666666,\"#ed7953\"],[0.7777777777777778,\"#fb9f3a\"],[0.8888888888888888,\"#fdca26\"],[1.0,\"#f0f921\"]]}],\"heatmapgl\":[{\"type\":\"heatmapgl\",\"colorbar\":{\"outlinewidth\":0,\"ticks\":\"\"},\"colorscale\":[[0.0,\"#0d0887\"],[0.1111111111111111,\"#46039f\"],[0.2222222222222222,\"#7201a8\"],[0.3333333333333333,\"#9c179e\"],[0.4444444444444444,\"#bd3786\"],[0.5555555555555556,\"#d8576b\"],[0.6666666666666666,\"#ed7953\"],[0.7777777777777778,\"#fb9f3a\"],[0.8888888888888888,\"#fdca26\"],[1.0,\"#f0f921\"]]}],\"contourcarpet\":[{\"type\":\"contourcarpet\",\"colorbar\":{\"outlinewidth\":0,\"ticks\":\"\"}}],\"contour\":[{\"type\":\"contour\",\"colorbar\":{\"outlinewidth\":0,\"ticks\":\"\"},\"colorscale\":[[0.0,\"#0d0887\"],[0.1111111111111111,\"#46039f\"],[0.2222222222222222,\"#7201a8\"],[0.3333333333333333,\"#9c179e\"],[0.4444444444444444,\"#bd3786\"],[0.5555555555555556,\"#d8576b\"],[0.6666666666666666,\"#ed7953\"],[0.7777777777777778,\"#fb9f3a\"],[0.8888888888888888,\"#fdca26\"],[1.0,\"#f0f921\"]]}],\"surface\":[{\"type\":\"surface\",\"colorbar\":{\"outlinewidth\":0,\"ticks\":\"\"},\"colorscale\":[[0.0,\"#0d0887\"],[0.1111111111111111,\"#46039f\"],[0.2222222222222222,\"#7201a8\"],[0.3333333333333333,\"#9c179e\"],[0.4444444444444444,\"#bd3786\"],[0.5555555555555556,\"#d8576b\"],[0.6666666666666666,\"#ed7953\"],[0.7777777777777778,\"#fb9f3a\"],[0.8888888888888888,\"#fdca26\"],[1.0,\"#f0f921\"]]}],\"mesh3d\":[{\"type\":\"mesh3d\",\"colorbar\":{\"outlinewidth\":0,\"ticks\":\"\"}}],\"scatter\":[{\"fillpattern\":{\"fillmode\":\"overlay\",\"size\":10,\"solidity\":0.2},\"type\":\"scatter\"}],\"parcoords\":[{\"type\":\"parcoords\",\"line\":{\"colorbar\":{\"outlinewidth\":0,\"ticks\":\"\"}}}],\"scatterpolargl\":[{\"type\":\"scatterpolargl\",\"marker\":{\"colorbar\":{\"outlinewidth\":0,\"ticks\":\"\"}}}],\"bar\":[{\"error_x\":{\"color\":\"#2a3f5f\"},\"error_y\":{\"color\":\"#2a3f5f\"},\"marker\":{\"line\":{\"color\":\"#E5ECF6\",\"width\":0.5},\"pattern\":{\"fillmode\":\"overlay\",\"size\":10,\"solidity\":0.2}},\"type\":\"bar\"}],\"scattergeo\":[{\"type\":\"scattergeo\",\"marker\":{\"colorbar\":{\"outlinewidth\":0,\"ticks\":\"\"}}}],\"scatterpolar\":[{\"type\":\"scatterpolar\",\"marker\":{\"colorbar\":{\"outlinewidth\":0,\"ticks\":\"\"}}}],\"histogram\":[{\"marker\":{\"pattern\":{\"fillmode\":\"overlay\",\"size\":10,\"solidity\":0.2}},\"type\":\"histogram\"}],\"scattergl\":[{\"type\":\"scattergl\",\"marker\":{\"colorbar\":{\"outlinewidth\":0,\"ticks\":\"\"}}}],\"scatter3d\":[{\"type\":\"scatter3d\",\"line\":{\"colorbar\":{\"outlinewidth\":0,\"ticks\":\"\"}},\"marker\":{\"colorbar\":{\"outlinewidth\":0,\"ticks\":\"\"}}}],\"scattermapbox\":[{\"type\":\"scattermapbox\",\"marker\":{\"colorbar\":{\"outlinewidth\":0,\"ticks\":\"\"}}}],\"scatterternary\":[{\"type\":\"scatterternary\",\"marker\":{\"colorbar\":{\"outlinewidth\":0,\"ticks\":\"\"}}}],\"scattercarpet\":[{\"type\":\"scattercarpet\",\"marker\":{\"colorbar\":{\"outlinewidth\":0,\"ticks\":\"\"}}}],\"carpet\":[{\"aaxis\":{\"endlinecolor\":\"#2a3f5f\",\"gridcolor\":\"white\",\"linecolor\":\"white\",\"minorgridcolor\":\"white\",\"startlinecolor\":\"#2a3f5f\"},\"baxis\":{\"endlinecolor\":\"#2a3f5f\",\"gridcolor\":\"white\",\"linecolor\":\"white\",\"minorgridcolor\":\"white\",\"startlinecolor\":\"#2a3f5f\"},\"type\":\"carpet\"}],\"table\":[{\"cells\":{\"fill\":{\"color\":\"#EBF0F8\"},\"line\":{\"color\":\"white\"}},\"header\":{\"fill\":{\"color\":\"#C8D4E3\"},\"line\":{\"color\":\"white\"}},\"type\":\"table\"}],\"barpolar\":[{\"marker\":{\"line\":{\"color\":\"#E5ECF6\",\"width\":0.5},\"pattern\":{\"fillmode\":\"overlay\",\"size\":10,\"solidity\":0.2}},\"type\":\"barpolar\"}],\"pie\":[{\"automargin\":true,\"type\":\"pie\"}]},\"layout\":{\"autotypenumbers\":\"strict\",\"colorway\":[\"#636efa\",\"#EF553B\",\"#00cc96\",\"#ab63fa\",\"#FFA15A\",\"#19d3f3\",\"#FF6692\",\"#B6E880\",\"#FF97FF\",\"#FECB52\"],\"font\":{\"color\":\"#2a3f5f\"},\"hovermode\":\"closest\",\"hoverlabel\":{\"align\":\"left\"},\"paper_bgcolor\":\"white\",\"plot_bgcolor\":\"#E5ECF6\",\"polar\":{\"bgcolor\":\"#E5ECF6\",\"angularaxis\":{\"gridcolor\":\"white\",\"linecolor\":\"white\",\"ticks\":\"\"},\"radialaxis\":{\"gridcolor\":\"white\",\"linecolor\":\"white\",\"ticks\":\"\"}},\"ternary\":{\"bgcolor\":\"#E5ECF6\",\"aaxis\":{\"gridcolor\":\"white\",\"linecolor\":\"white\",\"ticks\":\"\"},\"baxis\":{\"gridcolor\":\"white\",\"linecolor\":\"white\",\"ticks\":\"\"},\"caxis\":{\"gridcolor\":\"white\",\"linecolor\":\"white\",\"ticks\":\"\"}},\"coloraxis\":{\"colorbar\":{\"outlinewidth\":0,\"ticks\":\"\"}},\"colorscale\":{\"sequential\":[[0.0,\"#0d0887\"],[0.1111111111111111,\"#46039f\"],[0.2222222222222222,\"#7201a8\"],[0.3333333333333333,\"#9c179e\"],[0.4444444444444444,\"#bd3786\"],[0.5555555555555556,\"#d8576b\"],[0.6666666666666666,\"#ed7953\"],[0.7777777777777778,\"#fb9f3a\"],[0.8888888888888888,\"#fdca26\"],[1.0,\"#f0f921\"]],\"sequentialminus\":[[0.0,\"#0d0887\"],[0.1111111111111111,\"#46039f\"],[0.2222222222222222,\"#7201a8\"],[0.3333333333333333,\"#9c179e\"],[0.4444444444444444,\"#bd3786\"],[0.5555555555555556,\"#d8576b\"],[0.6666666666666666,\"#ed7953\"],[0.7777777777777778,\"#fb9f3a\"],[0.8888888888888888,\"#fdca26\"],[1.0,\"#f0f921\"]],\"diverging\":[[0,\"#8e0152\"],[0.1,\"#c51b7d\"],[0.2,\"#de77ae\"],[0.3,\"#f1b6da\"],[0.4,\"#fde0ef\"],[0.5,\"#f7f7f7\"],[0.6,\"#e6f5d0\"],[0.7,\"#b8e186\"],[0.8,\"#7fbc41\"],[0.9,\"#4d9221\"],[1,\"#276419\"]]},\"xaxis\":{\"gridcolor\":\"white\",\"linecolor\":\"white\",\"ticks\":\"\",\"title\":{\"standoff\":15},\"zerolinecolor\":\"white\",\"automargin\":true,\"zerolinewidth\":2},\"yaxis\":{\"gridcolor\":\"white\",\"linecolor\":\"white\",\"ticks\":\"\",\"title\":{\"standoff\":15},\"zerolinecolor\":\"white\",\"automargin\":true,\"zerolinewidth\":2},\"scene\":{\"xaxis\":{\"backgroundcolor\":\"#E5ECF6\",\"gridcolor\":\"white\",\"linecolor\":\"white\",\"showbackground\":true,\"ticks\":\"\",\"zerolinecolor\":\"white\",\"gridwidth\":2},\"yaxis\":{\"backgroundcolor\":\"#E5ECF6\",\"gridcolor\":\"white\",\"linecolor\":\"white\",\"showbackground\":true,\"ticks\":\"\",\"zerolinecolor\":\"white\",\"gridwidth\":2},\"zaxis\":{\"backgroundcolor\":\"#E5ECF6\",\"gridcolor\":\"white\",\"linecolor\":\"white\",\"showbackground\":true,\"ticks\":\"\",\"zerolinecolor\":\"white\",\"gridwidth\":2}},\"shapedefaults\":{\"line\":{\"color\":\"#2a3f5f\"}},\"annotationdefaults\":{\"arrowcolor\":\"#2a3f5f\",\"arrowhead\":0,\"arrowwidth\":1},\"geo\":{\"bgcolor\":\"white\",\"landcolor\":\"#E5ECF6\",\"subunitcolor\":\"white\",\"showland\":true,\"showlakes\":true,\"lakecolor\":\"white\"},\"title\":{\"x\":0.05},\"mapbox\":{\"style\":\"light\"}}},\"legend\":{\"tracegroupgap\":0},\"margin\":{\"t\":60}},                        {\"responsive\": true}                    ).then(function(){\n",
              "                            \n",
              "var gd = document.getElementById('46225e2d-3601-4a3b-b880-07d250987411');\n",
              "var x = new MutationObserver(function (mutations, observer) {{\n",
              "        var display = window.getComputedStyle(gd).display;\n",
              "        if (!display || display === 'none') {{\n",
              "            console.log([gd, 'removed!']);\n",
              "            Plotly.purge(gd);\n",
              "            observer.disconnect();\n",
              "        }}\n",
              "}});\n",
              "\n",
              "// Listen for the removal of the full notebook cells\n",
              "var notebookContainer = gd.closest('#notebook-container');\n",
              "if (notebookContainer) {{\n",
              "    x.observe(notebookContainer, {childList: true});\n",
              "}}\n",
              "\n",
              "// Listen for the clearing of the current output cell\n",
              "var outputEl = gd.closest('.output');\n",
              "if (outputEl) {{\n",
              "    x.observe(outputEl, {childList: true});\n",
              "}}\n",
              "\n",
              "                        })                };                            </script>        </div>\n",
              "</body>\n",
              "</html>"
            ]
          },
          "metadata": {},
          "output_type": "display_data"
        }
      ],
      "source": [
        "fig_strange = px.pie(urban,\n",
        "                   names='Traffic Density',\n",
        "                   values='Travel Duration (mins)')\n",
        "fig_strange.show()"
      ]
    },
    {
      "cell_type": "code",
      "execution_count": null,
      "metadata": {
        "colab": {
          "base_uri": "https://localhost:8080/",
          "height": 617
        },
        "id": "xz-IpgiWY-ao",
        "outputId": "be51bd2d-bf0d-412a-dc05-9b99f3329338"
      },
      "outputs": [
        {
          "data": {
            "text/html": [
              "<html>\n",
              "<head><meta charset=\"utf-8\" /></head>\n",
              "<body>\n",
              "    <div>            <script src=\"https://cdnjs.cloudflare.com/ajax/libs/mathjax/2.7.5/MathJax.js?config=TeX-AMS-MML_SVG\"></script><script type=\"text/javascript\">if (window.MathJax && window.MathJax.Hub && window.MathJax.Hub.Config) {window.MathJax.Hub.Config({SVG: {font: \"STIX-Web\"}});}</script>                <script type=\"text/javascript\">window.PlotlyConfig = {MathJaxConfig: 'local'};</script>\n",
              "        <script charset=\"utf-8\" src=\"https://cdn.plot.ly/plotly-2.35.2.min.js\"></script>                <div id=\"0e08f455-9924-4808-acc5-5f85a35f3d84\" class=\"plotly-graph-div\" style=\"height:600px; width:900px;\"></div>            <script type=\"text/javascript\">                                    window.PLOTLYENV=window.PLOTLYENV || {};                                    if (document.getElementById(\"0e08f455-9924-4808-acc5-5f85a35f3d84\")) {                    Plotly.newPlot(                        \"0e08f455-9924-4808-acc5-5f85a35f3d84\",                        [{\"alignmentgroup\":\"True\",\"hovertemplate\":\"Traffic Density=%{x}\\u003cbr\\u003eTravel Duration (mins)=%{y}\\u003cextra\\u003e\\u003c\\u002fextra\\u003e\",\"legendgroup\":\"Low\",\"marker\":{\"color\":\"#636efa\"},\"name\":\"Low\",\"notched\":false,\"offsetgroup\":\"Low\",\"orientation\":\"v\",\"showlegend\":true,\"x\":[\"Low\",\"Low\",\"Low\",\"Low\",\"Low\",\"Low\",\"Low\",\"Low\",\"Low\",\"Low\",\"Low\",\"Low\",\"Low\",\"Low\",\"Low\",\"Low\",\"Low\",\"Low\",\"Low\",\"Low\",\"Low\",\"Low\",\"Low\",\"Low\",\"Low\",\"Low\",\"Low\",\"Low\",\"Low\",\"Low\",\"Low\",\"Low\",\"Low\",\"Low\",\"Low\",\"Low\",\"Low\",\"Low\",\"Low\",\"Low\",\"Low\",\"Low\",\"Low\",\"Low\",\"Low\",\"Low\",\"Low\",\"Low\",\"Low\",\"Low\",\"Low\",\"Low\",\"Low\",\"Low\",\"Low\",\"Low\",\"Low\",\"Low\",\"Low\",\"Low\",\"Low\",\"Low\",\"Low\",\"Low\",\"Low\"],\"x0\":\" \",\"xaxis\":\"x\",\"y\":[8.9,16.9,35.9,32.5,14.6,16.1,16.0,17.6,17.5,42.7,9.7,11.8,25.8,16.3,8.9,26.4,61.1,19.8,19.9,15.4,38.7,21.7,18.3,3.0,9.4,8.9,8.9,38.2,13.7,8.9,13.0,15.7,10.2,14.5,8.9,22.1,32.7,18.7,11.3,15.6,29.8,31.3,34.1,16.1,20.5,54.3,47.6,13.9,8.9,23.0,17.0,8.9,25.1,49.3,16.1,13.4,8.9,16.1,14.7,8.9,10.9,11.8,14.9,37.1,14.1],\"y0\":\" \",\"yaxis\":\"y\",\"type\":\"box\"},{\"alignmentgroup\":\"True\",\"hovertemplate\":\"Traffic Density=%{x}\\u003cbr\\u003eTravel Duration (mins)=%{y}\\u003cextra\\u003e\\u003c\\u002fextra\\u003e\",\"legendgroup\":\"Medium\",\"marker\":{\"color\":\"#EF553B\"},\"name\":\"Medium\",\"notched\":false,\"offsetgroup\":\"Medium\",\"orientation\":\"v\",\"showlegend\":true,\"x\":[\"Medium\",\"Medium\",\"Medium\",\"Medium\",\"Medium\",\"Medium\",\"Medium\",\"Medium\",\"Medium\",\"Medium\",\"Medium\",\"Medium\",\"Medium\",\"Medium\",\"Medium\",\"Medium\",\"Medium\",\"Medium\",\"Medium\",\"Medium\",\"Medium\",\"Medium\",\"Medium\",\"Medium\",\"Medium\",\"Medium\",\"Medium\",\"Medium\",\"Medium\",\"Medium\",\"Medium\",\"Medium\",\"Medium\",\"Medium\",\"Medium\",\"Medium\",\"Medium\",\"Medium\",\"Medium\",\"Medium\",\"Medium\",\"Medium\",\"Medium\",\"Medium\",\"Medium\",\"Medium\",\"Medium\",\"Medium\",\"Medium\",\"Medium\",\"Medium\",\"Medium\",\"Medium\",\"Medium\",\"Medium\",\"Medium\",\"Medium\",\"Medium\",\"Medium\",\"Medium\",\"Medium\",\"Medium\",\"Medium\",\"Medium\",\"Medium\",\"Medium\",\"Medium\",\"Medium\",\"Medium\",\"Medium\",\"Medium\",\"Medium\",\"Medium\",\"Medium\",\"Medium\",\"Medium\",\"Medium\",\"Medium\",\"Medium\",\"Medium\",\"Medium\",\"Medium\",\"Medium\",\"Medium\"],\"x0\":\" \",\"xaxis\":\"x\",\"y\":[31.5,40.6,13.8,31.5,21.7,17.9,30.2,22.3,10.9,25.5,14.6,19.7,31.5,21.3,19.1,22.2,18.1,63.5,17.3,27.3,28.1,21.7,29.8,15.8,29.3,16.4,29.0,15.2,31.1,16.7,21.7,17.6,35.4,17.2,31.5,17.9,21.8,20.8,24.7,54.2,19.2,25.0,17.5,8.8,23.6,15.0,11.0,31.9,31.5,26.2,10.5,28.0,9.5,33.0,21.0,21.5,25.7,14.9,10.7,15.6,17.0,43.9,10.2,6.6,39.7,17.2,26.5,46.1,15.3,19.2,22.1,33.8,8.8,11.5,26.2,35.1,25.7,20.5,14.4,16.9,28.2,26.2,9.3,9.5],\"y0\":\" \",\"yaxis\":\"y\",\"type\":\"box\"},{\"alignmentgroup\":\"True\",\"hovertemplate\":\"Traffic Density=%{x}\\u003cbr\\u003eTravel Duration (mins)=%{y}\\u003cextra\\u003e\\u003c\\u002fextra\\u003e\",\"legendgroup\":\"High\",\"marker\":{\"color\":\"#00cc96\"},\"name\":\"High\",\"notched\":false,\"offsetgroup\":\"High\",\"orientation\":\"v\",\"showlegend\":true,\"x\":[\"High\",\"High\",\"High\",\"High\",\"High\",\"High\",\"High\",\"High\",\"High\",\"High\",\"High\",\"High\",\"High\",\"High\",\"High\",\"High\",\"High\",\"High\",\"High\",\"High\",\"High\",\"High\",\"High\",\"High\",\"High\",\"High\",\"High\",\"High\",\"High\",\"High\",\"High\",\"High\",\"High\",\"High\",\"High\",\"High\",\"High\",\"High\",\"High\",\"High\",\"High\",\"High\",\"High\",\"High\",\"High\",\"High\",\"High\",\"High\",\"High\",\"High\",\"High\",\"High\",\"High\",\"High\",\"High\",\"High\",\"High\",\"High\",\"High\",\"High\",\"High\",\"High\",\"High\",\"High\",\"High\",\"High\"],\"x0\":\" \",\"xaxis\":\"x\",\"y\":[10.9,40.8,29.1,30.3,17.7,14.3,47.9,13.4,20.9,16.5,15.3,10.2,20.6,25.3,40.5,11.0,30.4,29.1,13.4,12.4,24.6,28.8,10.1,22.3,23.5,41.1,19.6,15.9,56.7,17.3,15.7,28.2,37.7,22.6,18.9,15.9,19.1,37.6,27.5,17.6,14.2,21.8,10.2,21.1,11.9,20.6,15.9,18.7,19.6,24.4,29.6,9.6,20.5,19.5,34.6,15.8,13.5,14.6,23.1,20.6,12.9,23.1,42.3,4.0,14.6,12.2],\"y0\":\" \",\"yaxis\":\"y\",\"type\":\"box\"}],                        {\"template\":{\"data\":{\"histogram2dcontour\":[{\"type\":\"histogram2dcontour\",\"colorbar\":{\"outlinewidth\":0,\"ticks\":\"\"},\"colorscale\":[[0.0,\"#0d0887\"],[0.1111111111111111,\"#46039f\"],[0.2222222222222222,\"#7201a8\"],[0.3333333333333333,\"#9c179e\"],[0.4444444444444444,\"#bd3786\"],[0.5555555555555556,\"#d8576b\"],[0.6666666666666666,\"#ed7953\"],[0.7777777777777778,\"#fb9f3a\"],[0.8888888888888888,\"#fdca26\"],[1.0,\"#f0f921\"]]}],\"choropleth\":[{\"type\":\"choropleth\",\"colorbar\":{\"outlinewidth\":0,\"ticks\":\"\"}}],\"histogram2d\":[{\"type\":\"histogram2d\",\"colorbar\":{\"outlinewidth\":0,\"ticks\":\"\"},\"colorscale\":[[0.0,\"#0d0887\"],[0.1111111111111111,\"#46039f\"],[0.2222222222222222,\"#7201a8\"],[0.3333333333333333,\"#9c179e\"],[0.4444444444444444,\"#bd3786\"],[0.5555555555555556,\"#d8576b\"],[0.6666666666666666,\"#ed7953\"],[0.7777777777777778,\"#fb9f3a\"],[0.8888888888888888,\"#fdca26\"],[1.0,\"#f0f921\"]]}],\"heatmap\":[{\"type\":\"heatmap\",\"colorbar\":{\"outlinewidth\":0,\"ticks\":\"\"},\"colorscale\":[[0.0,\"#0d0887\"],[0.1111111111111111,\"#46039f\"],[0.2222222222222222,\"#7201a8\"],[0.3333333333333333,\"#9c179e\"],[0.4444444444444444,\"#bd3786\"],[0.5555555555555556,\"#d8576b\"],[0.6666666666666666,\"#ed7953\"],[0.7777777777777778,\"#fb9f3a\"],[0.8888888888888888,\"#fdca26\"],[1.0,\"#f0f921\"]]}],\"heatmapgl\":[{\"type\":\"heatmapgl\",\"colorbar\":{\"outlinewidth\":0,\"ticks\":\"\"},\"colorscale\":[[0.0,\"#0d0887\"],[0.1111111111111111,\"#46039f\"],[0.2222222222222222,\"#7201a8\"],[0.3333333333333333,\"#9c179e\"],[0.4444444444444444,\"#bd3786\"],[0.5555555555555556,\"#d8576b\"],[0.6666666666666666,\"#ed7953\"],[0.7777777777777778,\"#fb9f3a\"],[0.8888888888888888,\"#fdca26\"],[1.0,\"#f0f921\"]]}],\"contourcarpet\":[{\"type\":\"contourcarpet\",\"colorbar\":{\"outlinewidth\":0,\"ticks\":\"\"}}],\"contour\":[{\"type\":\"contour\",\"colorbar\":{\"outlinewidth\":0,\"ticks\":\"\"},\"colorscale\":[[0.0,\"#0d0887\"],[0.1111111111111111,\"#46039f\"],[0.2222222222222222,\"#7201a8\"],[0.3333333333333333,\"#9c179e\"],[0.4444444444444444,\"#bd3786\"],[0.5555555555555556,\"#d8576b\"],[0.6666666666666666,\"#ed7953\"],[0.7777777777777778,\"#fb9f3a\"],[0.8888888888888888,\"#fdca26\"],[1.0,\"#f0f921\"]]}],\"surface\":[{\"type\":\"surface\",\"colorbar\":{\"outlinewidth\":0,\"ticks\":\"\"},\"colorscale\":[[0.0,\"#0d0887\"],[0.1111111111111111,\"#46039f\"],[0.2222222222222222,\"#7201a8\"],[0.3333333333333333,\"#9c179e\"],[0.4444444444444444,\"#bd3786\"],[0.5555555555555556,\"#d8576b\"],[0.6666666666666666,\"#ed7953\"],[0.7777777777777778,\"#fb9f3a\"],[0.8888888888888888,\"#fdca26\"],[1.0,\"#f0f921\"]]}],\"mesh3d\":[{\"type\":\"mesh3d\",\"colorbar\":{\"outlinewidth\":0,\"ticks\":\"\"}}],\"scatter\":[{\"fillpattern\":{\"fillmode\":\"overlay\",\"size\":10,\"solidity\":0.2},\"type\":\"scatter\"}],\"parcoords\":[{\"type\":\"parcoords\",\"line\":{\"colorbar\":{\"outlinewidth\":0,\"ticks\":\"\"}}}],\"scatterpolargl\":[{\"type\":\"scatterpolargl\",\"marker\":{\"colorbar\":{\"outlinewidth\":0,\"ticks\":\"\"}}}],\"bar\":[{\"error_x\":{\"color\":\"#2a3f5f\"},\"error_y\":{\"color\":\"#2a3f5f\"},\"marker\":{\"line\":{\"color\":\"#E5ECF6\",\"width\":0.5},\"pattern\":{\"fillmode\":\"overlay\",\"size\":10,\"solidity\":0.2}},\"type\":\"bar\"}],\"scattergeo\":[{\"type\":\"scattergeo\",\"marker\":{\"colorbar\":{\"outlinewidth\":0,\"ticks\":\"\"}}}],\"scatterpolar\":[{\"type\":\"scatterpolar\",\"marker\":{\"colorbar\":{\"outlinewidth\":0,\"ticks\":\"\"}}}],\"histogram\":[{\"marker\":{\"pattern\":{\"fillmode\":\"overlay\",\"size\":10,\"solidity\":0.2}},\"type\":\"histogram\"}],\"scattergl\":[{\"type\":\"scattergl\",\"marker\":{\"colorbar\":{\"outlinewidth\":0,\"ticks\":\"\"}}}],\"scatter3d\":[{\"type\":\"scatter3d\",\"line\":{\"colorbar\":{\"outlinewidth\":0,\"ticks\":\"\"}},\"marker\":{\"colorbar\":{\"outlinewidth\":0,\"ticks\":\"\"}}}],\"scattermapbox\":[{\"type\":\"scattermapbox\",\"marker\":{\"colorbar\":{\"outlinewidth\":0,\"ticks\":\"\"}}}],\"scatterternary\":[{\"type\":\"scatterternary\",\"marker\":{\"colorbar\":{\"outlinewidth\":0,\"ticks\":\"\"}}}],\"scattercarpet\":[{\"type\":\"scattercarpet\",\"marker\":{\"colorbar\":{\"outlinewidth\":0,\"ticks\":\"\"}}}],\"carpet\":[{\"aaxis\":{\"endlinecolor\":\"#2a3f5f\",\"gridcolor\":\"white\",\"linecolor\":\"white\",\"minorgridcolor\":\"white\",\"startlinecolor\":\"#2a3f5f\"},\"baxis\":{\"endlinecolor\":\"#2a3f5f\",\"gridcolor\":\"white\",\"linecolor\":\"white\",\"minorgridcolor\":\"white\",\"startlinecolor\":\"#2a3f5f\"},\"type\":\"carpet\"}],\"table\":[{\"cells\":{\"fill\":{\"color\":\"#EBF0F8\"},\"line\":{\"color\":\"white\"}},\"header\":{\"fill\":{\"color\":\"#C8D4E3\"},\"line\":{\"color\":\"white\"}},\"type\":\"table\"}],\"barpolar\":[{\"marker\":{\"line\":{\"color\":\"#E5ECF6\",\"width\":0.5},\"pattern\":{\"fillmode\":\"overlay\",\"size\":10,\"solidity\":0.2}},\"type\":\"barpolar\"}],\"pie\":[{\"automargin\":true,\"type\":\"pie\"}]},\"layout\":{\"autotypenumbers\":\"strict\",\"colorway\":[\"#636efa\",\"#EF553B\",\"#00cc96\",\"#ab63fa\",\"#FFA15A\",\"#19d3f3\",\"#FF6692\",\"#B6E880\",\"#FF97FF\",\"#FECB52\"],\"font\":{\"color\":\"#2a3f5f\"},\"hovermode\":\"closest\",\"hoverlabel\":{\"align\":\"left\"},\"paper_bgcolor\":\"white\",\"plot_bgcolor\":\"#E5ECF6\",\"polar\":{\"bgcolor\":\"#E5ECF6\",\"angularaxis\":{\"gridcolor\":\"white\",\"linecolor\":\"white\",\"ticks\":\"\"},\"radialaxis\":{\"gridcolor\":\"white\",\"linecolor\":\"white\",\"ticks\":\"\"}},\"ternary\":{\"bgcolor\":\"#E5ECF6\",\"aaxis\":{\"gridcolor\":\"white\",\"linecolor\":\"white\",\"ticks\":\"\"},\"baxis\":{\"gridcolor\":\"white\",\"linecolor\":\"white\",\"ticks\":\"\"},\"caxis\":{\"gridcolor\":\"white\",\"linecolor\":\"white\",\"ticks\":\"\"}},\"coloraxis\":{\"colorbar\":{\"outlinewidth\":0,\"ticks\":\"\"}},\"colorscale\":{\"sequential\":[[0.0,\"#0d0887\"],[0.1111111111111111,\"#46039f\"],[0.2222222222222222,\"#7201a8\"],[0.3333333333333333,\"#9c179e\"],[0.4444444444444444,\"#bd3786\"],[0.5555555555555556,\"#d8576b\"],[0.6666666666666666,\"#ed7953\"],[0.7777777777777778,\"#fb9f3a\"],[0.8888888888888888,\"#fdca26\"],[1.0,\"#f0f921\"]],\"sequentialminus\":[[0.0,\"#0d0887\"],[0.1111111111111111,\"#46039f\"],[0.2222222222222222,\"#7201a8\"],[0.3333333333333333,\"#9c179e\"],[0.4444444444444444,\"#bd3786\"],[0.5555555555555556,\"#d8576b\"],[0.6666666666666666,\"#ed7953\"],[0.7777777777777778,\"#fb9f3a\"],[0.8888888888888888,\"#fdca26\"],[1.0,\"#f0f921\"]],\"diverging\":[[0,\"#8e0152\"],[0.1,\"#c51b7d\"],[0.2,\"#de77ae\"],[0.3,\"#f1b6da\"],[0.4,\"#fde0ef\"],[0.5,\"#f7f7f7\"],[0.6,\"#e6f5d0\"],[0.7,\"#b8e186\"],[0.8,\"#7fbc41\"],[0.9,\"#4d9221\"],[1,\"#276419\"]]},\"xaxis\":{\"gridcolor\":\"white\",\"linecolor\":\"white\",\"ticks\":\"\",\"title\":{\"standoff\":15},\"zerolinecolor\":\"white\",\"automargin\":true,\"zerolinewidth\":2},\"yaxis\":{\"gridcolor\":\"white\",\"linecolor\":\"white\",\"ticks\":\"\",\"title\":{\"standoff\":15},\"zerolinecolor\":\"white\",\"automargin\":true,\"zerolinewidth\":2},\"scene\":{\"xaxis\":{\"backgroundcolor\":\"#E5ECF6\",\"gridcolor\":\"white\",\"linecolor\":\"white\",\"showbackground\":true,\"ticks\":\"\",\"zerolinecolor\":\"white\",\"gridwidth\":2},\"yaxis\":{\"backgroundcolor\":\"#E5ECF6\",\"gridcolor\":\"white\",\"linecolor\":\"white\",\"showbackground\":true,\"ticks\":\"\",\"zerolinecolor\":\"white\",\"gridwidth\":2},\"zaxis\":{\"backgroundcolor\":\"#E5ECF6\",\"gridcolor\":\"white\",\"linecolor\":\"white\",\"showbackground\":true,\"ticks\":\"\",\"zerolinecolor\":\"white\",\"gridwidth\":2}},\"shapedefaults\":{\"line\":{\"color\":\"#2a3f5f\"}},\"annotationdefaults\":{\"arrowcolor\":\"#2a3f5f\",\"arrowhead\":0,\"arrowwidth\":1},\"geo\":{\"bgcolor\":\"white\",\"landcolor\":\"#E5ECF6\",\"subunitcolor\":\"white\",\"showland\":true,\"showlakes\":true,\"lakecolor\":\"white\"},\"title\":{\"x\":0.05},\"mapbox\":{\"style\":\"light\"}}},\"xaxis\":{\"anchor\":\"y\",\"domain\":[0.0,1.0],\"title\":{\"text\":\"Traffic Density\"},\"categoryorder\":\"array\",\"categoryarray\":[\"Low\",\"Medium\",\"High\"]},\"yaxis\":{\"anchor\":\"x\",\"domain\":[0.0,1.0],\"title\":{\"text\":\"Travel Duration (mins)\"}},\"legend\":{\"title\":{\"text\":\"Traffic Density\"},\"tracegroupgap\":0},\"title\":{\"text\":\"Travel Duration by Traffic Density\"},\"boxmode\":\"overlay\",\"height\":600,\"width\":900},                        {\"responsive\": true}                    ).then(function(){\n",
              "                            \n",
              "var gd = document.getElementById('0e08f455-9924-4808-acc5-5f85a35f3d84');\n",
              "var x = new MutationObserver(function (mutations, observer) {{\n",
              "        var display = window.getComputedStyle(gd).display;\n",
              "        if (!display || display === 'none') {{\n",
              "            console.log([gd, 'removed!']);\n",
              "            Plotly.purge(gd);\n",
              "            observer.disconnect();\n",
              "        }}\n",
              "}});\n",
              "\n",
              "// Listen for the removal of the full notebook cells\n",
              "var notebookContainer = gd.closest('#notebook-container');\n",
              "if (notebookContainer) {{\n",
              "    x.observe(notebookContainer, {childList: true});\n",
              "}}\n",
              "\n",
              "// Listen for the clearing of the current output cell\n",
              "var outputEl = gd.closest('.output');\n",
              "if (outputEl) {{\n",
              "    x.observe(outputEl, {childList: true});\n",
              "}}\n",
              "\n",
              "                        })                };                            </script>        </div>\n",
              "</body>\n",
              "</html>"
            ]
          },
          "metadata": {},
          "output_type": "display_data"
        }
      ],
      "source": [
        "fig_better = px.box(\n",
        "    urban,\n",
        "    x='Traffic Density',\n",
        "    y='Travel Duration (mins)',\n",
        "    color='Traffic Density',\n",
        "    title=\"Travel Duration by Traffic Density\",\n",
        "    height=600,\n",
        "    width=900\n",
        ")\n",
        "fig_better.show()"
      ]
    },
    {
      "cell_type": "markdown",
      "metadata": {
        "id": "3w-DznBoEXL7"
      },
      "source": [
        "**📝 Exercise 3**: We want to check if there are some relationships between the columns. Make a **pair plot** (a matrix showing one-by-one scatter plots) relating the variables `Distance (km)`, `Travel Duration (mins)`, `Avg Speed (km/h)`. Also, map color to `Transport Mode`."
      ]
    },
    {
      "cell_type": "code",
      "execution_count": null,
      "metadata": {
        "colab": {
          "base_uri": "https://localhost:8080/",
          "height": 717
        },
        "id": "Acw7DyxCbfol",
        "outputId": "7c7d4f58-ea7f-4ee8-935b-98e91279144e"
      },
      "outputs": [
        {
          "data": {
            "text/html": [
              "<html>\n",
              "<head><meta charset=\"utf-8\" /></head>\n",
              "<body>\n",
              "    <div>            <script src=\"https://cdnjs.cloudflare.com/ajax/libs/mathjax/2.7.5/MathJax.js?config=TeX-AMS-MML_SVG\"></script><script type=\"text/javascript\">if (window.MathJax && window.MathJax.Hub && window.MathJax.Hub.Config) {window.MathJax.Hub.Config({SVG: {font: \"STIX-Web\"}});}</script>                <script type=\"text/javascript\">window.PlotlyConfig = {MathJaxConfig: 'local'};</script>\n",
              "        <script charset=\"utf-8\" src=\"https://cdn.plot.ly/plotly-2.35.2.min.js\"></script>                <div id=\"45b45323-c510-477c-8cc2-3470ab4bdc5f\" class=\"plotly-graph-div\" style=\"height:700px; width:900px;\"></div>            <script type=\"text/javascript\">                                    window.PLOTLYENV=window.PLOTLYENV || {};                                    if (document.getElementById(\"45b45323-c510-477c-8cc2-3470ab4bdc5f\")) {                    Plotly.newPlot(                        \"45b45323-c510-477c-8cc2-3470ab4bdc5f\",                        [{\"dimensions\":[{\"axis\":{\"matches\":true},\"label\":\"Distance (km)\",\"values\":[0.93,1.77,1.77,1.77,0.93,1.77,0.93,0.93,0.93,1.77,1.92,0.93,0.93,0.93,1.92,0.93,0.93,1.92]},{\"axis\":{\"matches\":true},\"label\":\"Travel Duration (mins)\",\"values\":[8.9,31.5,31.5,31.5,8.9,31.5,8.9,8.9,8.9,31.5,26.2,8.9,8.9,8.9,26.2,8.9,8.9,26.2]},{\"axis\":{\"matches\":true},\"label\":\"Avg Speed (km\\u002fh)\",\"values\":[6.3,3.4,3.4,3.4,6.3,3.4,6.3,6.3,6.3,3.4,4.4,6.3,6.3,6.3,4.4,6.3,6.3,4.4]}],\"hovertemplate\":\"Transport Mode=Walk\\u003cbr\\u003e%{xaxis.title.text}=%{x}\\u003cbr\\u003e%{yaxis.title.text}=%{y}\\u003cextra\\u003e\\u003c\\u002fextra\\u003e\",\"legendgroup\":\"Walk\",\"marker\":{\"color\":\"#636efa\",\"symbol\":\"circle\"},\"name\":\"Walk\",\"showlegend\":true,\"type\":\"splom\"},{\"dimensions\":[{\"axis\":{\"matches\":true},\"label\":\"Distance (km)\",\"values\":[9.15,17.25,17.4,19.79,9.79,13.13,16.22,8.25,14.14,7.27,14.81,9.25,8.65,11.76,7.24,13.11,5.31,10.67,8.07,14.49,5.22,8.19,19.1,7.56,12.41,15.62,11.76,14.44,13.19,19.29,5.51,12.75,11.47,5.45,7.56,15.74,8.74,18.37,15.75,9.26,18.31,9.46,10.9,14.04,11.87,17.44,19.44,13.31,8.09,9.55,5.49,9.44,17.65,11.51,11.53,16.77,5.98,9.92,13.19,14.53,15.05,17.86,12.98,8.35,6.61,15.45,16.26,9.94,18.65,12.9,12.04,15.14,11.92,7.74,7.29,17.39,19.0,13.13,8.1,14.92,7.86,19.84,12.66,10.65,7.04,8.21,19.45,6.06,16.62,8.67,5.6,14.19]},{\"axis\":{\"matches\":true},\"label\":\"Travel Duration (mins)\",\"values\":[16.9,40.6,40.8,35.9,32.5,29.1,30.3,21.7,30.2,14.6,47.9,16.1,17.6,21.3,17.5,42.7,9.7,22.2,15.3,25.8,10.2,16.3,63.5,17.3,27.3,40.5,28.1,30.4,29.1,61.1,13.4,29.3,19.9,16.4,15.4,29.0,15.2,38.7,31.1,28.8,35.4,17.2,23.5,41.1,21.8,56.7,54.2,25.0,17.5,23.6,15.0,28.2,37.7,38.2,22.6,31.9,15.7,19.1,37.6,28.0,27.5,32.7,33.0,15.6,11.9,43.9,29.8,31.3,39.7,34.1,26.5,46.1,20.6,15.3,18.7,54.3,47.6,33.8,19.5,34.6,25.1,49.3,35.1,20.5,12.9,14.4,42.3,10.9,28.2,14.6,14.9,37.1]},{\"axis\":{\"matches\":true},\"label\":\"Avg Speed (km\\u002fh)\",\"values\":[32.5,25.5,25.6,33.1,18.1,27.1,32.1,22.8,28.1,29.9,18.6,34.5,29.5,33.1,24.8,18.4,32.8,28.8,31.6,33.7,30.7,30.1,18.0,26.2,27.3,23.1,25.1,28.5,27.2,18.9,24.7,26.1,34.6,19.9,29.5,32.6,34.5,28.5,30.4,19.3,31.0,33.0,27.8,20.5,32.7,18.5,21.5,31.9,27.7,24.3,22.0,20.1,28.1,18.1,30.6,31.5,22.9,31.2,21.0,31.1,32.8,32.8,23.6,32.1,33.3,21.1,32.7,19.1,28.2,22.7,27.3,19.7,34.7,30.4,23.4,19.2,23.9,23.3,24.9,25.9,18.8,24.1,21.6,31.2,32.7,34.2,27.6,33.4,35.4,35.6,22.6,22.9]}],\"hovertemplate\":\"Transport Mode=Car\\u003cbr\\u003e%{xaxis.title.text}=%{x}\\u003cbr\\u003e%{yaxis.title.text}=%{y}\\u003cextra\\u003e\\u003c\\u002fextra\\u003e\",\"legendgroup\":\"Car\",\"marker\":{\"color\":\"#EF553B\",\"symbol\":\"circle\"},\"name\":\"Car\",\"showlegend\":true,\"type\":\"splom\"},{\"dimensions\":[{\"axis\":{\"matches\":true},\"label\":\"Distance (km)\",\"values\":[5.8,7.8,7.85,5.96,7.15,8.99,8.45,9.21,9.71,5.62,7.2,5.74,5.1,8.24,5.04,5.93,5.08,8.26,5.22,5.53,7.23,9.61,7.52,6.64,7.42]},{\"axis\":{\"matches\":true},\"label\":\"Travel Duration (mins)\",\"values\":[10.9,13.8,17.9,10.9,14.6,19.7,20.9,16.5,25.3,12.4,21.7,18.3,9.4,24.7,8.8,10.2,14.5,22.1,9.5,10.7,16.1,29.6,17.0,13.4,14.7]},{\"axis\":{\"matches\":true},\"label\":\"Avg Speed (km\\u002fh)\",\"values\":[31.9,33.9,26.3,32.8,29.4,27.4,24.3,33.5,23.0,27.2,19.9,18.8,32.6,20.0,34.4,34.9,21.0,22.4,33.0,31.0,26.9,19.5,26.5,29.7,30.3]}],\"hovertemplate\":\"Transport Mode=Bus\\u003cbr\\u003e%{xaxis.title.text}=%{x}\\u003cbr\\u003e%{yaxis.title.text}=%{y}\\u003cextra\\u003e\\u003c\\u002fextra\\u003e\",\"legendgroup\":\"Bus\",\"marker\":{\"color\":\"#00cc96\",\"symbol\":\"circle\"},\"name\":\"Bus\",\"showlegend\":true,\"type\":\"splom\"},{\"dimensions\":[{\"axis\":{\"matches\":true},\"label\":\"Distance (km)\",\"values\":[2.66,3.76,2.74,4.54,2.86,3.15,2.23,4.76,4.43,3.6,4.71,4.09,2.25,2.74,3.79,0.63,3.74,2.47,3.11,3.01,2.79,3.74,3.51,2.72,2.53,3.03,2.46,1.63,4.15,4.76,3.08,1.76,4.89,2.01,2.66,2.61,3.33,4.79,4.78,2.54,2.66,0.61,1.99,1.95,1.81,3.16,2.85]},{\"axis\":{\"matches\":true},\"label\":\"Travel Duration (mins)\",\"values\":[17.7,22.3,13.4,19.1,18.1,20.6,11.0,29.8,21.7,16.7,24.6,17.6,10.1,17.9,22.3,3.0,17.3,10.5,17.6,18.7,11.3,15.6,21.0,14.2,10.2,14.9,10.2,6.6,17.2,19.6,13.9,9.6,23.0,8.8,11.5,13.5,16.1,23.1,25.7,16.1,16.9,4.0,11.8,9.3,9.5,14.1,12.2]},{\"axis\":{\"matches\":true},\"label\":\"Avg Speed (km\\u002fh)\",\"values\":[9.0,10.1,12.3,14.3,9.5,9.2,12.2,9.6,12.2,12.9,11.5,13.9,13.4,9.2,10.2,12.6,13.0,14.1,10.6,9.7,14.8,14.4,10.0,11.5,14.9,12.2,14.5,14.8,14.5,14.6,13.3,11.0,12.8,13.7,13.9,11.6,12.4,12.4,11.2,9.5,9.4,9.2,10.1,12.6,11.4,13.4,14.0]}],\"hovertemplate\":\"Transport Mode=Bike\\u003cbr\\u003e%{xaxis.title.text}=%{x}\\u003cbr\\u003e%{yaxis.title.text}=%{y}\\u003cextra\\u003e\\u003c\\u002fextra\\u003e\",\"legendgroup\":\"Bike\",\"marker\":{\"color\":\"#ab63fa\",\"symbol\":\"circle\"},\"name\":\"Bike\",\"showlegend\":true,\"type\":\"splom\"},{\"dimensions\":[{\"axis\":{\"matches\":true},\"label\":\"Distance (km)\",\"values\":[10.26,18.17,15.97,10.09,19.12,19.14,15.38,15.07,15.94,17.5,14.33,11.81,16.49,10.18,17.01,11.12,12.93,15.29,16.18,18.02,18.34,19.5,15.49,12.87,19.18,15.76,19.15,18.18,19.01,14.53,13.81,19.31,19.83]},{\"axis\":{\"matches\":true},\"label\":\"Travel Duration (mins)\",\"values\":[14.3,25.5,16.0,11.8,26.4,21.7,15.8,19.8,20.8,19.6,15.9,15.7,19.2,11.0,18.9,13.7,13.0,15.9,21.8,21.5,21.1,25.7,17.0,15.9,19.2,20.5,24.4,22.1,20.5,15.8,14.6,20.6,23.1]},{\"axis\":{\"matches\":true},\"label\":\"Avg Speed (km\\u002fh)\",\"values\":[43.0,42.8,59.9,51.3,43.5,52.9,58.4,45.7,46.0,53.6,54.1,45.1,51.5,55.5,54.0,48.7,59.7,57.7,44.5,50.3,52.2,45.5,54.7,48.6,59.9,46.1,47.1,49.4,55.6,55.2,56.8,56.2,51.5]}],\"hovertemplate\":\"Transport Mode=Train\\u003cbr\\u003e%{xaxis.title.text}=%{x}\\u003cbr\\u003e%{yaxis.title.text}=%{y}\\u003cextra\\u003e\\u003c\\u002fextra\\u003e\",\"legendgroup\":\"Train\",\"marker\":{\"color\":\"#FFA15A\",\"symbol\":\"circle\"},\"name\":\"Train\",\"showlegend\":true,\"type\":\"splom\"}],                        {\"template\":{\"data\":{\"histogram2dcontour\":[{\"type\":\"histogram2dcontour\",\"colorbar\":{\"outlinewidth\":0,\"ticks\":\"\"},\"colorscale\":[[0.0,\"#0d0887\"],[0.1111111111111111,\"#46039f\"],[0.2222222222222222,\"#7201a8\"],[0.3333333333333333,\"#9c179e\"],[0.4444444444444444,\"#bd3786\"],[0.5555555555555556,\"#d8576b\"],[0.6666666666666666,\"#ed7953\"],[0.7777777777777778,\"#fb9f3a\"],[0.8888888888888888,\"#fdca26\"],[1.0,\"#f0f921\"]]}],\"choropleth\":[{\"type\":\"choropleth\",\"colorbar\":{\"outlinewidth\":0,\"ticks\":\"\"}}],\"histogram2d\":[{\"type\":\"histogram2d\",\"colorbar\":{\"outlinewidth\":0,\"ticks\":\"\"},\"colorscale\":[[0.0,\"#0d0887\"],[0.1111111111111111,\"#46039f\"],[0.2222222222222222,\"#7201a8\"],[0.3333333333333333,\"#9c179e\"],[0.4444444444444444,\"#bd3786\"],[0.5555555555555556,\"#d8576b\"],[0.6666666666666666,\"#ed7953\"],[0.7777777777777778,\"#fb9f3a\"],[0.8888888888888888,\"#fdca26\"],[1.0,\"#f0f921\"]]}],\"heatmap\":[{\"type\":\"heatmap\",\"colorbar\":{\"outlinewidth\":0,\"ticks\":\"\"},\"colorscale\":[[0.0,\"#0d0887\"],[0.1111111111111111,\"#46039f\"],[0.2222222222222222,\"#7201a8\"],[0.3333333333333333,\"#9c179e\"],[0.4444444444444444,\"#bd3786\"],[0.5555555555555556,\"#d8576b\"],[0.6666666666666666,\"#ed7953\"],[0.7777777777777778,\"#fb9f3a\"],[0.8888888888888888,\"#fdca26\"],[1.0,\"#f0f921\"]]}],\"heatmapgl\":[{\"type\":\"heatmapgl\",\"colorbar\":{\"outlinewidth\":0,\"ticks\":\"\"},\"colorscale\":[[0.0,\"#0d0887\"],[0.1111111111111111,\"#46039f\"],[0.2222222222222222,\"#7201a8\"],[0.3333333333333333,\"#9c179e\"],[0.4444444444444444,\"#bd3786\"],[0.5555555555555556,\"#d8576b\"],[0.6666666666666666,\"#ed7953\"],[0.7777777777777778,\"#fb9f3a\"],[0.8888888888888888,\"#fdca26\"],[1.0,\"#f0f921\"]]}],\"contourcarpet\":[{\"type\":\"contourcarpet\",\"colorbar\":{\"outlinewidth\":0,\"ticks\":\"\"}}],\"contour\":[{\"type\":\"contour\",\"colorbar\":{\"outlinewidth\":0,\"ticks\":\"\"},\"colorscale\":[[0.0,\"#0d0887\"],[0.1111111111111111,\"#46039f\"],[0.2222222222222222,\"#7201a8\"],[0.3333333333333333,\"#9c179e\"],[0.4444444444444444,\"#bd3786\"],[0.5555555555555556,\"#d8576b\"],[0.6666666666666666,\"#ed7953\"],[0.7777777777777778,\"#fb9f3a\"],[0.8888888888888888,\"#fdca26\"],[1.0,\"#f0f921\"]]}],\"surface\":[{\"type\":\"surface\",\"colorbar\":{\"outlinewidth\":0,\"ticks\":\"\"},\"colorscale\":[[0.0,\"#0d0887\"],[0.1111111111111111,\"#46039f\"],[0.2222222222222222,\"#7201a8\"],[0.3333333333333333,\"#9c179e\"],[0.4444444444444444,\"#bd3786\"],[0.5555555555555556,\"#d8576b\"],[0.6666666666666666,\"#ed7953\"],[0.7777777777777778,\"#fb9f3a\"],[0.8888888888888888,\"#fdca26\"],[1.0,\"#f0f921\"]]}],\"mesh3d\":[{\"type\":\"mesh3d\",\"colorbar\":{\"outlinewidth\":0,\"ticks\":\"\"}}],\"scatter\":[{\"fillpattern\":{\"fillmode\":\"overlay\",\"size\":10,\"solidity\":0.2},\"type\":\"scatter\"}],\"parcoords\":[{\"type\":\"parcoords\",\"line\":{\"colorbar\":{\"outlinewidth\":0,\"ticks\":\"\"}}}],\"scatterpolargl\":[{\"type\":\"scatterpolargl\",\"marker\":{\"colorbar\":{\"outlinewidth\":0,\"ticks\":\"\"}}}],\"bar\":[{\"error_x\":{\"color\":\"#2a3f5f\"},\"error_y\":{\"color\":\"#2a3f5f\"},\"marker\":{\"line\":{\"color\":\"#E5ECF6\",\"width\":0.5},\"pattern\":{\"fillmode\":\"overlay\",\"size\":10,\"solidity\":0.2}},\"type\":\"bar\"}],\"scattergeo\":[{\"type\":\"scattergeo\",\"marker\":{\"colorbar\":{\"outlinewidth\":0,\"ticks\":\"\"}}}],\"scatterpolar\":[{\"type\":\"scatterpolar\",\"marker\":{\"colorbar\":{\"outlinewidth\":0,\"ticks\":\"\"}}}],\"histogram\":[{\"marker\":{\"pattern\":{\"fillmode\":\"overlay\",\"size\":10,\"solidity\":0.2}},\"type\":\"histogram\"}],\"scattergl\":[{\"type\":\"scattergl\",\"marker\":{\"colorbar\":{\"outlinewidth\":0,\"ticks\":\"\"}}}],\"scatter3d\":[{\"type\":\"scatter3d\",\"line\":{\"colorbar\":{\"outlinewidth\":0,\"ticks\":\"\"}},\"marker\":{\"colorbar\":{\"outlinewidth\":0,\"ticks\":\"\"}}}],\"scattermapbox\":[{\"type\":\"scattermapbox\",\"marker\":{\"colorbar\":{\"outlinewidth\":0,\"ticks\":\"\"}}}],\"scatterternary\":[{\"type\":\"scatterternary\",\"marker\":{\"colorbar\":{\"outlinewidth\":0,\"ticks\":\"\"}}}],\"scattercarpet\":[{\"type\":\"scattercarpet\",\"marker\":{\"colorbar\":{\"outlinewidth\":0,\"ticks\":\"\"}}}],\"carpet\":[{\"aaxis\":{\"endlinecolor\":\"#2a3f5f\",\"gridcolor\":\"white\",\"linecolor\":\"white\",\"minorgridcolor\":\"white\",\"startlinecolor\":\"#2a3f5f\"},\"baxis\":{\"endlinecolor\":\"#2a3f5f\",\"gridcolor\":\"white\",\"linecolor\":\"white\",\"minorgridcolor\":\"white\",\"startlinecolor\":\"#2a3f5f\"},\"type\":\"carpet\"}],\"table\":[{\"cells\":{\"fill\":{\"color\":\"#EBF0F8\"},\"line\":{\"color\":\"white\"}},\"header\":{\"fill\":{\"color\":\"#C8D4E3\"},\"line\":{\"color\":\"white\"}},\"type\":\"table\"}],\"barpolar\":[{\"marker\":{\"line\":{\"color\":\"#E5ECF6\",\"width\":0.5},\"pattern\":{\"fillmode\":\"overlay\",\"size\":10,\"solidity\":0.2}},\"type\":\"barpolar\"}],\"pie\":[{\"automargin\":true,\"type\":\"pie\"}]},\"layout\":{\"autotypenumbers\":\"strict\",\"colorway\":[\"#636efa\",\"#EF553B\",\"#00cc96\",\"#ab63fa\",\"#FFA15A\",\"#19d3f3\",\"#FF6692\",\"#B6E880\",\"#FF97FF\",\"#FECB52\"],\"font\":{\"color\":\"#2a3f5f\"},\"hovermode\":\"closest\",\"hoverlabel\":{\"align\":\"left\"},\"paper_bgcolor\":\"white\",\"plot_bgcolor\":\"#E5ECF6\",\"polar\":{\"bgcolor\":\"#E5ECF6\",\"angularaxis\":{\"gridcolor\":\"white\",\"linecolor\":\"white\",\"ticks\":\"\"},\"radialaxis\":{\"gridcolor\":\"white\",\"linecolor\":\"white\",\"ticks\":\"\"}},\"ternary\":{\"bgcolor\":\"#E5ECF6\",\"aaxis\":{\"gridcolor\":\"white\",\"linecolor\":\"white\",\"ticks\":\"\"},\"baxis\":{\"gridcolor\":\"white\",\"linecolor\":\"white\",\"ticks\":\"\"},\"caxis\":{\"gridcolor\":\"white\",\"linecolor\":\"white\",\"ticks\":\"\"}},\"coloraxis\":{\"colorbar\":{\"outlinewidth\":0,\"ticks\":\"\"}},\"colorscale\":{\"sequential\":[[0.0,\"#0d0887\"],[0.1111111111111111,\"#46039f\"],[0.2222222222222222,\"#7201a8\"],[0.3333333333333333,\"#9c179e\"],[0.4444444444444444,\"#bd3786\"],[0.5555555555555556,\"#d8576b\"],[0.6666666666666666,\"#ed7953\"],[0.7777777777777778,\"#fb9f3a\"],[0.8888888888888888,\"#fdca26\"],[1.0,\"#f0f921\"]],\"sequentialminus\":[[0.0,\"#0d0887\"],[0.1111111111111111,\"#46039f\"],[0.2222222222222222,\"#7201a8\"],[0.3333333333333333,\"#9c179e\"],[0.4444444444444444,\"#bd3786\"],[0.5555555555555556,\"#d8576b\"],[0.6666666666666666,\"#ed7953\"],[0.7777777777777778,\"#fb9f3a\"],[0.8888888888888888,\"#fdca26\"],[1.0,\"#f0f921\"]],\"diverging\":[[0,\"#8e0152\"],[0.1,\"#c51b7d\"],[0.2,\"#de77ae\"],[0.3,\"#f1b6da\"],[0.4,\"#fde0ef\"],[0.5,\"#f7f7f7\"],[0.6,\"#e6f5d0\"],[0.7,\"#b8e186\"],[0.8,\"#7fbc41\"],[0.9,\"#4d9221\"],[1,\"#276419\"]]},\"xaxis\":{\"gridcolor\":\"white\",\"linecolor\":\"white\",\"ticks\":\"\",\"title\":{\"standoff\":15},\"zerolinecolor\":\"white\",\"automargin\":true,\"zerolinewidth\":2},\"yaxis\":{\"gridcolor\":\"white\",\"linecolor\":\"white\",\"ticks\":\"\",\"title\":{\"standoff\":15},\"zerolinecolor\":\"white\",\"automargin\":true,\"zerolinewidth\":2},\"scene\":{\"xaxis\":{\"backgroundcolor\":\"#E5ECF6\",\"gridcolor\":\"white\",\"linecolor\":\"white\",\"showbackground\":true,\"ticks\":\"\",\"zerolinecolor\":\"white\",\"gridwidth\":2},\"yaxis\":{\"backgroundcolor\":\"#E5ECF6\",\"gridcolor\":\"white\",\"linecolor\":\"white\",\"showbackground\":true,\"ticks\":\"\",\"zerolinecolor\":\"white\",\"gridwidth\":2},\"zaxis\":{\"backgroundcolor\":\"#E5ECF6\",\"gridcolor\":\"white\",\"linecolor\":\"white\",\"showbackground\":true,\"ticks\":\"\",\"zerolinecolor\":\"white\",\"gridwidth\":2}},\"shapedefaults\":{\"line\":{\"color\":\"#2a3f5f\"}},\"annotationdefaults\":{\"arrowcolor\":\"#2a3f5f\",\"arrowhead\":0,\"arrowwidth\":1},\"geo\":{\"bgcolor\":\"white\",\"landcolor\":\"#E5ECF6\",\"subunitcolor\":\"white\",\"showland\":true,\"showlakes\":true,\"lakecolor\":\"white\"},\"title\":{\"x\":0.05},\"mapbox\":{\"style\":\"light\"}}},\"legend\":{\"title\":{\"text\":\"Transport Mode\"},\"tracegroupgap\":0},\"title\":{\"text\":\"Pair Plot of Urban Mobility Variables\"},\"dragmode\":\"select\",\"height\":700,\"width\":900},                        {\"responsive\": true}                    ).then(function(){\n",
              "                            \n",
              "var gd = document.getElementById('45b45323-c510-477c-8cc2-3470ab4bdc5f');\n",
              "var x = new MutationObserver(function (mutations, observer) {{\n",
              "        var display = window.getComputedStyle(gd).display;\n",
              "        if (!display || display === 'none') {{\n",
              "            console.log([gd, 'removed!']);\n",
              "            Plotly.purge(gd);\n",
              "            observer.disconnect();\n",
              "        }}\n",
              "}});\n",
              "\n",
              "// Listen for the removal of the full notebook cells\n",
              "var notebookContainer = gd.closest('#notebook-container');\n",
              "if (notebookContainer) {{\n",
              "    x.observe(notebookContainer, {childList: true});\n",
              "}}\n",
              "\n",
              "// Listen for the clearing of the current output cell\n",
              "var outputEl = gd.closest('.output');\n",
              "if (outputEl) {{\n",
              "    x.observe(outputEl, {childList: true});\n",
              "}}\n",
              "\n",
              "                        })                };                            </script>        </div>\n",
              "</body>\n",
              "</html>"
            ]
          },
          "metadata": {},
          "output_type": "display_data"
        }
      ],
      "source": [
        "# Pair plot (scatter matrix)\n",
        "fig_pairplot = px.scatter_matrix(\n",
        "    urban,\n",
        "    dimensions=['Distance (km)', 'Travel Duration (mins)', 'Avg Speed (km/h)'],\n",
        "    color='Transport Mode',\n",
        "    title=\"Pair Plot of Urban Mobility Variables\",\n",
        "    height=700,\n",
        "    width=900\n",
        ")\n",
        "fig_pairplot.show()"
      ]
    },
    {
      "cell_type": "markdown",
      "metadata": {
        "id": "bFpAY49OEvsu"
      },
      "source": [
        "**📝 Exercise 4**: Are there any patterns you can observe in the data? What are some relations between these variables? Explain."
      ]
    },
    {
      "cell_type": "markdown",
      "metadata": {
        "id": "08ON7O4pEwDT"
      },
      "source": [
        "**Answer:** In this chart, we can see some clear patterns between the different types of transportation:\n",
        "\n",
        "1. Distance vs. Avg Speed:\n",
        "   - Trains and cars cover longer distances at higher speeds.\n",
        "   - Walking and biking tend to have shorter distances and lower speeds.\n",
        "\n",
        "2. Distance vs. Travel Time:\n",
        "   - The farther you go, the longer it takes.\n",
        "   - Walking and biking take more time for longer distances compared to cars and trains, which move faster.\n",
        "\n",
        "3. Travel Time vs. Avg Speed:\n",
        "   - Trains have high speeds but don’t take a lot of time.\n",
        "   - Buses and cars take more time but still move faster than walking or biking.\n",
        "\n",
        "Each transport type forms its own group, with walking and biking moving slower and covering shorter distances, while cars, buses, and trains go faster and farther. The data helps to clearly distinguish between different modes of travel.\n"
      ]
    },
    {
      "cell_type": "markdown",
      "metadata": {
        "id": "_41PIGU2E557"
      },
      "source": [
        "**📝 Exercise 5**: Let's check the distribution of values for `Distance (km)` and `Avg Speed (km/h)`. Make two violin plots, for both variables, and show groups according to `Transport Mode`."
      ]
    },
    {
      "cell_type": "code",
      "execution_count": null,
      "metadata": {
        "colab": {
          "base_uri": "https://localhost:8080/",
          "height": 1000
        },
        "id": "7BlLIJbmbome",
        "outputId": "bdb2b47d-2be8-4700-a8bf-9e392fab6c08"
      },
      "outputs": [
        {
          "data": {
            "text/html": [
              "<html>\n",
              "<head><meta charset=\"utf-8\" /></head>\n",
              "<body>\n",
              "    <div>            <script src=\"https://cdnjs.cloudflare.com/ajax/libs/mathjax/2.7.5/MathJax.js?config=TeX-AMS-MML_SVG\"></script><script type=\"text/javascript\">if (window.MathJax && window.MathJax.Hub && window.MathJax.Hub.Config) {window.MathJax.Hub.Config({SVG: {font: \"STIX-Web\"}});}</script>                <script type=\"text/javascript\">window.PlotlyConfig = {MathJaxConfig: 'local'};</script>\n",
              "        <script charset=\"utf-8\" src=\"https://cdn.plot.ly/plotly-2.35.2.min.js\"></script>                <div id=\"90bda6c0-b0e9-42d6-9670-d1e0cc473b32\" class=\"plotly-graph-div\" style=\"height:600px; width:900px;\"></div>            <script type=\"text/javascript\">                                    window.PLOTLYENV=window.PLOTLYENV || {};                                    if (document.getElementById(\"90bda6c0-b0e9-42d6-9670-d1e0cc473b32\")) {                    Plotly.newPlot(                        \"90bda6c0-b0e9-42d6-9670-d1e0cc473b32\",                        [{\"alignmentgroup\":\"True\",\"box\":{\"visible\":true},\"hovertemplate\":\"Transport Mode=%{x}\\u003cbr\\u003eDistance (km)=%{y}\\u003cextra\\u003e\\u003c\\u002fextra\\u003e\",\"legendgroup\":\"Walk\",\"marker\":{\"color\":\"#636efa\"},\"name\":\"Walk\",\"offsetgroup\":\"Walk\",\"orientation\":\"v\",\"scalegroup\":\"True\",\"showlegend\":true,\"x\":[\"Walk\",\"Walk\",\"Walk\",\"Walk\",\"Walk\",\"Walk\",\"Walk\",\"Walk\",\"Walk\",\"Walk\",\"Walk\",\"Walk\",\"Walk\",\"Walk\",\"Walk\",\"Walk\",\"Walk\",\"Walk\"],\"x0\":\" \",\"xaxis\":\"x\",\"y\":[0.93,1.77,1.77,1.77,0.93,1.77,0.93,0.93,0.93,1.77,1.92,0.93,0.93,0.93,1.92,0.93,0.93,1.92],\"y0\":\" \",\"yaxis\":\"y\",\"type\":\"violin\"},{\"alignmentgroup\":\"True\",\"box\":{\"visible\":true},\"hovertemplate\":\"Transport Mode=%{x}\\u003cbr\\u003eDistance (km)=%{y}\\u003cextra\\u003e\\u003c\\u002fextra\\u003e\",\"legendgroup\":\"Car\",\"marker\":{\"color\":\"#EF553B\"},\"name\":\"Car\",\"offsetgroup\":\"Car\",\"orientation\":\"v\",\"scalegroup\":\"True\",\"showlegend\":true,\"x\":[\"Car\",\"Car\",\"Car\",\"Car\",\"Car\",\"Car\",\"Car\",\"Car\",\"Car\",\"Car\",\"Car\",\"Car\",\"Car\",\"Car\",\"Car\",\"Car\",\"Car\",\"Car\",\"Car\",\"Car\",\"Car\",\"Car\",\"Car\",\"Car\",\"Car\",\"Car\",\"Car\",\"Car\",\"Car\",\"Car\",\"Car\",\"Car\",\"Car\",\"Car\",\"Car\",\"Car\",\"Car\",\"Car\",\"Car\",\"Car\",\"Car\",\"Car\",\"Car\",\"Car\",\"Car\",\"Car\",\"Car\",\"Car\",\"Car\",\"Car\",\"Car\",\"Car\",\"Car\",\"Car\",\"Car\",\"Car\",\"Car\",\"Car\",\"Car\",\"Car\",\"Car\",\"Car\",\"Car\",\"Car\",\"Car\",\"Car\",\"Car\",\"Car\",\"Car\",\"Car\",\"Car\",\"Car\",\"Car\",\"Car\",\"Car\",\"Car\",\"Car\",\"Car\",\"Car\",\"Car\",\"Car\",\"Car\",\"Car\",\"Car\",\"Car\",\"Car\",\"Car\",\"Car\",\"Car\",\"Car\",\"Car\",\"Car\"],\"x0\":\" \",\"xaxis\":\"x\",\"y\":[9.15,17.25,17.4,19.79,9.79,13.13,16.22,8.25,14.14,7.27,14.81,9.25,8.65,11.76,7.24,13.11,5.31,10.67,8.07,14.49,5.22,8.19,19.1,7.56,12.41,15.62,11.76,14.44,13.19,19.29,5.51,12.75,11.47,5.45,7.56,15.74,8.74,18.37,15.75,9.26,18.31,9.46,10.9,14.04,11.87,17.44,19.44,13.31,8.09,9.55,5.49,9.44,17.65,11.51,11.53,16.77,5.98,9.92,13.19,14.53,15.05,17.86,12.98,8.35,6.61,15.45,16.26,9.94,18.65,12.9,12.04,15.14,11.92,7.74,7.29,17.39,19.0,13.13,8.1,14.92,7.86,19.84,12.66,10.65,7.04,8.21,19.45,6.06,16.62,8.67,5.6,14.19],\"y0\":\" \",\"yaxis\":\"y\",\"type\":\"violin\"},{\"alignmentgroup\":\"True\",\"box\":{\"visible\":true},\"hovertemplate\":\"Transport Mode=%{x}\\u003cbr\\u003eDistance (km)=%{y}\\u003cextra\\u003e\\u003c\\u002fextra\\u003e\",\"legendgroup\":\"Bus\",\"marker\":{\"color\":\"#00cc96\"},\"name\":\"Bus\",\"offsetgroup\":\"Bus\",\"orientation\":\"v\",\"scalegroup\":\"True\",\"showlegend\":true,\"x\":[\"Bus\",\"Bus\",\"Bus\",\"Bus\",\"Bus\",\"Bus\",\"Bus\",\"Bus\",\"Bus\",\"Bus\",\"Bus\",\"Bus\",\"Bus\",\"Bus\",\"Bus\",\"Bus\",\"Bus\",\"Bus\",\"Bus\",\"Bus\",\"Bus\",\"Bus\",\"Bus\",\"Bus\",\"Bus\"],\"x0\":\" \",\"xaxis\":\"x\",\"y\":[5.8,7.8,7.85,5.96,7.15,8.99,8.45,9.21,9.71,5.62,7.2,5.74,5.1,8.24,5.04,5.93,5.08,8.26,5.22,5.53,7.23,9.61,7.52,6.64,7.42],\"y0\":\" \",\"yaxis\":\"y\",\"type\":\"violin\"},{\"alignmentgroup\":\"True\",\"box\":{\"visible\":true},\"hovertemplate\":\"Transport Mode=%{x}\\u003cbr\\u003eDistance (km)=%{y}\\u003cextra\\u003e\\u003c\\u002fextra\\u003e\",\"legendgroup\":\"Bike\",\"marker\":{\"color\":\"#ab63fa\"},\"name\":\"Bike\",\"offsetgroup\":\"Bike\",\"orientation\":\"v\",\"scalegroup\":\"True\",\"showlegend\":true,\"x\":[\"Bike\",\"Bike\",\"Bike\",\"Bike\",\"Bike\",\"Bike\",\"Bike\",\"Bike\",\"Bike\",\"Bike\",\"Bike\",\"Bike\",\"Bike\",\"Bike\",\"Bike\",\"Bike\",\"Bike\",\"Bike\",\"Bike\",\"Bike\",\"Bike\",\"Bike\",\"Bike\",\"Bike\",\"Bike\",\"Bike\",\"Bike\",\"Bike\",\"Bike\",\"Bike\",\"Bike\",\"Bike\",\"Bike\",\"Bike\",\"Bike\",\"Bike\",\"Bike\",\"Bike\",\"Bike\",\"Bike\",\"Bike\",\"Bike\",\"Bike\",\"Bike\",\"Bike\",\"Bike\",\"Bike\"],\"x0\":\" \",\"xaxis\":\"x\",\"y\":[2.66,3.76,2.74,4.54,2.86,3.15,2.23,4.76,4.43,3.6,4.71,4.09,2.25,2.74,3.79,0.63,3.74,2.47,3.11,3.01,2.79,3.74,3.51,2.72,2.53,3.03,2.46,1.63,4.15,4.76,3.08,1.76,4.89,2.01,2.66,2.61,3.33,4.79,4.78,2.54,2.66,0.61,1.99,1.95,1.81,3.16,2.85],\"y0\":\" \",\"yaxis\":\"y\",\"type\":\"violin\"},{\"alignmentgroup\":\"True\",\"box\":{\"visible\":true},\"hovertemplate\":\"Transport Mode=%{x}\\u003cbr\\u003eDistance (km)=%{y}\\u003cextra\\u003e\\u003c\\u002fextra\\u003e\",\"legendgroup\":\"Train\",\"marker\":{\"color\":\"#FFA15A\"},\"name\":\"Train\",\"offsetgroup\":\"Train\",\"orientation\":\"v\",\"scalegroup\":\"True\",\"showlegend\":true,\"x\":[\"Train\",\"Train\",\"Train\",\"Train\",\"Train\",\"Train\",\"Train\",\"Train\",\"Train\",\"Train\",\"Train\",\"Train\",\"Train\",\"Train\",\"Train\",\"Train\",\"Train\",\"Train\",\"Train\",\"Train\",\"Train\",\"Train\",\"Train\",\"Train\",\"Train\",\"Train\",\"Train\",\"Train\",\"Train\",\"Train\",\"Train\",\"Train\",\"Train\"],\"x0\":\" \",\"xaxis\":\"x\",\"y\":[10.26,18.17,15.97,10.09,19.12,19.14,15.38,15.07,15.94,17.5,14.33,11.81,16.49,10.18,17.01,11.12,12.93,15.29,16.18,18.02,18.34,19.5,15.49,12.87,19.18,15.76,19.15,18.18,19.01,14.53,13.81,19.31,19.83],\"y0\":\" \",\"yaxis\":\"y\",\"type\":\"violin\"}],                        {\"template\":{\"data\":{\"histogram2dcontour\":[{\"type\":\"histogram2dcontour\",\"colorbar\":{\"outlinewidth\":0,\"ticks\":\"\"},\"colorscale\":[[0.0,\"#0d0887\"],[0.1111111111111111,\"#46039f\"],[0.2222222222222222,\"#7201a8\"],[0.3333333333333333,\"#9c179e\"],[0.4444444444444444,\"#bd3786\"],[0.5555555555555556,\"#d8576b\"],[0.6666666666666666,\"#ed7953\"],[0.7777777777777778,\"#fb9f3a\"],[0.8888888888888888,\"#fdca26\"],[1.0,\"#f0f921\"]]}],\"choropleth\":[{\"type\":\"choropleth\",\"colorbar\":{\"outlinewidth\":0,\"ticks\":\"\"}}],\"histogram2d\":[{\"type\":\"histogram2d\",\"colorbar\":{\"outlinewidth\":0,\"ticks\":\"\"},\"colorscale\":[[0.0,\"#0d0887\"],[0.1111111111111111,\"#46039f\"],[0.2222222222222222,\"#7201a8\"],[0.3333333333333333,\"#9c179e\"],[0.4444444444444444,\"#bd3786\"],[0.5555555555555556,\"#d8576b\"],[0.6666666666666666,\"#ed7953\"],[0.7777777777777778,\"#fb9f3a\"],[0.8888888888888888,\"#fdca26\"],[1.0,\"#f0f921\"]]}],\"heatmap\":[{\"type\":\"heatmap\",\"colorbar\":{\"outlinewidth\":0,\"ticks\":\"\"},\"colorscale\":[[0.0,\"#0d0887\"],[0.1111111111111111,\"#46039f\"],[0.2222222222222222,\"#7201a8\"],[0.3333333333333333,\"#9c179e\"],[0.4444444444444444,\"#bd3786\"],[0.5555555555555556,\"#d8576b\"],[0.6666666666666666,\"#ed7953\"],[0.7777777777777778,\"#fb9f3a\"],[0.8888888888888888,\"#fdca26\"],[1.0,\"#f0f921\"]]}],\"heatmapgl\":[{\"type\":\"heatmapgl\",\"colorbar\":{\"outlinewidth\":0,\"ticks\":\"\"},\"colorscale\":[[0.0,\"#0d0887\"],[0.1111111111111111,\"#46039f\"],[0.2222222222222222,\"#7201a8\"],[0.3333333333333333,\"#9c179e\"],[0.4444444444444444,\"#bd3786\"],[0.5555555555555556,\"#d8576b\"],[0.6666666666666666,\"#ed7953\"],[0.7777777777777778,\"#fb9f3a\"],[0.8888888888888888,\"#fdca26\"],[1.0,\"#f0f921\"]]}],\"contourcarpet\":[{\"type\":\"contourcarpet\",\"colorbar\":{\"outlinewidth\":0,\"ticks\":\"\"}}],\"contour\":[{\"type\":\"contour\",\"colorbar\":{\"outlinewidth\":0,\"ticks\":\"\"},\"colorscale\":[[0.0,\"#0d0887\"],[0.1111111111111111,\"#46039f\"],[0.2222222222222222,\"#7201a8\"],[0.3333333333333333,\"#9c179e\"],[0.4444444444444444,\"#bd3786\"],[0.5555555555555556,\"#d8576b\"],[0.6666666666666666,\"#ed7953\"],[0.7777777777777778,\"#fb9f3a\"],[0.8888888888888888,\"#fdca26\"],[1.0,\"#f0f921\"]]}],\"surface\":[{\"type\":\"surface\",\"colorbar\":{\"outlinewidth\":0,\"ticks\":\"\"},\"colorscale\":[[0.0,\"#0d0887\"],[0.1111111111111111,\"#46039f\"],[0.2222222222222222,\"#7201a8\"],[0.3333333333333333,\"#9c179e\"],[0.4444444444444444,\"#bd3786\"],[0.5555555555555556,\"#d8576b\"],[0.6666666666666666,\"#ed7953\"],[0.7777777777777778,\"#fb9f3a\"],[0.8888888888888888,\"#fdca26\"],[1.0,\"#f0f921\"]]}],\"mesh3d\":[{\"type\":\"mesh3d\",\"colorbar\":{\"outlinewidth\":0,\"ticks\":\"\"}}],\"scatter\":[{\"fillpattern\":{\"fillmode\":\"overlay\",\"size\":10,\"solidity\":0.2},\"type\":\"scatter\"}],\"parcoords\":[{\"type\":\"parcoords\",\"line\":{\"colorbar\":{\"outlinewidth\":0,\"ticks\":\"\"}}}],\"scatterpolargl\":[{\"type\":\"scatterpolargl\",\"marker\":{\"colorbar\":{\"outlinewidth\":0,\"ticks\":\"\"}}}],\"bar\":[{\"error_x\":{\"color\":\"#2a3f5f\"},\"error_y\":{\"color\":\"#2a3f5f\"},\"marker\":{\"line\":{\"color\":\"#E5ECF6\",\"width\":0.5},\"pattern\":{\"fillmode\":\"overlay\",\"size\":10,\"solidity\":0.2}},\"type\":\"bar\"}],\"scattergeo\":[{\"type\":\"scattergeo\",\"marker\":{\"colorbar\":{\"outlinewidth\":0,\"ticks\":\"\"}}}],\"scatterpolar\":[{\"type\":\"scatterpolar\",\"marker\":{\"colorbar\":{\"outlinewidth\":0,\"ticks\":\"\"}}}],\"histogram\":[{\"marker\":{\"pattern\":{\"fillmode\":\"overlay\",\"size\":10,\"solidity\":0.2}},\"type\":\"histogram\"}],\"scattergl\":[{\"type\":\"scattergl\",\"marker\":{\"colorbar\":{\"outlinewidth\":0,\"ticks\":\"\"}}}],\"scatter3d\":[{\"type\":\"scatter3d\",\"line\":{\"colorbar\":{\"outlinewidth\":0,\"ticks\":\"\"}},\"marker\":{\"colorbar\":{\"outlinewidth\":0,\"ticks\":\"\"}}}],\"scattermapbox\":[{\"type\":\"scattermapbox\",\"marker\":{\"colorbar\":{\"outlinewidth\":0,\"ticks\":\"\"}}}],\"scatterternary\":[{\"type\":\"scatterternary\",\"marker\":{\"colorbar\":{\"outlinewidth\":0,\"ticks\":\"\"}}}],\"scattercarpet\":[{\"type\":\"scattercarpet\",\"marker\":{\"colorbar\":{\"outlinewidth\":0,\"ticks\":\"\"}}}],\"carpet\":[{\"aaxis\":{\"endlinecolor\":\"#2a3f5f\",\"gridcolor\":\"white\",\"linecolor\":\"white\",\"minorgridcolor\":\"white\",\"startlinecolor\":\"#2a3f5f\"},\"baxis\":{\"endlinecolor\":\"#2a3f5f\",\"gridcolor\":\"white\",\"linecolor\":\"white\",\"minorgridcolor\":\"white\",\"startlinecolor\":\"#2a3f5f\"},\"type\":\"carpet\"}],\"table\":[{\"cells\":{\"fill\":{\"color\":\"#EBF0F8\"},\"line\":{\"color\":\"white\"}},\"header\":{\"fill\":{\"color\":\"#C8D4E3\"},\"line\":{\"color\":\"white\"}},\"type\":\"table\"}],\"barpolar\":[{\"marker\":{\"line\":{\"color\":\"#E5ECF6\",\"width\":0.5},\"pattern\":{\"fillmode\":\"overlay\",\"size\":10,\"solidity\":0.2}},\"type\":\"barpolar\"}],\"pie\":[{\"automargin\":true,\"type\":\"pie\"}]},\"layout\":{\"autotypenumbers\":\"strict\",\"colorway\":[\"#636efa\",\"#EF553B\",\"#00cc96\",\"#ab63fa\",\"#FFA15A\",\"#19d3f3\",\"#FF6692\",\"#B6E880\",\"#FF97FF\",\"#FECB52\"],\"font\":{\"color\":\"#2a3f5f\"},\"hovermode\":\"closest\",\"hoverlabel\":{\"align\":\"left\"},\"paper_bgcolor\":\"white\",\"plot_bgcolor\":\"#E5ECF6\",\"polar\":{\"bgcolor\":\"#E5ECF6\",\"angularaxis\":{\"gridcolor\":\"white\",\"linecolor\":\"white\",\"ticks\":\"\"},\"radialaxis\":{\"gridcolor\":\"white\",\"linecolor\":\"white\",\"ticks\":\"\"}},\"ternary\":{\"bgcolor\":\"#E5ECF6\",\"aaxis\":{\"gridcolor\":\"white\",\"linecolor\":\"white\",\"ticks\":\"\"},\"baxis\":{\"gridcolor\":\"white\",\"linecolor\":\"white\",\"ticks\":\"\"},\"caxis\":{\"gridcolor\":\"white\",\"linecolor\":\"white\",\"ticks\":\"\"}},\"coloraxis\":{\"colorbar\":{\"outlinewidth\":0,\"ticks\":\"\"}},\"colorscale\":{\"sequential\":[[0.0,\"#0d0887\"],[0.1111111111111111,\"#46039f\"],[0.2222222222222222,\"#7201a8\"],[0.3333333333333333,\"#9c179e\"],[0.4444444444444444,\"#bd3786\"],[0.5555555555555556,\"#d8576b\"],[0.6666666666666666,\"#ed7953\"],[0.7777777777777778,\"#fb9f3a\"],[0.8888888888888888,\"#fdca26\"],[1.0,\"#f0f921\"]],\"sequentialminus\":[[0.0,\"#0d0887\"],[0.1111111111111111,\"#46039f\"],[0.2222222222222222,\"#7201a8\"],[0.3333333333333333,\"#9c179e\"],[0.4444444444444444,\"#bd3786\"],[0.5555555555555556,\"#d8576b\"],[0.6666666666666666,\"#ed7953\"],[0.7777777777777778,\"#fb9f3a\"],[0.8888888888888888,\"#fdca26\"],[1.0,\"#f0f921\"]],\"diverging\":[[0,\"#8e0152\"],[0.1,\"#c51b7d\"],[0.2,\"#de77ae\"],[0.3,\"#f1b6da\"],[0.4,\"#fde0ef\"],[0.5,\"#f7f7f7\"],[0.6,\"#e6f5d0\"],[0.7,\"#b8e186\"],[0.8,\"#7fbc41\"],[0.9,\"#4d9221\"],[1,\"#276419\"]]},\"xaxis\":{\"gridcolor\":\"white\",\"linecolor\":\"white\",\"ticks\":\"\",\"title\":{\"standoff\":15},\"zerolinecolor\":\"white\",\"automargin\":true,\"zerolinewidth\":2},\"yaxis\":{\"gridcolor\":\"white\",\"linecolor\":\"white\",\"ticks\":\"\",\"title\":{\"standoff\":15},\"zerolinecolor\":\"white\",\"automargin\":true,\"zerolinewidth\":2},\"scene\":{\"xaxis\":{\"backgroundcolor\":\"#E5ECF6\",\"gridcolor\":\"white\",\"linecolor\":\"white\",\"showbackground\":true,\"ticks\":\"\",\"zerolinecolor\":\"white\",\"gridwidth\":2},\"yaxis\":{\"backgroundcolor\":\"#E5ECF6\",\"gridcolor\":\"white\",\"linecolor\":\"white\",\"showbackground\":true,\"ticks\":\"\",\"zerolinecolor\":\"white\",\"gridwidth\":2},\"zaxis\":{\"backgroundcolor\":\"#E5ECF6\",\"gridcolor\":\"white\",\"linecolor\":\"white\",\"showbackground\":true,\"ticks\":\"\",\"zerolinecolor\":\"white\",\"gridwidth\":2}},\"shapedefaults\":{\"line\":{\"color\":\"#2a3f5f\"}},\"annotationdefaults\":{\"arrowcolor\":\"#2a3f5f\",\"arrowhead\":0,\"arrowwidth\":1},\"geo\":{\"bgcolor\":\"white\",\"landcolor\":\"#E5ECF6\",\"subunitcolor\":\"white\",\"showland\":true,\"showlakes\":true,\"lakecolor\":\"white\"},\"title\":{\"x\":0.05},\"mapbox\":{\"style\":\"light\"}}},\"xaxis\":{\"anchor\":\"y\",\"domain\":[0.0,1.0],\"title\":{\"text\":\"Transport Mode\"},\"categoryorder\":\"array\",\"categoryarray\":[\"Walk\",\"Car\",\"Bus\",\"Bike\",\"Train\"]},\"yaxis\":{\"anchor\":\"x\",\"domain\":[0.0,1.0],\"title\":{\"text\":\"Distance (km)\"}},\"legend\":{\"title\":{\"text\":\"Transport Mode\"},\"tracegroupgap\":0},\"title\":{\"text\":\"Distribution of Distance by Transport Mode\"},\"violinmode\":\"overlay\",\"height\":600,\"width\":900},                        {\"responsive\": true}                    ).then(function(){\n",
              "                            \n",
              "var gd = document.getElementById('90bda6c0-b0e9-42d6-9670-d1e0cc473b32');\n",
              "var x = new MutationObserver(function (mutations, observer) {{\n",
              "        var display = window.getComputedStyle(gd).display;\n",
              "        if (!display || display === 'none') {{\n",
              "            console.log([gd, 'removed!']);\n",
              "            Plotly.purge(gd);\n",
              "            observer.disconnect();\n",
              "        }}\n",
              "}});\n",
              "\n",
              "// Listen for the removal of the full notebook cells\n",
              "var notebookContainer = gd.closest('#notebook-container');\n",
              "if (notebookContainer) {{\n",
              "    x.observe(notebookContainer, {childList: true});\n",
              "}}\n",
              "\n",
              "// Listen for the clearing of the current output cell\n",
              "var outputEl = gd.closest('.output');\n",
              "if (outputEl) {{\n",
              "    x.observe(outputEl, {childList: true});\n",
              "}}\n",
              "\n",
              "                        })                };                            </script>        </div>\n",
              "</body>\n",
              "</html>"
            ]
          },
          "metadata": {},
          "output_type": "display_data"
        },
        {
          "data": {
            "text/html": [
              "<html>\n",
              "<head><meta charset=\"utf-8\" /></head>\n",
              "<body>\n",
              "    <div>            <script src=\"https://cdnjs.cloudflare.com/ajax/libs/mathjax/2.7.5/MathJax.js?config=TeX-AMS-MML_SVG\"></script><script type=\"text/javascript\">if (window.MathJax && window.MathJax.Hub && window.MathJax.Hub.Config) {window.MathJax.Hub.Config({SVG: {font: \"STIX-Web\"}});}</script>                <script type=\"text/javascript\">window.PlotlyConfig = {MathJaxConfig: 'local'};</script>\n",
              "        <script charset=\"utf-8\" src=\"https://cdn.plot.ly/plotly-2.35.2.min.js\"></script>                <div id=\"0bdbe549-4484-44de-a8db-d066beb0baa4\" class=\"plotly-graph-div\" style=\"height:600px; width:900px;\"></div>            <script type=\"text/javascript\">                                    window.PLOTLYENV=window.PLOTLYENV || {};                                    if (document.getElementById(\"0bdbe549-4484-44de-a8db-d066beb0baa4\")) {                    Plotly.newPlot(                        \"0bdbe549-4484-44de-a8db-d066beb0baa4\",                        [{\"alignmentgroup\":\"True\",\"box\":{\"visible\":true},\"hovertemplate\":\"Transport Mode=%{x}\\u003cbr\\u003eAvg Speed (km\\u002fh)=%{y}\\u003cextra\\u003e\\u003c\\u002fextra\\u003e\",\"legendgroup\":\"Walk\",\"marker\":{\"color\":\"#636efa\"},\"name\":\"Walk\",\"offsetgroup\":\"Walk\",\"orientation\":\"v\",\"scalegroup\":\"True\",\"showlegend\":true,\"x\":[\"Walk\",\"Walk\",\"Walk\",\"Walk\",\"Walk\",\"Walk\",\"Walk\",\"Walk\",\"Walk\",\"Walk\",\"Walk\",\"Walk\",\"Walk\",\"Walk\",\"Walk\",\"Walk\",\"Walk\",\"Walk\"],\"x0\":\" \",\"xaxis\":\"x\",\"y\":[6.3,3.4,3.4,3.4,6.3,3.4,6.3,6.3,6.3,3.4,4.4,6.3,6.3,6.3,4.4,6.3,6.3,4.4],\"y0\":\" \",\"yaxis\":\"y\",\"type\":\"violin\"},{\"alignmentgroup\":\"True\",\"box\":{\"visible\":true},\"hovertemplate\":\"Transport Mode=%{x}\\u003cbr\\u003eAvg Speed (km\\u002fh)=%{y}\\u003cextra\\u003e\\u003c\\u002fextra\\u003e\",\"legendgroup\":\"Car\",\"marker\":{\"color\":\"#EF553B\"},\"name\":\"Car\",\"offsetgroup\":\"Car\",\"orientation\":\"v\",\"scalegroup\":\"True\",\"showlegend\":true,\"x\":[\"Car\",\"Car\",\"Car\",\"Car\",\"Car\",\"Car\",\"Car\",\"Car\",\"Car\",\"Car\",\"Car\",\"Car\",\"Car\",\"Car\",\"Car\",\"Car\",\"Car\",\"Car\",\"Car\",\"Car\",\"Car\",\"Car\",\"Car\",\"Car\",\"Car\",\"Car\",\"Car\",\"Car\",\"Car\",\"Car\",\"Car\",\"Car\",\"Car\",\"Car\",\"Car\",\"Car\",\"Car\",\"Car\",\"Car\",\"Car\",\"Car\",\"Car\",\"Car\",\"Car\",\"Car\",\"Car\",\"Car\",\"Car\",\"Car\",\"Car\",\"Car\",\"Car\",\"Car\",\"Car\",\"Car\",\"Car\",\"Car\",\"Car\",\"Car\",\"Car\",\"Car\",\"Car\",\"Car\",\"Car\",\"Car\",\"Car\",\"Car\",\"Car\",\"Car\",\"Car\",\"Car\",\"Car\",\"Car\",\"Car\",\"Car\",\"Car\",\"Car\",\"Car\",\"Car\",\"Car\",\"Car\",\"Car\",\"Car\",\"Car\",\"Car\",\"Car\",\"Car\",\"Car\",\"Car\",\"Car\",\"Car\",\"Car\"],\"x0\":\" \",\"xaxis\":\"x\",\"y\":[32.5,25.5,25.6,33.1,18.1,27.1,32.1,22.8,28.1,29.9,18.6,34.5,29.5,33.1,24.8,18.4,32.8,28.8,31.6,33.7,30.7,30.1,18.0,26.2,27.3,23.1,25.1,28.5,27.2,18.9,24.7,26.1,34.6,19.9,29.5,32.6,34.5,28.5,30.4,19.3,31.0,33.0,27.8,20.5,32.7,18.5,21.5,31.9,27.7,24.3,22.0,20.1,28.1,18.1,30.6,31.5,22.9,31.2,21.0,31.1,32.8,32.8,23.6,32.1,33.3,21.1,32.7,19.1,28.2,22.7,27.3,19.7,34.7,30.4,23.4,19.2,23.9,23.3,24.9,25.9,18.8,24.1,21.6,31.2,32.7,34.2,27.6,33.4,35.4,35.6,22.6,22.9],\"y0\":\" \",\"yaxis\":\"y\",\"type\":\"violin\"},{\"alignmentgroup\":\"True\",\"box\":{\"visible\":true},\"hovertemplate\":\"Transport Mode=%{x}\\u003cbr\\u003eAvg Speed (km\\u002fh)=%{y}\\u003cextra\\u003e\\u003c\\u002fextra\\u003e\",\"legendgroup\":\"Bus\",\"marker\":{\"color\":\"#00cc96\"},\"name\":\"Bus\",\"offsetgroup\":\"Bus\",\"orientation\":\"v\",\"scalegroup\":\"True\",\"showlegend\":true,\"x\":[\"Bus\",\"Bus\",\"Bus\",\"Bus\",\"Bus\",\"Bus\",\"Bus\",\"Bus\",\"Bus\",\"Bus\",\"Bus\",\"Bus\",\"Bus\",\"Bus\",\"Bus\",\"Bus\",\"Bus\",\"Bus\",\"Bus\",\"Bus\",\"Bus\",\"Bus\",\"Bus\",\"Bus\",\"Bus\"],\"x0\":\" \",\"xaxis\":\"x\",\"y\":[31.9,33.9,26.3,32.8,29.4,27.4,24.3,33.5,23.0,27.2,19.9,18.8,32.6,20.0,34.4,34.9,21.0,22.4,33.0,31.0,26.9,19.5,26.5,29.7,30.3],\"y0\":\" \",\"yaxis\":\"y\",\"type\":\"violin\"},{\"alignmentgroup\":\"True\",\"box\":{\"visible\":true},\"hovertemplate\":\"Transport Mode=%{x}\\u003cbr\\u003eAvg Speed (km\\u002fh)=%{y}\\u003cextra\\u003e\\u003c\\u002fextra\\u003e\",\"legendgroup\":\"Bike\",\"marker\":{\"color\":\"#ab63fa\"},\"name\":\"Bike\",\"offsetgroup\":\"Bike\",\"orientation\":\"v\",\"scalegroup\":\"True\",\"showlegend\":true,\"x\":[\"Bike\",\"Bike\",\"Bike\",\"Bike\",\"Bike\",\"Bike\",\"Bike\",\"Bike\",\"Bike\",\"Bike\",\"Bike\",\"Bike\",\"Bike\",\"Bike\",\"Bike\",\"Bike\",\"Bike\",\"Bike\",\"Bike\",\"Bike\",\"Bike\",\"Bike\",\"Bike\",\"Bike\",\"Bike\",\"Bike\",\"Bike\",\"Bike\",\"Bike\",\"Bike\",\"Bike\",\"Bike\",\"Bike\",\"Bike\",\"Bike\",\"Bike\",\"Bike\",\"Bike\",\"Bike\",\"Bike\",\"Bike\",\"Bike\",\"Bike\",\"Bike\",\"Bike\",\"Bike\",\"Bike\"],\"x0\":\" \",\"xaxis\":\"x\",\"y\":[9.0,10.1,12.3,14.3,9.5,9.2,12.2,9.6,12.2,12.9,11.5,13.9,13.4,9.2,10.2,12.6,13.0,14.1,10.6,9.7,14.8,14.4,10.0,11.5,14.9,12.2,14.5,14.8,14.5,14.6,13.3,11.0,12.8,13.7,13.9,11.6,12.4,12.4,11.2,9.5,9.4,9.2,10.1,12.6,11.4,13.4,14.0],\"y0\":\" \",\"yaxis\":\"y\",\"type\":\"violin\"},{\"alignmentgroup\":\"True\",\"box\":{\"visible\":true},\"hovertemplate\":\"Transport Mode=%{x}\\u003cbr\\u003eAvg Speed (km\\u002fh)=%{y}\\u003cextra\\u003e\\u003c\\u002fextra\\u003e\",\"legendgroup\":\"Train\",\"marker\":{\"color\":\"#FFA15A\"},\"name\":\"Train\",\"offsetgroup\":\"Train\",\"orientation\":\"v\",\"scalegroup\":\"True\",\"showlegend\":true,\"x\":[\"Train\",\"Train\",\"Train\",\"Train\",\"Train\",\"Train\",\"Train\",\"Train\",\"Train\",\"Train\",\"Train\",\"Train\",\"Train\",\"Train\",\"Train\",\"Train\",\"Train\",\"Train\",\"Train\",\"Train\",\"Train\",\"Train\",\"Train\",\"Train\",\"Train\",\"Train\",\"Train\",\"Train\",\"Train\",\"Train\",\"Train\",\"Train\",\"Train\"],\"x0\":\" \",\"xaxis\":\"x\",\"y\":[43.0,42.8,59.9,51.3,43.5,52.9,58.4,45.7,46.0,53.6,54.1,45.1,51.5,55.5,54.0,48.7,59.7,57.7,44.5,50.3,52.2,45.5,54.7,48.6,59.9,46.1,47.1,49.4,55.6,55.2,56.8,56.2,51.5],\"y0\":\" \",\"yaxis\":\"y\",\"type\":\"violin\"}],                        {\"template\":{\"data\":{\"histogram2dcontour\":[{\"type\":\"histogram2dcontour\",\"colorbar\":{\"outlinewidth\":0,\"ticks\":\"\"},\"colorscale\":[[0.0,\"#0d0887\"],[0.1111111111111111,\"#46039f\"],[0.2222222222222222,\"#7201a8\"],[0.3333333333333333,\"#9c179e\"],[0.4444444444444444,\"#bd3786\"],[0.5555555555555556,\"#d8576b\"],[0.6666666666666666,\"#ed7953\"],[0.7777777777777778,\"#fb9f3a\"],[0.8888888888888888,\"#fdca26\"],[1.0,\"#f0f921\"]]}],\"choropleth\":[{\"type\":\"choropleth\",\"colorbar\":{\"outlinewidth\":0,\"ticks\":\"\"}}],\"histogram2d\":[{\"type\":\"histogram2d\",\"colorbar\":{\"outlinewidth\":0,\"ticks\":\"\"},\"colorscale\":[[0.0,\"#0d0887\"],[0.1111111111111111,\"#46039f\"],[0.2222222222222222,\"#7201a8\"],[0.3333333333333333,\"#9c179e\"],[0.4444444444444444,\"#bd3786\"],[0.5555555555555556,\"#d8576b\"],[0.6666666666666666,\"#ed7953\"],[0.7777777777777778,\"#fb9f3a\"],[0.8888888888888888,\"#fdca26\"],[1.0,\"#f0f921\"]]}],\"heatmap\":[{\"type\":\"heatmap\",\"colorbar\":{\"outlinewidth\":0,\"ticks\":\"\"},\"colorscale\":[[0.0,\"#0d0887\"],[0.1111111111111111,\"#46039f\"],[0.2222222222222222,\"#7201a8\"],[0.3333333333333333,\"#9c179e\"],[0.4444444444444444,\"#bd3786\"],[0.5555555555555556,\"#d8576b\"],[0.6666666666666666,\"#ed7953\"],[0.7777777777777778,\"#fb9f3a\"],[0.8888888888888888,\"#fdca26\"],[1.0,\"#f0f921\"]]}],\"heatmapgl\":[{\"type\":\"heatmapgl\",\"colorbar\":{\"outlinewidth\":0,\"ticks\":\"\"},\"colorscale\":[[0.0,\"#0d0887\"],[0.1111111111111111,\"#46039f\"],[0.2222222222222222,\"#7201a8\"],[0.3333333333333333,\"#9c179e\"],[0.4444444444444444,\"#bd3786\"],[0.5555555555555556,\"#d8576b\"],[0.6666666666666666,\"#ed7953\"],[0.7777777777777778,\"#fb9f3a\"],[0.8888888888888888,\"#fdca26\"],[1.0,\"#f0f921\"]]}],\"contourcarpet\":[{\"type\":\"contourcarpet\",\"colorbar\":{\"outlinewidth\":0,\"ticks\":\"\"}}],\"contour\":[{\"type\":\"contour\",\"colorbar\":{\"outlinewidth\":0,\"ticks\":\"\"},\"colorscale\":[[0.0,\"#0d0887\"],[0.1111111111111111,\"#46039f\"],[0.2222222222222222,\"#7201a8\"],[0.3333333333333333,\"#9c179e\"],[0.4444444444444444,\"#bd3786\"],[0.5555555555555556,\"#d8576b\"],[0.6666666666666666,\"#ed7953\"],[0.7777777777777778,\"#fb9f3a\"],[0.8888888888888888,\"#fdca26\"],[1.0,\"#f0f921\"]]}],\"surface\":[{\"type\":\"surface\",\"colorbar\":{\"outlinewidth\":0,\"ticks\":\"\"},\"colorscale\":[[0.0,\"#0d0887\"],[0.1111111111111111,\"#46039f\"],[0.2222222222222222,\"#7201a8\"],[0.3333333333333333,\"#9c179e\"],[0.4444444444444444,\"#bd3786\"],[0.5555555555555556,\"#d8576b\"],[0.6666666666666666,\"#ed7953\"],[0.7777777777777778,\"#fb9f3a\"],[0.8888888888888888,\"#fdca26\"],[1.0,\"#f0f921\"]]}],\"mesh3d\":[{\"type\":\"mesh3d\",\"colorbar\":{\"outlinewidth\":0,\"ticks\":\"\"}}],\"scatter\":[{\"fillpattern\":{\"fillmode\":\"overlay\",\"size\":10,\"solidity\":0.2},\"type\":\"scatter\"}],\"parcoords\":[{\"type\":\"parcoords\",\"line\":{\"colorbar\":{\"outlinewidth\":0,\"ticks\":\"\"}}}],\"scatterpolargl\":[{\"type\":\"scatterpolargl\",\"marker\":{\"colorbar\":{\"outlinewidth\":0,\"ticks\":\"\"}}}],\"bar\":[{\"error_x\":{\"color\":\"#2a3f5f\"},\"error_y\":{\"color\":\"#2a3f5f\"},\"marker\":{\"line\":{\"color\":\"#E5ECF6\",\"width\":0.5},\"pattern\":{\"fillmode\":\"overlay\",\"size\":10,\"solidity\":0.2}},\"type\":\"bar\"}],\"scattergeo\":[{\"type\":\"scattergeo\",\"marker\":{\"colorbar\":{\"outlinewidth\":0,\"ticks\":\"\"}}}],\"scatterpolar\":[{\"type\":\"scatterpolar\",\"marker\":{\"colorbar\":{\"outlinewidth\":0,\"ticks\":\"\"}}}],\"histogram\":[{\"marker\":{\"pattern\":{\"fillmode\":\"overlay\",\"size\":10,\"solidity\":0.2}},\"type\":\"histogram\"}],\"scattergl\":[{\"type\":\"scattergl\",\"marker\":{\"colorbar\":{\"outlinewidth\":0,\"ticks\":\"\"}}}],\"scatter3d\":[{\"type\":\"scatter3d\",\"line\":{\"colorbar\":{\"outlinewidth\":0,\"ticks\":\"\"}},\"marker\":{\"colorbar\":{\"outlinewidth\":0,\"ticks\":\"\"}}}],\"scattermapbox\":[{\"type\":\"scattermapbox\",\"marker\":{\"colorbar\":{\"outlinewidth\":0,\"ticks\":\"\"}}}],\"scatterternary\":[{\"type\":\"scatterternary\",\"marker\":{\"colorbar\":{\"outlinewidth\":0,\"ticks\":\"\"}}}],\"scattercarpet\":[{\"type\":\"scattercarpet\",\"marker\":{\"colorbar\":{\"outlinewidth\":0,\"ticks\":\"\"}}}],\"carpet\":[{\"aaxis\":{\"endlinecolor\":\"#2a3f5f\",\"gridcolor\":\"white\",\"linecolor\":\"white\",\"minorgridcolor\":\"white\",\"startlinecolor\":\"#2a3f5f\"},\"baxis\":{\"endlinecolor\":\"#2a3f5f\",\"gridcolor\":\"white\",\"linecolor\":\"white\",\"minorgridcolor\":\"white\",\"startlinecolor\":\"#2a3f5f\"},\"type\":\"carpet\"}],\"table\":[{\"cells\":{\"fill\":{\"color\":\"#EBF0F8\"},\"line\":{\"color\":\"white\"}},\"header\":{\"fill\":{\"color\":\"#C8D4E3\"},\"line\":{\"color\":\"white\"}},\"type\":\"table\"}],\"barpolar\":[{\"marker\":{\"line\":{\"color\":\"#E5ECF6\",\"width\":0.5},\"pattern\":{\"fillmode\":\"overlay\",\"size\":10,\"solidity\":0.2}},\"type\":\"barpolar\"}],\"pie\":[{\"automargin\":true,\"type\":\"pie\"}]},\"layout\":{\"autotypenumbers\":\"strict\",\"colorway\":[\"#636efa\",\"#EF553B\",\"#00cc96\",\"#ab63fa\",\"#FFA15A\",\"#19d3f3\",\"#FF6692\",\"#B6E880\",\"#FF97FF\",\"#FECB52\"],\"font\":{\"color\":\"#2a3f5f\"},\"hovermode\":\"closest\",\"hoverlabel\":{\"align\":\"left\"},\"paper_bgcolor\":\"white\",\"plot_bgcolor\":\"#E5ECF6\",\"polar\":{\"bgcolor\":\"#E5ECF6\",\"angularaxis\":{\"gridcolor\":\"white\",\"linecolor\":\"white\",\"ticks\":\"\"},\"radialaxis\":{\"gridcolor\":\"white\",\"linecolor\":\"white\",\"ticks\":\"\"}},\"ternary\":{\"bgcolor\":\"#E5ECF6\",\"aaxis\":{\"gridcolor\":\"white\",\"linecolor\":\"white\",\"ticks\":\"\"},\"baxis\":{\"gridcolor\":\"white\",\"linecolor\":\"white\",\"ticks\":\"\"},\"caxis\":{\"gridcolor\":\"white\",\"linecolor\":\"white\",\"ticks\":\"\"}},\"coloraxis\":{\"colorbar\":{\"outlinewidth\":0,\"ticks\":\"\"}},\"colorscale\":{\"sequential\":[[0.0,\"#0d0887\"],[0.1111111111111111,\"#46039f\"],[0.2222222222222222,\"#7201a8\"],[0.3333333333333333,\"#9c179e\"],[0.4444444444444444,\"#bd3786\"],[0.5555555555555556,\"#d8576b\"],[0.6666666666666666,\"#ed7953\"],[0.7777777777777778,\"#fb9f3a\"],[0.8888888888888888,\"#fdca26\"],[1.0,\"#f0f921\"]],\"sequentialminus\":[[0.0,\"#0d0887\"],[0.1111111111111111,\"#46039f\"],[0.2222222222222222,\"#7201a8\"],[0.3333333333333333,\"#9c179e\"],[0.4444444444444444,\"#bd3786\"],[0.5555555555555556,\"#d8576b\"],[0.6666666666666666,\"#ed7953\"],[0.7777777777777778,\"#fb9f3a\"],[0.8888888888888888,\"#fdca26\"],[1.0,\"#f0f921\"]],\"diverging\":[[0,\"#8e0152\"],[0.1,\"#c51b7d\"],[0.2,\"#de77ae\"],[0.3,\"#f1b6da\"],[0.4,\"#fde0ef\"],[0.5,\"#f7f7f7\"],[0.6,\"#e6f5d0\"],[0.7,\"#b8e186\"],[0.8,\"#7fbc41\"],[0.9,\"#4d9221\"],[1,\"#276419\"]]},\"xaxis\":{\"gridcolor\":\"white\",\"linecolor\":\"white\",\"ticks\":\"\",\"title\":{\"standoff\":15},\"zerolinecolor\":\"white\",\"automargin\":true,\"zerolinewidth\":2},\"yaxis\":{\"gridcolor\":\"white\",\"linecolor\":\"white\",\"ticks\":\"\",\"title\":{\"standoff\":15},\"zerolinecolor\":\"white\",\"automargin\":true,\"zerolinewidth\":2},\"scene\":{\"xaxis\":{\"backgroundcolor\":\"#E5ECF6\",\"gridcolor\":\"white\",\"linecolor\":\"white\",\"showbackground\":true,\"ticks\":\"\",\"zerolinecolor\":\"white\",\"gridwidth\":2},\"yaxis\":{\"backgroundcolor\":\"#E5ECF6\",\"gridcolor\":\"white\",\"linecolor\":\"white\",\"showbackground\":true,\"ticks\":\"\",\"zerolinecolor\":\"white\",\"gridwidth\":2},\"zaxis\":{\"backgroundcolor\":\"#E5ECF6\",\"gridcolor\":\"white\",\"linecolor\":\"white\",\"showbackground\":true,\"ticks\":\"\",\"zerolinecolor\":\"white\",\"gridwidth\":2}},\"shapedefaults\":{\"line\":{\"color\":\"#2a3f5f\"}},\"annotationdefaults\":{\"arrowcolor\":\"#2a3f5f\",\"arrowhead\":0,\"arrowwidth\":1},\"geo\":{\"bgcolor\":\"white\",\"landcolor\":\"#E5ECF6\",\"subunitcolor\":\"white\",\"showland\":true,\"showlakes\":true,\"lakecolor\":\"white\"},\"title\":{\"x\":0.05},\"mapbox\":{\"style\":\"light\"}}},\"xaxis\":{\"anchor\":\"y\",\"domain\":[0.0,1.0],\"title\":{\"text\":\"Transport Mode\"},\"categoryorder\":\"array\",\"categoryarray\":[\"Walk\",\"Car\",\"Bus\",\"Bike\",\"Train\"]},\"yaxis\":{\"anchor\":\"x\",\"domain\":[0.0,1.0],\"title\":{\"text\":\"Avg Speed (km\\u002fh)\"}},\"legend\":{\"title\":{\"text\":\"Transport Mode\"},\"tracegroupgap\":0},\"title\":{\"text\":\"Distribution of Avg Speed by Transport Mode\"},\"violinmode\":\"overlay\",\"height\":600,\"width\":900},                        {\"responsive\": true}                    ).then(function(){\n",
              "                            \n",
              "var gd = document.getElementById('0bdbe549-4484-44de-a8db-d066beb0baa4');\n",
              "var x = new MutationObserver(function (mutations, observer) {{\n",
              "        var display = window.getComputedStyle(gd).display;\n",
              "        if (!display || display === 'none') {{\n",
              "            console.log([gd, 'removed!']);\n",
              "            Plotly.purge(gd);\n",
              "            observer.disconnect();\n",
              "        }}\n",
              "}});\n",
              "\n",
              "// Listen for the removal of the full notebook cells\n",
              "var notebookContainer = gd.closest('#notebook-container');\n",
              "if (notebookContainer) {{\n",
              "    x.observe(notebookContainer, {childList: true});\n",
              "}}\n",
              "\n",
              "// Listen for the clearing of the current output cell\n",
              "var outputEl = gd.closest('.output');\n",
              "if (outputEl) {{\n",
              "    x.observe(outputEl, {childList: true});\n",
              "}}\n",
              "\n",
              "                        })                };                            </script>        </div>\n",
              "</body>\n",
              "</html>"
            ]
          },
          "metadata": {},
          "output_type": "display_data"
        }
      ],
      "source": [
        "fig_distance_violin = px.violin(\n",
        "    urban,\n",
        "    x='Transport Mode',\n",
        "    y='Distance (km)',\n",
        "    color='Transport Mode',\n",
        "    title=\"Distribution of Distance by Transport Mode\",\n",
        "    box=True,\n",
        "    height=600,\n",
        "    width=900\n",
        ")\n",
        "fig_distance_violin.show()\n",
        "\n",
        "fig_speed_violin = px.violin(\n",
        "    urban,\n",
        "    x='Transport Mode',\n",
        "    y='Avg Speed (km/h)',\n",
        "    color='Transport Mode',\n",
        "    title=\"Distribution of Avg Speed by Transport Mode\",\n",
        "    box=True,\n",
        "    height=600,\n",
        "    width=900\n",
        ")\n",
        "fig_speed_violin.show()"
      ]
    },
    {
      "cell_type": "markdown",
      "metadata": {
        "id": "NbZb2MzVG3bE"
      },
      "source": [
        "# Predicting Travel Duration"
      ]
    },
    {
      "cell_type": "markdown",
      "metadata": {
        "id": "DRp9M5grFP2G"
      },
      "source": [
        "What if we wanted to use this data to predict `Travel Duration (mins)` given other variables? We are already going into machine learning models...\n",
        "\n",
        "To estimate this numerical/continuous variable, we will perform a **Regression Analysis**.\n",
        "\n",
        "We will import stuff from the [scikit-learn](https://scikit-learn.org/stable/) library.\n",
        "\n",
        "We need to convert our categorical variables to number in order for it to work:"
      ]
    },
    {
      "cell_type": "code",
      "execution_count": null,
      "metadata": {
        "colab": {
          "base_uri": "https://localhost:8080/",
          "height": 206
        },
        "id": "d-iSbPVCF4mH",
        "outputId": "dd2d3774-24dc-4af4-c8ba-ed60939f9507"
      },
      "outputs": [
        {
          "data": {
            "application/vnd.google.colaboratory.intrinsic+json": {
              "summary": "{\n  \"name\": \"X_regression_encoded\",\n  \"rows\": 215,\n  \"fields\": [\n    {\n      \"column\": \"Distance (km)\",\n      \"properties\": {\n        \"dtype\": \"number\",\n        \"std\": 5.8437248045568655,\n        \"min\": 0.61,\n        \"max\": 19.84,\n        \"num_unique_values\": 189,\n        \"samples\": [\n          1.81,\n          2.61,\n          5.96\n        ],\n        \"semantic_type\": \"\",\n        \"description\": \"\"\n      }\n    },\n    {\n      \"column\": \"Traffic Density\",\n      \"properties\": {\n        \"dtype\": \"number\",\n        \"std\": 0,\n        \"min\": 0,\n        \"max\": 2,\n        \"num_unique_values\": 3,\n        \"samples\": [\n          1,\n          2,\n          0\n        ],\n        \"semantic_type\": \"\",\n        \"description\": \"\"\n      }\n    },\n    {\n      \"column\": \"Time of Day\",\n      \"properties\": {\n        \"dtype\": \"number\",\n        \"std\": 1,\n        \"min\": 0,\n        \"max\": 3,\n        \"num_unique_values\": 4,\n        \"samples\": [\n          3,\n          2,\n          1\n        ],\n        \"semantic_type\": \"\",\n        \"description\": \"\"\n      }\n    },\n    {\n      \"column\": \"Weather Condition\",\n      \"properties\": {\n        \"dtype\": \"number\",\n        \"std\": 1,\n        \"min\": 0,\n        \"max\": 3,\n        \"num_unique_values\": 4,\n        \"samples\": [\n          3,\n          1,\n          2\n        ],\n        \"semantic_type\": \"\",\n        \"description\": \"\"\n      }\n    },\n    {\n      \"column\": \"Travel Duration (mins)\",\n      \"properties\": {\n        \"dtype\": \"number\",\n        \"std\": 10.912850359902018,\n        \"min\": 3.0,\n        \"max\": 63.5,\n        \"num_unique_values\": 149,\n        \"samples\": [\n          19.6,\n          25.5,\n          6.6\n        ],\n        \"semantic_type\": \"\",\n        \"description\": \"\"\n      }\n    },\n    {\n      \"column\": \"Avg Speed (km/h)\",\n      \"properties\": {\n        \"dtype\": \"number\",\n        \"std\": 14.122067461728472,\n        \"min\": 3.4,\n        \"max\": 59.9,\n        \"num_unique_values\": 160,\n        \"samples\": [\n          23.6,\n          44.5,\n          24.1\n        ],\n        \"semantic_type\": \"\",\n        \"description\": \"\"\n      }\n    },\n    {\n      \"column\": \"Transport Mode\",\n      \"properties\": {\n        \"dtype\": \"number\",\n        \"std\": 1,\n        \"min\": 0,\n        \"max\": 4,\n        \"num_unique_values\": 5,\n        \"samples\": [\n          2,\n          3,\n          1\n        ],\n        \"semantic_type\": \"\",\n        \"description\": \"\"\n      }\n    }\n  ]\n}",
              "type": "dataframe",
              "variable_name": "X_regression_encoded"
            },
            "text/html": [
              "\n",
              "  <div id=\"df-059f2dc0-5200-414f-bed8-0e66f5edde55\" class=\"colab-df-container\">\n",
              "    <div>\n",
              "<style scoped>\n",
              "    .dataframe tbody tr th:only-of-type {\n",
              "        vertical-align: middle;\n",
              "    }\n",
              "\n",
              "    .dataframe tbody tr th {\n",
              "        vertical-align: top;\n",
              "    }\n",
              "\n",
              "    .dataframe thead th {\n",
              "        text-align: right;\n",
              "    }\n",
              "</style>\n",
              "<table border=\"1\" class=\"dataframe\">\n",
              "  <thead>\n",
              "    <tr style=\"text-align: right;\">\n",
              "      <th></th>\n",
              "      <th>Distance (km)</th>\n",
              "      <th>Traffic Density</th>\n",
              "      <th>Time of Day</th>\n",
              "      <th>Weather Condition</th>\n",
              "      <th>Travel Duration (mins)</th>\n",
              "      <th>Avg Speed (km/h)</th>\n",
              "      <th>Transport Mode</th>\n",
              "    </tr>\n",
              "  </thead>\n",
              "  <tbody>\n",
              "    <tr>\n",
              "      <th>0</th>\n",
              "      <td>0.93</td>\n",
              "      <td>1</td>\n",
              "      <td>1</td>\n",
              "      <td>2</td>\n",
              "      <td>8.9</td>\n",
              "      <td>6.3</td>\n",
              "      <td>4</td>\n",
              "    </tr>\n",
              "    <tr>\n",
              "      <th>1</th>\n",
              "      <td>1.77</td>\n",
              "      <td>2</td>\n",
              "      <td>3</td>\n",
              "      <td>3</td>\n",
              "      <td>31.5</td>\n",
              "      <td>3.4</td>\n",
              "      <td>4</td>\n",
              "    </tr>\n",
              "    <tr>\n",
              "      <th>2</th>\n",
              "      <td>9.15</td>\n",
              "      <td>1</td>\n",
              "      <td>0</td>\n",
              "      <td>2</td>\n",
              "      <td>16.9</td>\n",
              "      <td>32.5</td>\n",
              "      <td>2</td>\n",
              "    </tr>\n",
              "    <tr>\n",
              "      <th>3</th>\n",
              "      <td>17.25</td>\n",
              "      <td>2</td>\n",
              "      <td>2</td>\n",
              "      <td>0</td>\n",
              "      <td>40.6</td>\n",
              "      <td>25.5</td>\n",
              "      <td>2</td>\n",
              "    </tr>\n",
              "    <tr>\n",
              "      <th>4</th>\n",
              "      <td>5.80</td>\n",
              "      <td>0</td>\n",
              "      <td>0</td>\n",
              "      <td>1</td>\n",
              "      <td>10.9</td>\n",
              "      <td>31.9</td>\n",
              "      <td>1</td>\n",
              "    </tr>\n",
              "  </tbody>\n",
              "</table>\n",
              "</div>\n",
              "    <div class=\"colab-df-buttons\">\n",
              "\n",
              "  <div class=\"colab-df-container\">\n",
              "    <button class=\"colab-df-convert\" onclick=\"convertToInteractive('df-059f2dc0-5200-414f-bed8-0e66f5edde55')\"\n",
              "            title=\"Convert this dataframe to an interactive table.\"\n",
              "            style=\"display:none;\">\n",
              "\n",
              "  <svg xmlns=\"http://www.w3.org/2000/svg\" height=\"24px\" viewBox=\"0 -960 960 960\">\n",
              "    <path d=\"M120-120v-720h720v720H120Zm60-500h600v-160H180v160Zm220 220h160v-160H400v160Zm0 220h160v-160H400v160ZM180-400h160v-160H180v160Zm440 0h160v-160H620v160ZM180-180h160v-160H180v160Zm440 0h160v-160H620v160Z\"/>\n",
              "  </svg>\n",
              "    </button>\n",
              "\n",
              "  <style>\n",
              "    .colab-df-container {\n",
              "      display:flex;\n",
              "      gap: 12px;\n",
              "    }\n",
              "\n",
              "    .colab-df-convert {\n",
              "      background-color: #E8F0FE;\n",
              "      border: none;\n",
              "      border-radius: 50%;\n",
              "      cursor: pointer;\n",
              "      display: none;\n",
              "      fill: #1967D2;\n",
              "      height: 32px;\n",
              "      padding: 0 0 0 0;\n",
              "      width: 32px;\n",
              "    }\n",
              "\n",
              "    .colab-df-convert:hover {\n",
              "      background-color: #E2EBFA;\n",
              "      box-shadow: 0px 1px 2px rgba(60, 64, 67, 0.3), 0px 1px 3px 1px rgba(60, 64, 67, 0.15);\n",
              "      fill: #174EA6;\n",
              "    }\n",
              "\n",
              "    .colab-df-buttons div {\n",
              "      margin-bottom: 4px;\n",
              "    }\n",
              "\n",
              "    [theme=dark] .colab-df-convert {\n",
              "      background-color: #3B4455;\n",
              "      fill: #D2E3FC;\n",
              "    }\n",
              "\n",
              "    [theme=dark] .colab-df-convert:hover {\n",
              "      background-color: #434B5C;\n",
              "      box-shadow: 0px 1px 3px 1px rgba(0, 0, 0, 0.15);\n",
              "      filter: drop-shadow(0px 1px 2px rgba(0, 0, 0, 0.3));\n",
              "      fill: #FFFFFF;\n",
              "    }\n",
              "  </style>\n",
              "\n",
              "    <script>\n",
              "      const buttonEl =\n",
              "        document.querySelector('#df-059f2dc0-5200-414f-bed8-0e66f5edde55 button.colab-df-convert');\n",
              "      buttonEl.style.display =\n",
              "        google.colab.kernel.accessAllowed ? 'block' : 'none';\n",
              "\n",
              "      async function convertToInteractive(key) {\n",
              "        const element = document.querySelector('#df-059f2dc0-5200-414f-bed8-0e66f5edde55');\n",
              "        const dataTable =\n",
              "          await google.colab.kernel.invokeFunction('convertToInteractive',\n",
              "                                                    [key], {});\n",
              "        if (!dataTable) return;\n",
              "\n",
              "        const docLinkHtml = 'Like what you see? Visit the ' +\n",
              "          '<a target=\"_blank\" href=https://colab.research.google.com/notebooks/data_table.ipynb>data table notebook</a>'\n",
              "          + ' to learn more about interactive tables.';\n",
              "        element.innerHTML = '';\n",
              "        dataTable['output_type'] = 'display_data';\n",
              "        await google.colab.output.renderOutput(dataTable, element);\n",
              "        const docLink = document.createElement('div');\n",
              "        docLink.innerHTML = docLinkHtml;\n",
              "        element.appendChild(docLink);\n",
              "      }\n",
              "    </script>\n",
              "  </div>\n",
              "\n",
              "\n",
              "<div id=\"df-0b789964-00ca-471c-abde-8e83d8e03770\">\n",
              "  <button class=\"colab-df-quickchart\" onclick=\"quickchart('df-0b789964-00ca-471c-abde-8e83d8e03770')\"\n",
              "            title=\"Suggest charts\"\n",
              "            style=\"display:none;\">\n",
              "\n",
              "<svg xmlns=\"http://www.w3.org/2000/svg\" height=\"24px\"viewBox=\"0 0 24 24\"\n",
              "     width=\"24px\">\n",
              "    <g>\n",
              "        <path d=\"M19 3H5c-1.1 0-2 .9-2 2v14c0 1.1.9 2 2 2h14c1.1 0 2-.9 2-2V5c0-1.1-.9-2-2-2zM9 17H7v-7h2v7zm4 0h-2V7h2v10zm4 0h-2v-4h2v4z\"/>\n",
              "    </g>\n",
              "</svg>\n",
              "  </button>\n",
              "\n",
              "<style>\n",
              "  .colab-df-quickchart {\n",
              "      --bg-color: #E8F0FE;\n",
              "      --fill-color: #1967D2;\n",
              "      --hover-bg-color: #E2EBFA;\n",
              "      --hover-fill-color: #174EA6;\n",
              "      --disabled-fill-color: #AAA;\n",
              "      --disabled-bg-color: #DDD;\n",
              "  }\n",
              "\n",
              "  [theme=dark] .colab-df-quickchart {\n",
              "      --bg-color: #3B4455;\n",
              "      --fill-color: #D2E3FC;\n",
              "      --hover-bg-color: #434B5C;\n",
              "      --hover-fill-color: #FFFFFF;\n",
              "      --disabled-bg-color: #3B4455;\n",
              "      --disabled-fill-color: #666;\n",
              "  }\n",
              "\n",
              "  .colab-df-quickchart {\n",
              "    background-color: var(--bg-color);\n",
              "    border: none;\n",
              "    border-radius: 50%;\n",
              "    cursor: pointer;\n",
              "    display: none;\n",
              "    fill: var(--fill-color);\n",
              "    height: 32px;\n",
              "    padding: 0;\n",
              "    width: 32px;\n",
              "  }\n",
              "\n",
              "  .colab-df-quickchart:hover {\n",
              "    background-color: var(--hover-bg-color);\n",
              "    box-shadow: 0 1px 2px rgba(60, 64, 67, 0.3), 0 1px 3px 1px rgba(60, 64, 67, 0.15);\n",
              "    fill: var(--button-hover-fill-color);\n",
              "  }\n",
              "\n",
              "  .colab-df-quickchart-complete:disabled,\n",
              "  .colab-df-quickchart-complete:disabled:hover {\n",
              "    background-color: var(--disabled-bg-color);\n",
              "    fill: var(--disabled-fill-color);\n",
              "    box-shadow: none;\n",
              "  }\n",
              "\n",
              "  .colab-df-spinner {\n",
              "    border: 2px solid var(--fill-color);\n",
              "    border-color: transparent;\n",
              "    border-bottom-color: var(--fill-color);\n",
              "    animation:\n",
              "      spin 1s steps(1) infinite;\n",
              "  }\n",
              "\n",
              "  @keyframes spin {\n",
              "    0% {\n",
              "      border-color: transparent;\n",
              "      border-bottom-color: var(--fill-color);\n",
              "      border-left-color: var(--fill-color);\n",
              "    }\n",
              "    20% {\n",
              "      border-color: transparent;\n",
              "      border-left-color: var(--fill-color);\n",
              "      border-top-color: var(--fill-color);\n",
              "    }\n",
              "    30% {\n",
              "      border-color: transparent;\n",
              "      border-left-color: var(--fill-color);\n",
              "      border-top-color: var(--fill-color);\n",
              "      border-right-color: var(--fill-color);\n",
              "    }\n",
              "    40% {\n",
              "      border-color: transparent;\n",
              "      border-right-color: var(--fill-color);\n",
              "      border-top-color: var(--fill-color);\n",
              "    }\n",
              "    60% {\n",
              "      border-color: transparent;\n",
              "      border-right-color: var(--fill-color);\n",
              "    }\n",
              "    80% {\n",
              "      border-color: transparent;\n",
              "      border-right-color: var(--fill-color);\n",
              "      border-bottom-color: var(--fill-color);\n",
              "    }\n",
              "    90% {\n",
              "      border-color: transparent;\n",
              "      border-bottom-color: var(--fill-color);\n",
              "    }\n",
              "  }\n",
              "</style>\n",
              "\n",
              "  <script>\n",
              "    async function quickchart(key) {\n",
              "      const quickchartButtonEl =\n",
              "        document.querySelector('#' + key + ' button');\n",
              "      quickchartButtonEl.disabled = true;  // To prevent multiple clicks.\n",
              "      quickchartButtonEl.classList.add('colab-df-spinner');\n",
              "      try {\n",
              "        const charts = await google.colab.kernel.invokeFunction(\n",
              "            'suggestCharts', [key], {});\n",
              "      } catch (error) {\n",
              "        console.error('Error during call to suggestCharts:', error);\n",
              "      }\n",
              "      quickchartButtonEl.classList.remove('colab-df-spinner');\n",
              "      quickchartButtonEl.classList.add('colab-df-quickchart-complete');\n",
              "    }\n",
              "    (() => {\n",
              "      let quickchartButtonEl =\n",
              "        document.querySelector('#df-0b789964-00ca-471c-abde-8e83d8e03770 button');\n",
              "      quickchartButtonEl.style.display =\n",
              "        google.colab.kernel.accessAllowed ? 'block' : 'none';\n",
              "    })();\n",
              "  </script>\n",
              "</div>\n",
              "\n",
              "    </div>\n",
              "  </div>\n"
            ],
            "text/plain": [
              "   Distance (km)  Traffic Density  Time of Day  Weather Condition  \\\n",
              "0           0.93                1            1                  2   \n",
              "1           1.77                2            3                  3   \n",
              "2           9.15                1            0                  2   \n",
              "3          17.25                2            2                  0   \n",
              "4           5.80                0            0                  1   \n",
              "\n",
              "   Travel Duration (mins)  Avg Speed (km/h)  Transport Mode  \n",
              "0                     8.9               6.3               4  \n",
              "1                    31.5               3.4               4  \n",
              "2                    16.9              32.5               2  \n",
              "3                    40.6              25.5               2  \n",
              "4                    10.9              31.9               1  "
            ]
          },
          "execution_count": 29,
          "metadata": {},
          "output_type": "execute_result"
        }
      ],
      "source": [
        "from sklearn.preprocessing import LabelEncoder\n",
        "\n",
        "# Initialize the label encoder\n",
        "label_encoder = LabelEncoder()\n",
        "\n",
        "# Convert categorical columns to numerical using label encoding\n",
        "X_regression_encoded = urban.copy()\n",
        "X_regression_encoded['Transport Mode'] = label_encoder.fit_transform(urban['Transport Mode'])\n",
        "X_regression_encoded['Traffic Density'] = label_encoder.fit_transform(urban['Traffic Density'])\n",
        "X_regression_encoded['Time of Day'] = label_encoder.fit_transform(urban['Time of Day'])\n",
        "X_regression_encoded['Weather Condition'] = label_encoder.fit_transform(urban['Weather Condition'])\n",
        "\n",
        "X_regression_encoded.head()"
      ]
    },
    {
      "cell_type": "markdown",
      "metadata": {
        "id": "c9U4u70gIRGx"
      },
      "source": [
        "We will split our columns into the data we are going to input, and the data we expect to get an answer for.\n",
        "\n",
        "`Travel Duration (mins)` is called our **target**.\n",
        "The other columns are called our **features**."
      ]
    },
    {
      "cell_type": "code",
      "execution_count": null,
      "metadata": {
        "id": "l3CmfHMiZ7Fv"
      },
      "outputs": [],
      "source": [
        "# Define features and target for regression\n",
        "X_regression = X_regression_encoded.drop(columns=['Travel Duration (mins)'])\n",
        "y_regression = urban['Travel Duration (mins)']"
      ]
    },
    {
      "cell_type": "markdown",
      "metadata": {
        "id": "XCaknYv7I1sl"
      },
      "source": [
        "Finally, we are going to split these into two sets: one for training our model, other for testing it."
      ]
    },
    {
      "cell_type": "code",
      "execution_count": null,
      "metadata": {
        "id": "seFmrsFZJCoO"
      },
      "outputs": [],
      "source": [
        "from sklearn.model_selection import train_test_split\n",
        "\n",
        "# Split the data into training and testing sets for regression\n",
        "X_train_regression, X_test_regression, y_train_regression, y_test_regression = train_test_split(X_regression, y_regression, test_size=0.3)"
      ]
    },
    {
      "cell_type": "markdown",
      "metadata": {
        "id": "aPjGgGy2JHIG"
      },
      "source": [
        "**📝 Exercise 6**: what does each dataframe here contains?\n",
        "\n",
        "`X_train_regression`: This holds most of the information (about 70%) from the dataset, but without the travel time (Travel Duration). It includes things like distance, traffic density, and weather. This is used to help the computer learn how these factors are related to travel time.\n",
        "\n",
        "`y_train_regression` : This holds the actual travel times (Travel Duration) for the same 70% of the data. The computer uses this to compare with the other information (distance, traffic, etc.) and learn patterns.\n",
        "\n",
        "`X_test_regression`: This holds the same kind of information as X_train_regression (distance, traffic, etc.) but comes from the other 30% of the dataset that we saved for testing. The computer will make predictions based on this data once it's done learning.\n",
        "\n",
        "`y_test_regression`: This holds the actual travel times for the remaining 30% of the data. It’s used to check how well the computer’s predictions match the real travel times."
      ]
    },
    {
      "cell_type": "markdown",
      "metadata": {
        "id": "zgG00YPTJZQu"
      },
      "source": [
        "We now need to normalize our features using a \"scaler\". Observe the code below:"
      ]
    },
    {
      "cell_type": "code",
      "execution_count": null,
      "metadata": {
        "id": "--nGpeagI9eS"
      },
      "outputs": [],
      "source": [
        "from sklearn.preprocessing import StandardScaler\n",
        "\n",
        "scaler = StandardScaler()\n",
        "X_train_regression_scaled = scaler.fit_transform(X_train_regression)\n",
        "X_test_regression_scaled = scaler.transform(X_test_regression)"
      ]
    },
    {
      "cell_type": "markdown",
      "metadata": {
        "id": "yg9w9sqGIWf6"
      },
      "source": [
        "**📝 Exercise 7**: Describe what happened with the values in each feature column."
      ]
    },
    {
      "cell_type": "markdown",
      "metadata": {
        "id": "1BD6PNgbJvmG"
      },
      "source": [
        "When we use a **scaler** like `StandardScaler`, it changes the values in each feature column (like distance or speed) so that:\n",
        "\n",
        "- The average value becomes 0.\n",
        "- The data is spread out evenly, with most values close to 0 and a consistent range.\n",
        "\n",
        "This helps the model because all the features are now on the same scale, even though they had different units before (like kilometers vs. minutes)."
      ]
    },
    {
      "cell_type": "markdown",
      "metadata": {
        "id": "Y1KyLJtZJwEg"
      },
      "source": [
        "At last, we are going to train our regressor. It is called k-NN Regressor, and the way it works will be explained next week. Observe:"
      ]
    },
    {
      "cell_type": "code",
      "execution_count": null,
      "metadata": {
        "colab": {
          "base_uri": "https://localhost:8080/",
          "height": 80
        },
        "id": "pUzGV_SRIca6",
        "outputId": "eec2afcf-faae-4d6c-e531-18ceb5339cec"
      },
      "outputs": [
        {
          "data": {
            "text/html": [
              "<style>#sk-container-id-2 {\n",
              "  /* Definition of color scheme common for light and dark mode */\n",
              "  --sklearn-color-text: black;\n",
              "  --sklearn-color-line: gray;\n",
              "  /* Definition of color scheme for unfitted estimators */\n",
              "  --sklearn-color-unfitted-level-0: #fff5e6;\n",
              "  --sklearn-color-unfitted-level-1: #f6e4d2;\n",
              "  --sklearn-color-unfitted-level-2: #ffe0b3;\n",
              "  --sklearn-color-unfitted-level-3: chocolate;\n",
              "  /* Definition of color scheme for fitted estimators */\n",
              "  --sklearn-color-fitted-level-0: #f0f8ff;\n",
              "  --sklearn-color-fitted-level-1: #d4ebff;\n",
              "  --sklearn-color-fitted-level-2: #b3dbfd;\n",
              "  --sklearn-color-fitted-level-3: cornflowerblue;\n",
              "\n",
              "  /* Specific color for light theme */\n",
              "  --sklearn-color-text-on-default-background: var(--sg-text-color, var(--theme-code-foreground, var(--jp-content-font-color1, black)));\n",
              "  --sklearn-color-background: var(--sg-background-color, var(--theme-background, var(--jp-layout-color0, white)));\n",
              "  --sklearn-color-border-box: var(--sg-text-color, var(--theme-code-foreground, var(--jp-content-font-color1, black)));\n",
              "  --sklearn-color-icon: #696969;\n",
              "\n",
              "  @media (prefers-color-scheme: dark) {\n",
              "    /* Redefinition of color scheme for dark theme */\n",
              "    --sklearn-color-text-on-default-background: var(--sg-text-color, var(--theme-code-foreground, var(--jp-content-font-color1, white)));\n",
              "    --sklearn-color-background: var(--sg-background-color, var(--theme-background, var(--jp-layout-color0, #111)));\n",
              "    --sklearn-color-border-box: var(--sg-text-color, var(--theme-code-foreground, var(--jp-content-font-color1, white)));\n",
              "    --sklearn-color-icon: #878787;\n",
              "  }\n",
              "}\n",
              "\n",
              "#sk-container-id-2 {\n",
              "  color: var(--sklearn-color-text);\n",
              "}\n",
              "\n",
              "#sk-container-id-2 pre {\n",
              "  padding: 0;\n",
              "}\n",
              "\n",
              "#sk-container-id-2 input.sk-hidden--visually {\n",
              "  border: 0;\n",
              "  clip: rect(1px 1px 1px 1px);\n",
              "  clip: rect(1px, 1px, 1px, 1px);\n",
              "  height: 1px;\n",
              "  margin: -1px;\n",
              "  overflow: hidden;\n",
              "  padding: 0;\n",
              "  position: absolute;\n",
              "  width: 1px;\n",
              "}\n",
              "\n",
              "#sk-container-id-2 div.sk-dashed-wrapped {\n",
              "  border: 1px dashed var(--sklearn-color-line);\n",
              "  margin: 0 0.4em 0.5em 0.4em;\n",
              "  box-sizing: border-box;\n",
              "  padding-bottom: 0.4em;\n",
              "  background-color: var(--sklearn-color-background);\n",
              "}\n",
              "\n",
              "#sk-container-id-2 div.sk-container {\n",
              "  /* jupyter's `normalize.less` sets `[hidden] { display: none; }`\n",
              "     but bootstrap.min.css set `[hidden] { display: none !important; }`\n",
              "     so we also need the `!important` here to be able to override the\n",
              "     default hidden behavior on the sphinx rendered scikit-learn.org.\n",
              "     See: https://github.com/scikit-learn/scikit-learn/issues/21755 */\n",
              "  display: inline-block !important;\n",
              "  position: relative;\n",
              "}\n",
              "\n",
              "#sk-container-id-2 div.sk-text-repr-fallback {\n",
              "  display: none;\n",
              "}\n",
              "\n",
              "div.sk-parallel-item,\n",
              "div.sk-serial,\n",
              "div.sk-item {\n",
              "  /* draw centered vertical line to link estimators */\n",
              "  background-image: linear-gradient(var(--sklearn-color-text-on-default-background), var(--sklearn-color-text-on-default-background));\n",
              "  background-size: 2px 100%;\n",
              "  background-repeat: no-repeat;\n",
              "  background-position: center center;\n",
              "}\n",
              "\n",
              "/* Parallel-specific style estimator block */\n",
              "\n",
              "#sk-container-id-2 div.sk-parallel-item::after {\n",
              "  content: \"\";\n",
              "  width: 100%;\n",
              "  border-bottom: 2px solid var(--sklearn-color-text-on-default-background);\n",
              "  flex-grow: 1;\n",
              "}\n",
              "\n",
              "#sk-container-id-2 div.sk-parallel {\n",
              "  display: flex;\n",
              "  align-items: stretch;\n",
              "  justify-content: center;\n",
              "  background-color: var(--sklearn-color-background);\n",
              "  position: relative;\n",
              "}\n",
              "\n",
              "#sk-container-id-2 div.sk-parallel-item {\n",
              "  display: flex;\n",
              "  flex-direction: column;\n",
              "}\n",
              "\n",
              "#sk-container-id-2 div.sk-parallel-item:first-child::after {\n",
              "  align-self: flex-end;\n",
              "  width: 50%;\n",
              "}\n",
              "\n",
              "#sk-container-id-2 div.sk-parallel-item:last-child::after {\n",
              "  align-self: flex-start;\n",
              "  width: 50%;\n",
              "}\n",
              "\n",
              "#sk-container-id-2 div.sk-parallel-item:only-child::after {\n",
              "  width: 0;\n",
              "}\n",
              "\n",
              "/* Serial-specific style estimator block */\n",
              "\n",
              "#sk-container-id-2 div.sk-serial {\n",
              "  display: flex;\n",
              "  flex-direction: column;\n",
              "  align-items: center;\n",
              "  background-color: var(--sklearn-color-background);\n",
              "  padding-right: 1em;\n",
              "  padding-left: 1em;\n",
              "}\n",
              "\n",
              "\n",
              "/* Toggleable style: style used for estimator/Pipeline/ColumnTransformer box that is\n",
              "clickable and can be expanded/collapsed.\n",
              "- Pipeline and ColumnTransformer use this feature and define the default style\n",
              "- Estimators will overwrite some part of the style using the `sk-estimator` class\n",
              "*/\n",
              "\n",
              "/* Pipeline and ColumnTransformer style (default) */\n",
              "\n",
              "#sk-container-id-2 div.sk-toggleable {\n",
              "  /* Default theme specific background. It is overwritten whether we have a\n",
              "  specific estimator or a Pipeline/ColumnTransformer */\n",
              "  background-color: var(--sklearn-color-background);\n",
              "}\n",
              "\n",
              "/* Toggleable label */\n",
              "#sk-container-id-2 label.sk-toggleable__label {\n",
              "  cursor: pointer;\n",
              "  display: block;\n",
              "  width: 100%;\n",
              "  margin-bottom: 0;\n",
              "  padding: 0.5em;\n",
              "  box-sizing: border-box;\n",
              "  text-align: center;\n",
              "}\n",
              "\n",
              "#sk-container-id-2 label.sk-toggleable__label-arrow:before {\n",
              "  /* Arrow on the left of the label */\n",
              "  content: \"▸\";\n",
              "  float: left;\n",
              "  margin-right: 0.25em;\n",
              "  color: var(--sklearn-color-icon);\n",
              "}\n",
              "\n",
              "#sk-container-id-2 label.sk-toggleable__label-arrow:hover:before {\n",
              "  color: var(--sklearn-color-text);\n",
              "}\n",
              "\n",
              "/* Toggleable content - dropdown */\n",
              "\n",
              "#sk-container-id-2 div.sk-toggleable__content {\n",
              "  max-height: 0;\n",
              "  max-width: 0;\n",
              "  overflow: hidden;\n",
              "  text-align: left;\n",
              "  /* unfitted */\n",
              "  background-color: var(--sklearn-color-unfitted-level-0);\n",
              "}\n",
              "\n",
              "#sk-container-id-2 div.sk-toggleable__content.fitted {\n",
              "  /* fitted */\n",
              "  background-color: var(--sklearn-color-fitted-level-0);\n",
              "}\n",
              "\n",
              "#sk-container-id-2 div.sk-toggleable__content pre {\n",
              "  margin: 0.2em;\n",
              "  border-radius: 0.25em;\n",
              "  color: var(--sklearn-color-text);\n",
              "  /* unfitted */\n",
              "  background-color: var(--sklearn-color-unfitted-level-0);\n",
              "}\n",
              "\n",
              "#sk-container-id-2 div.sk-toggleable__content.fitted pre {\n",
              "  /* unfitted */\n",
              "  background-color: var(--sklearn-color-fitted-level-0);\n",
              "}\n",
              "\n",
              "#sk-container-id-2 input.sk-toggleable__control:checked~div.sk-toggleable__content {\n",
              "  /* Expand drop-down */\n",
              "  max-height: 200px;\n",
              "  max-width: 100%;\n",
              "  overflow: auto;\n",
              "}\n",
              "\n",
              "#sk-container-id-2 input.sk-toggleable__control:checked~label.sk-toggleable__label-arrow:before {\n",
              "  content: \"▾\";\n",
              "}\n",
              "\n",
              "/* Pipeline/ColumnTransformer-specific style */\n",
              "\n",
              "#sk-container-id-2 div.sk-label input.sk-toggleable__control:checked~label.sk-toggleable__label {\n",
              "  color: var(--sklearn-color-text);\n",
              "  background-color: var(--sklearn-color-unfitted-level-2);\n",
              "}\n",
              "\n",
              "#sk-container-id-2 div.sk-label.fitted input.sk-toggleable__control:checked~label.sk-toggleable__label {\n",
              "  background-color: var(--sklearn-color-fitted-level-2);\n",
              "}\n",
              "\n",
              "/* Estimator-specific style */\n",
              "\n",
              "/* Colorize estimator box */\n",
              "#sk-container-id-2 div.sk-estimator input.sk-toggleable__control:checked~label.sk-toggleable__label {\n",
              "  /* unfitted */\n",
              "  background-color: var(--sklearn-color-unfitted-level-2);\n",
              "}\n",
              "\n",
              "#sk-container-id-2 div.sk-estimator.fitted input.sk-toggleable__control:checked~label.sk-toggleable__label {\n",
              "  /* fitted */\n",
              "  background-color: var(--sklearn-color-fitted-level-2);\n",
              "}\n",
              "\n",
              "#sk-container-id-2 div.sk-label label.sk-toggleable__label,\n",
              "#sk-container-id-2 div.sk-label label {\n",
              "  /* The background is the default theme color */\n",
              "  color: var(--sklearn-color-text-on-default-background);\n",
              "}\n",
              "\n",
              "/* On hover, darken the color of the background */\n",
              "#sk-container-id-2 div.sk-label:hover label.sk-toggleable__label {\n",
              "  color: var(--sklearn-color-text);\n",
              "  background-color: var(--sklearn-color-unfitted-level-2);\n",
              "}\n",
              "\n",
              "/* Label box, darken color on hover, fitted */\n",
              "#sk-container-id-2 div.sk-label.fitted:hover label.sk-toggleable__label.fitted {\n",
              "  color: var(--sklearn-color-text);\n",
              "  background-color: var(--sklearn-color-fitted-level-2);\n",
              "}\n",
              "\n",
              "/* Estimator label */\n",
              "\n",
              "#sk-container-id-2 div.sk-label label {\n",
              "  font-family: monospace;\n",
              "  font-weight: bold;\n",
              "  display: inline-block;\n",
              "  line-height: 1.2em;\n",
              "}\n",
              "\n",
              "#sk-container-id-2 div.sk-label-container {\n",
              "  text-align: center;\n",
              "}\n",
              "\n",
              "/* Estimator-specific */\n",
              "#sk-container-id-2 div.sk-estimator {\n",
              "  font-family: monospace;\n",
              "  border: 1px dotted var(--sklearn-color-border-box);\n",
              "  border-radius: 0.25em;\n",
              "  box-sizing: border-box;\n",
              "  margin-bottom: 0.5em;\n",
              "  /* unfitted */\n",
              "  background-color: var(--sklearn-color-unfitted-level-0);\n",
              "}\n",
              "\n",
              "#sk-container-id-2 div.sk-estimator.fitted {\n",
              "  /* fitted */\n",
              "  background-color: var(--sklearn-color-fitted-level-0);\n",
              "}\n",
              "\n",
              "/* on hover */\n",
              "#sk-container-id-2 div.sk-estimator:hover {\n",
              "  /* unfitted */\n",
              "  background-color: var(--sklearn-color-unfitted-level-2);\n",
              "}\n",
              "\n",
              "#sk-container-id-2 div.sk-estimator.fitted:hover {\n",
              "  /* fitted */\n",
              "  background-color: var(--sklearn-color-fitted-level-2);\n",
              "}\n",
              "\n",
              "/* Specification for estimator info (e.g. \"i\" and \"?\") */\n",
              "\n",
              "/* Common style for \"i\" and \"?\" */\n",
              "\n",
              ".sk-estimator-doc-link,\n",
              "a:link.sk-estimator-doc-link,\n",
              "a:visited.sk-estimator-doc-link {\n",
              "  float: right;\n",
              "  font-size: smaller;\n",
              "  line-height: 1em;\n",
              "  font-family: monospace;\n",
              "  background-color: var(--sklearn-color-background);\n",
              "  border-radius: 1em;\n",
              "  height: 1em;\n",
              "  width: 1em;\n",
              "  text-decoration: none !important;\n",
              "  margin-left: 1ex;\n",
              "  /* unfitted */\n",
              "  border: var(--sklearn-color-unfitted-level-1) 1pt solid;\n",
              "  color: var(--sklearn-color-unfitted-level-1);\n",
              "}\n",
              "\n",
              ".sk-estimator-doc-link.fitted,\n",
              "a:link.sk-estimator-doc-link.fitted,\n",
              "a:visited.sk-estimator-doc-link.fitted {\n",
              "  /* fitted */\n",
              "  border: var(--sklearn-color-fitted-level-1) 1pt solid;\n",
              "  color: var(--sklearn-color-fitted-level-1);\n",
              "}\n",
              "\n",
              "/* On hover */\n",
              "div.sk-estimator:hover .sk-estimator-doc-link:hover,\n",
              ".sk-estimator-doc-link:hover,\n",
              "div.sk-label-container:hover .sk-estimator-doc-link:hover,\n",
              ".sk-estimator-doc-link:hover {\n",
              "  /* unfitted */\n",
              "  background-color: var(--sklearn-color-unfitted-level-3);\n",
              "  color: var(--sklearn-color-background);\n",
              "  text-decoration: none;\n",
              "}\n",
              "\n",
              "div.sk-estimator.fitted:hover .sk-estimator-doc-link.fitted:hover,\n",
              ".sk-estimator-doc-link.fitted:hover,\n",
              "div.sk-label-container:hover .sk-estimator-doc-link.fitted:hover,\n",
              ".sk-estimator-doc-link.fitted:hover {\n",
              "  /* fitted */\n",
              "  background-color: var(--sklearn-color-fitted-level-3);\n",
              "  color: var(--sklearn-color-background);\n",
              "  text-decoration: none;\n",
              "}\n",
              "\n",
              "/* Span, style for the box shown on hovering the info icon */\n",
              ".sk-estimator-doc-link span {\n",
              "  display: none;\n",
              "  z-index: 9999;\n",
              "  position: relative;\n",
              "  font-weight: normal;\n",
              "  right: .2ex;\n",
              "  padding: .5ex;\n",
              "  margin: .5ex;\n",
              "  width: min-content;\n",
              "  min-width: 20ex;\n",
              "  max-width: 50ex;\n",
              "  color: var(--sklearn-color-text);\n",
              "  box-shadow: 2pt 2pt 4pt #999;\n",
              "  /* unfitted */\n",
              "  background: var(--sklearn-color-unfitted-level-0);\n",
              "  border: .5pt solid var(--sklearn-color-unfitted-level-3);\n",
              "}\n",
              "\n",
              ".sk-estimator-doc-link.fitted span {\n",
              "  /* fitted */\n",
              "  background: var(--sklearn-color-fitted-level-0);\n",
              "  border: var(--sklearn-color-fitted-level-3);\n",
              "}\n",
              "\n",
              ".sk-estimator-doc-link:hover span {\n",
              "  display: block;\n",
              "}\n",
              "\n",
              "/* \"?\"-specific style due to the `<a>` HTML tag */\n",
              "\n",
              "#sk-container-id-2 a.estimator_doc_link {\n",
              "  float: right;\n",
              "  font-size: 1rem;\n",
              "  line-height: 1em;\n",
              "  font-family: monospace;\n",
              "  background-color: var(--sklearn-color-background);\n",
              "  border-radius: 1rem;\n",
              "  height: 1rem;\n",
              "  width: 1rem;\n",
              "  text-decoration: none;\n",
              "  /* unfitted */\n",
              "  color: var(--sklearn-color-unfitted-level-1);\n",
              "  border: var(--sklearn-color-unfitted-level-1) 1pt solid;\n",
              "}\n",
              "\n",
              "#sk-container-id-2 a.estimator_doc_link.fitted {\n",
              "  /* fitted */\n",
              "  border: var(--sklearn-color-fitted-level-1) 1pt solid;\n",
              "  color: var(--sklearn-color-fitted-level-1);\n",
              "}\n",
              "\n",
              "/* On hover */\n",
              "#sk-container-id-2 a.estimator_doc_link:hover {\n",
              "  /* unfitted */\n",
              "  background-color: var(--sklearn-color-unfitted-level-3);\n",
              "  color: var(--sklearn-color-background);\n",
              "  text-decoration: none;\n",
              "}\n",
              "\n",
              "#sk-container-id-2 a.estimator_doc_link.fitted:hover {\n",
              "  /* fitted */\n",
              "  background-color: var(--sklearn-color-fitted-level-3);\n",
              "}\n",
              "</style><div id=\"sk-container-id-2\" class=\"sk-top-container\"><div class=\"sk-text-repr-fallback\"><pre>KNeighborsRegressor()</pre><b>In a Jupyter environment, please rerun this cell to show the HTML representation or trust the notebook. <br />On GitHub, the HTML representation is unable to render, please try loading this page with nbviewer.org.</b></div><div class=\"sk-container\" hidden><div class=\"sk-item\"><div class=\"sk-estimator fitted sk-toggleable\"><input class=\"sk-toggleable__control sk-hidden--visually\" id=\"sk-estimator-id-2\" type=\"checkbox\" checked><label for=\"sk-estimator-id-2\" class=\"sk-toggleable__label fitted sk-toggleable__label-arrow fitted\">&nbsp;&nbsp;KNeighborsRegressor<a class=\"sk-estimator-doc-link fitted\" rel=\"noreferrer\" target=\"_blank\" href=\"https://scikit-learn.org/1.5/modules/generated/sklearn.neighbors.KNeighborsRegressor.html\">?<span>Documentation for KNeighborsRegressor</span></a><span class=\"sk-estimator-doc-link fitted\">i<span>Fitted</span></span></label><div class=\"sk-toggleable__content fitted\"><pre>KNeighborsRegressor()</pre></div> </div></div></div></div>"
            ],
            "text/plain": [
              "KNeighborsRegressor()"
            ]
          },
          "execution_count": 33,
          "metadata": {},
          "output_type": "execute_result"
        }
      ],
      "source": [
        "from sklearn.neighbors import KNeighborsRegressor\n",
        "\n",
        "# Train k-NN regressor\n",
        "knn_regressor = KNeighborsRegressor(n_neighbors=5)\n",
        "knn_regressor.fit(X_train_regression_scaled, y_train_regression)"
      ]
    },
    {
      "cell_type": "markdown",
      "metadata": {
        "id": "_AhJ7D2xKYIe"
      },
      "source": [
        "**📝 Exercise 8**: Now that we have our model, try to predict the Travel Time once we have this data:\n",
        "\n",
        "Distance (km): 7.27\\\n",
        "Traffic Density: 1.00 (Low)\\\n",
        "Time of Day: 0.00 (Afternoon)\\\n",
        "Weather Condition: 1.00 (Foggy)\\\n",
        "Avg Speed (km/h):\t29.90\\\n",
        "Transport Mode:\t2.00 (Car)\n",
        "\n",
        "Set it in the following way, and use the `scaler` we created to set the numbers to the right scale:"
      ]
    },
    {
      "cell_type": "code",
      "execution_count": null,
      "metadata": {
        "id": "Gtcqp1opL_8m"
      },
      "outputs": [],
      "source": [
        "new_data = {\n",
        "    \"Distance (km)\": [7.27],\n",
        "    \"Traffic Density\": [1.00],\n",
        "    \"Time of Day\": [0.00],\n",
        "    \"Weather Condition\": [1.00],\n",
        "    \"Avg Speed (km/h)\": [29.90],\n",
        "    \"Transport Mode\": [2.00]\n",
        "}\n",
        "data_in = pd.DataFrame(new_data)\n",
        "data_in_scaled = scaler.transform(data_in)"
      ]
    },
    {
      "cell_type": "markdown",
      "metadata": {
        "id": "7JcQoJZnM0_T"
      },
      "source": [
        "Use `knn_regressor.predict()` and pass `data_in_scaled` as argument. Get the answer.\n",
        "According to our data, this should be around 14.6 minutes. What is the difference error?"
      ]
    },
    {
      "cell_type": "code",
      "execution_count": null,
      "metadata": {
        "colab": {
          "base_uri": "https://localhost:8080/"
        },
        "id": "SiIMnuUJM0oO",
        "outputId": "7d77d47f-d1ef-4a64-bbf2-3f4d05b32515"
      },
      "outputs": [
        {
          "data": {
            "text/plain": [
              "(15.559999999999999, 0.9599999999999991)"
            ]
          },
          "execution_count": 20,
          "metadata": {},
          "output_type": "execute_result"
        }
      ],
      "source": [
        "predicted_duration = knn_regressor.predict(data_in_scaled)\n",
        "actual_duration = 14.6\n",
        "difference_error = abs(predicted_duration[0] - actual_duration)\n",
        "predicted_duration[0], difference_error"
      ]
    },
    {
      "cell_type": "markdown",
      "metadata": {
        "id": "q5il3BXxNo7O"
      },
      "source": [
        "Answer: The predicted travel time is 15.56. So, the difference error is 0.96 minutes"
      ]
    },
    {
      "cell_type": "markdown",
      "metadata": {
        "id": "rFiRwPyWJyZR"
      },
      "source": [
        "**📝 Exercise 9**: Let's predict the whole test dataset and set it to `y_pred_regression`. If our model is working well, it should correspond closely to `y_test_regression` (which contains the \"right answers\").\n",
        "\n",
        "How can we evaluate the errors? We can use metrics such as Mean Absolute Error (MAE) and Mean Squared Error (MSE).\n",
        "\n",
        "Import these from scikit learn: `from sklearn.metrics import mean_absolute_error, mean_squared_error`\n",
        "\n",
        "Use them (you may want to check documentation). What are the results? Is this acceptable? (At least by looking at MAE... MSE applies a square and is harder to grasp.)"
      ]
    },
    {
      "cell_type": "code",
      "execution_count": null,
      "metadata": {
        "id": "rjC3Ysi6NxVk"
      },
      "outputs": [],
      "source": [
        "y_predicted = knn_regressor.predict(X_test_regression_scaled)"
      ]
    },
    {
      "cell_type": "code",
      "execution_count": null,
      "metadata": {
        "colab": {
          "base_uri": "https://localhost:8080/"
        },
        "id": "AJovn_4-J8eR",
        "outputId": "1feaba86-3c5a-4197-e60e-4578a16d4957"
      },
      "outputs": [
        {
          "name": "stdout",
          "output_type": "stream",
          "text": [
            "Mean Absolute Error(MAE):  3.8080000000000003\n",
            "Mean Squared Error(MSE):  25.583716923076924\n"
          ]
        }
      ],
      "source": [
        "# use mean_absolute_error with y_predicted and y_test_regression\n",
        "from sklearn.metrics import mean_absolute_error, mean_squared_error\n",
        "mae = mean_absolute_error(y_test_regression, y_predicted)\n",
        "mse = mean_squared_error(y_test_regression, y_predicted)\n",
        "print(\"Mean Absolute Error(MAE): \", mae)\n",
        "print(\"Mean Squared Error(MSE): \", mse)"
      ]
    },
    {
      "cell_type": "markdown",
      "metadata": {
        "id": "I8PQGV-wRy23"
      },
      "source": [
        "The **MAE** of 3.65 means that, on average, our model’s predictions are about 3.65 minutes off from the actual travel time. This is a decent result for this kind of problem, but there’s room to make it better. The **MSE** is higher because it squares the differences, which makes bigger mistakes seem even larger."
      ]
    },
    {
      "cell_type": "markdown",
      "metadata": {
        "id": "fy4TkklNko_r"
      },
      "source": [
        "**📝 Reflection Exercise**: Write a sentence or two of your overall\n",
        "reflections on this practice. You may write whatever you want, but you\n",
        "might perhaps respond to one or two of these questions:\n",
        "\n",
        "-   Was anything unclear about this assignment?\n",
        "  - There wasn’t anything unclear about this assignment. Breaking the notebook into sections made it easier to follow.\n",
        "-   How hard was it for you? Where did you get “stuck”?\n",
        "  - Like previous assignments, it was a bit challenging, but it was a good opportunity to apply what we've learned in class.\n",
        "-   How long did it take you?\n",
        "  - It took me about an 1 - 1 1/2 hours to complete.\n",
        "-   What questions or uncertainties remain?\n",
        "  - I don’t have any remaining questions or uncertainties.\n",
        "-   What skills do you think you’ll need more practice with?\n",
        "  - I think more practice in general would be helpful to further apply and strengthen the skills we've learned.\n",
        "-   Did you try anything out of curiosity that you weren’t specifically\n",
        "    asked to do?\n",
        "      - I didn’t try anything outside the assignment instructions this time."
      ]
    },
    {
      "cell_type": "markdown",
      "metadata": {
        "id": "0oTQ_xVhRdNE"
      },
      "source": [
        "# Extra: publishing your model"
      ]
    },
    {
      "cell_type": "markdown",
      "metadata": {
        "id": "wI6FVCtiO9fA"
      },
      "source": [
        "If you want to publish this as a streamlit app, install streamlit with:"
      ]
    },
    {
      "cell_type": "code",
      "execution_count": null,
      "metadata": {
        "id": "-W3tYUdwPErC"
      },
      "outputs": [],
      "source": [
        "!pip install -q streamlit"
      ]
    },
    {
      "cell_type": "markdown",
      "metadata": {
        "id": "jMKbrgejPFZ6"
      },
      "source": [
        "Now write the complete code in a file called app.py"
      ]
    },
    {
      "cell_type": "code",
      "execution_count": null,
      "metadata": {
        "colab": {
          "base_uri": "https://localhost:8080/"
        },
        "id": "mISKT9LOPFE4",
        "outputId": "16757a6f-6e48-4012-9976-577be2229f52"
      },
      "outputs": [
        {
          "name": "stdout",
          "output_type": "stream",
          "text": [
            "Overwriting app.py\n"
          ]
        }
      ],
      "source": [
        "%%writefile app.py\n",
        "\n",
        "import streamlit as st\n",
        "import pandas as pd\n",
        "from sklearn.preprocessing import StandardScaler\n",
        "from sklearn.neighbors import KNeighborsRegressor\n",
        "from sklearn.preprocessing import LabelEncoder\n",
        "\n",
        "# Sample training data to create the model\n",
        "df = pd.read_csv(\"https://cs.calvin.edu/courses/data/202/fsantos/datasets/urban_mobility.csv\")\n",
        "\n",
        "# Initialize the label encoder\n",
        "label_encoder = LabelEncoder()\n",
        "\n",
        "# Label encode the categorical columns\n",
        "label_encoders = {\n",
        "    \"Traffic Density\": LabelEncoder(),\n",
        "    \"Time of Day\": LabelEncoder(),\n",
        "    \"Weather Condition\": LabelEncoder(),\n",
        "    \"Transport Mode\": LabelEncoder()\n",
        "}\n",
        "for col in label_encoders:\n",
        "    df[col] = label_encoders[col].fit_transform(df[col])\n",
        "\n",
        "# Define features and target variable\n",
        "X = df.drop(columns=['Travel Duration (mins)'])\n",
        "y = df['Travel Duration (mins)']\n",
        "\n",
        "# Standardize the features\n",
        "scaler = StandardScaler()\n",
        "X_scaled = scaler.fit_transform(X)\n",
        "\n",
        "# Create and train the k-NN regressor model\n",
        "knn_regressor = KNeighborsRegressor(n_neighbors=3)\n",
        "knn_regressor.fit(X_scaled, y)\n",
        "\n",
        "# Streamlit interface\n",
        "st.title(\"Travel Duration Prediction\")\n",
        "\n",
        "st.write(\"Enter the values for the features below:\")\n",
        "\n",
        "# User inputs for the feature columns\n",
        "distance = st.number_input(\"Distance (km)\", min_value=0.0, max_value=50.0, step=0.1, value=7.27)\n",
        "\n",
        "# Get label options from the LabelEncoder and use them for dropdown menus\n",
        "traffic_density_input = st.selectbox(\"Traffic Density\", options=label_encoders['Traffic Density'].classes_)\n",
        "time_of_day_input = st.selectbox(\"Time of Day\", options=label_encoders['Time of Day'].classes_)\n",
        "weather_condition_input = st.selectbox(\"Weather Condition\", options=label_encoders['Weather Condition'].classes_)\n",
        "transport_mode_input = st.selectbox(\"Transport Mode\", options=label_encoders['Transport Mode'].classes_)\n",
        "\n",
        "# Avg Speed input\n",
        "avg_speed = st.number_input(\"Avg Speed (km/h)\", min_value=0.0, max_value=200.0, step=0.1, value=29.9)\n",
        "\n",
        "# Encode the user inputs using the same encoders used during training\n",
        "encoded_traffic_density = label_encoders['Traffic Density'].transform([traffic_density_input])[0]\n",
        "encoded_time_of_day = label_encoders['Time of Day'].transform([time_of_day_input])[0]\n",
        "encoded_weather_condition = label_encoders['Weather Condition'].transform([weather_condition_input])[0]\n",
        "encoded_transport_mode = label_encoders['Transport Mode'].transform([transport_mode_input])[0]\n",
        "\n",
        "# Create a DataFrame for the input values\n",
        "input_data = pd.DataFrame({\n",
        "    \"Distance (km)\": [distance],\n",
        "    \"Traffic Density\": [encoded_traffic_density],\n",
        "    \"Time of Day\": [encoded_time_of_day],\n",
        "    \"Weather Condition\": [encoded_weather_condition],\n",
        "    \"Avg Speed (km/h)\": [avg_speed],\n",
        "    \"Transport Mode\": [encoded_transport_mode]\n",
        "})\n",
        "\n",
        "# Standardize the input data using the same scaler\n",
        "input_data_scaled = scaler.transform(input_data)\n",
        "\n",
        "# Make predictions using the trained model\n",
        "predicted_duration = knn_regressor.predict(input_data_scaled)\n",
        "\n",
        "# Display the prediction\n",
        "st.write(f\"### Predicted Travel Duration: {predicted_duration[0]:.2f} minutes\")"
      ]
    },
    {
      "cell_type": "markdown",
      "metadata": {
        "id": "G1FfmZaIPXBv"
      },
      "source": [
        "For publishing, install *localtunnel*"
      ]
    },
    {
      "cell_type": "code",
      "execution_count": null,
      "metadata": {
        "colab": {
          "base_uri": "https://localhost:8080/"
        },
        "id": "Ax8OY-2iPZk_",
        "outputId": "ee2ca1ce-b993-4c1f-e21b-2fbb6375f3bc"
      },
      "outputs": [
        {
          "name": "stdout",
          "output_type": "stream",
          "text": [
            "\u001b[K\u001b[?25h\n",
            "up to date, audited 23 packages in 1s\n",
            "\n",
            "3 packages are looking for funding\n",
            "  run `npm fund` for details\n",
            "\n",
            "2 \u001b[33m\u001b[1mmoderate\u001b[22m\u001b[39m severity vulnerabilities\n",
            "\n",
            "To address all issues (including breaking changes), run:\n",
            "  npm audit fix --force\n",
            "\n",
            "Run `npm audit` for details.\n"
          ]
        }
      ],
      "source": [
        "!npm install localtunnel"
      ]
    },
    {
      "cell_type": "markdown",
      "metadata": {
        "id": "oXaqMNVlPbp4"
      },
      "source": [
        "Now, run a streamlit server.\n",
        "\n",
        "You will get a URL. Put the password shown in the opening page."
      ]
    },
    {
      "cell_type": "code",
      "execution_count": null,
      "metadata": {
        "colab": {
          "background_save": true,
          "base_uri": "https://localhost:8080/"
        },
        "id": "A9H6fZcTPlgn",
        "outputId": "42e4f97c-ddac-494a-aa60-56f65534a760"
      },
      "outputs": [
        {
          "name": "stdout",
          "output_type": "stream",
          "text": [
            "Password/Enpoint IP for localtunnel is: 34.80.49.32\n",
            "your url is: https://mean-states-hammer.loca.lt\n"
          ]
        }
      ],
      "source": [
        "import urllib\n",
        "print(\"Password/Enpoint IP for localtunnel is:\",urllib.request.urlopen('https://ipv4.icanhazip.com').read().decode('utf8').strip(\"\\n\"))\n",
        "!streamlit run /content/app.py &>/content/logs.txt & npx localtunnel --port 8501"
      ]
    },
    {
      "cell_type": "code",
      "execution_count": null,
      "metadata": {
        "id": "1gbUku-CyN1I"
      },
      "outputs": [],
      "source": []
    }
  ],
  "metadata": {
    "colab": {
      "provenance": []
    },
    "kernelspec": {
      "display_name": "Python 3",
      "name": "python3"
    },
    "language_info": {
      "name": "python"
    }
  },
  "nbformat": 4,
  "nbformat_minor": 0
}